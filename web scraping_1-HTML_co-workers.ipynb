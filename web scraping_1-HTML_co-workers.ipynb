{
 "cells": [
  {
   "cell_type": "markdown",
   "metadata": {},
   "source": [
    "# Web Scraping: List of My Future Co-Workers - HTML version\n",
    "\n",
    "Scrape the employee list on the website of my employer, store all content in a DataFrame. This is the simple HTML version. As only the first 100 employees are displayed initially one the site (more are loaded when a 'load more' button is clicked), the output only contains these 100 employees.\n",
    "\n",
    "### Data Sources\n",
    "\n",
    "- `https://implementconsultinggroup.com/who-we-are/people/`: List of all employees at Implement Consulting Group\n",
    "\n",
    "### Changes\n",
    "\n",
    "- 2019-02-25: Start project\n"
   ]
  },
  {
   "cell_type": "markdown",
   "metadata": {},
   "source": [
    "---"
   ]
  },
  {
   "cell_type": "markdown",
   "metadata": {},
   "source": [
    "### Import libraries, load data"
   ]
  },
  {
   "cell_type": "code",
   "execution_count": 80,
   "metadata": {},
   "outputs": [],
   "source": [
    "# Import libraries\n",
    "import numpy as np\n",
    "import pandas as pd\n",
    "import requests\n",
    "from bs4 import BeautifulSoup\n",
    "from wordcloud import WordCloud\n",
    "\n",
    "# My functions\n",
    "import EDA_functions as EDA\n",
    "import cleaning_functions as cleaning\n",
    "\n",
    "# Visualization\n",
    "import matplotlib.pyplot as plt\n",
    "import seaborn as sns #, sns.set_style('whitegrid')\n",
    "color = 'rebeccapurple'\n",
    "%matplotlib inline\n",
    "\n",
    "# Display settings\n",
    "from IPython.display import display\n",
    "pd.options.display.max_columns = 100"
   ]
  },
  {
   "cell_type": "markdown",
   "metadata": {},
   "source": [
    "## 1) Scrape Employee-Data, Create Adressbook"
   ]
  },
  {
   "cell_type": "code",
   "execution_count": null,
   "metadata": {},
   "outputs": [],
   "source": [
    "## Try to get around the 'load more' button - not yet sucessful\n",
    "\n",
    "# with requests.Session() as session:\n",
    "#     response = session.post(\"https://implementconsultinggroup.com/who-we-are/people/\", \n",
    "#                             data={'action': 'load_more'})\n",
    "#     print(response.content)"
   ]
  },
  {
   "cell_type": "code",
   "execution_count": 8,
   "metadata": {},
   "outputs": [],
   "source": [
    "# Fetch web page\n",
    "response = requests.get(\"https://implementconsultinggroup.com/who-we-are/people/\")"
   ]
  },
  {
   "cell_type": "code",
   "execution_count": 10,
   "metadata": {},
   "outputs": [
    {
     "data": {
      "text/plain": [
       "bs4.BeautifulSoup"
      ]
     },
     "execution_count": 10,
     "metadata": {},
     "output_type": "execute_result"
    }
   ],
   "source": [
    "# Make soup, pass text of content\n",
    "soup = BeautifulSoup(response.text, \"lxml\")\n",
    "type(soup)"
   ]
  },
  {
   "cell_type": "code",
   "execution_count": 11,
   "metadata": {},
   "outputs": [
    {
     "name": "stdout",
     "output_type": "stream",
     "text": [
      "100\n"
     ]
    }
   ],
   "source": [
    "# Find employees, use BeautifulSoup's find_all method based on tag type and class name\n",
    "employees = soup.find_all('div', {'class': \"BasicGridModule base-teaser EmployeeTeaserModule mini\"})\n",
    "print(len(employees))"
   ]
  },
  {
   "cell_type": "code",
   "execution_count": 47,
   "metadata": {},
   "outputs": [
    {
     "name": "stdout",
     "output_type": "stream",
     "text": [
      "<div class=\"BasicGridModule base-teaser EmployeeTeaserModule mini\" data-filters=\"1652,employee,0\" data-group=\"A\">\n",
      " <div class=\"inner\">\n",
      "  <div class=\"media-con\">\n",
      "   <div aria-label=\"Adam Cornfield from Implement Consulting Group\" class=\"media image\" data-aspect=\"11/12\" data-crop=\"true\" data-focal=\"0.18666666666666668,0.52\" data-res=\"1500,1500\" data-size=\"cover\" data-url=\"/media/3492/adco_01390.jpg\" role=\"img\" style=\"padding-top:109.0909%;\" title=\"Adam Cornfield from Implement Consulting Group\">\n",
      "    <noscript>\n",
      "     <img alt=\"Adam Cornfield from Implement Consulting Group\" src=\"/media/3492/adco_01390.jpg?width=1500&amp;height=1500&amp;center=0.18666666666666668,0.52&amp;mode=crop&amp;cropmode=percentage\"/>\n",
      "    </noscript>\n",
      "   </div>\n",
      "  </div>\n",
      "  <div class=\"copy\">\n",
      "   <h4>\n",
      "    Adam Cornfield\n",
      "   </h4>\n",
      "   <div class=\"text\">\n",
      "    <a href=\"tel:+45 2338 0025\">\n",
      "     +45 2338 0025\n",
      "    </a>\n",
      "    <br/>\n",
      "    <a href=\"mailto:adco@implement.dk\">\n",
      "     adco@implement.dk\n",
      "    </a>\n",
      "   </div>\n",
      "  </div>\n",
      " </div>\n",
      "</div>\n",
      "\n"
     ]
    }
   ],
   "source": [
    "# Inspect the first employee to find selectors for the different attributes\n",
    "# Note: Make sure to use print() to ensure whitespace is displayed properly\n",
    "print(employees[3].prettify())"
   ]
  },
  {
   "cell_type": "code",
   "execution_count": 46,
   "metadata": {},
   "outputs": [
    {
     "name": "stdout",
     "output_type": "stream",
     "text": [
      "Adam Cornfield\n",
      "+45 2338 0025\n",
      "adco@implement.dk\n"
     ]
    }
   ],
   "source": [
    "# Test output on first employee\n",
    "print(employees[3].select_one(\"h4\").get_text().strip())\n",
    "links = employees[3].find_all('a')\n",
    "for link in links:\n",
    "    text = link.get_text()\n",
    "    if text != \"LinkedIn\":\n",
    "        print(text)\n",
    "    else:\n",
    "        print(link['href'])"
   ]
  },
  {
   "cell_type": "code",
   "execution_count": 62,
   "metadata": {},
   "outputs": [],
   "source": [
    "# Store Contact Details for Employees in DataFrame\n",
    "\n",
    "employees_list = []\n",
    "\n",
    "for employee in employees:\n",
    "    name = employee.select_one(\"h4\").get_text().strip()\n",
    "    given, last = name.split(' ', 1)\n",
    "    links = employee.find_all('a')\n",
    "    for e, link in enumerate(links):\n",
    "        if e == 0:\n",
    "            phone = link.get_text().strip()\n",
    "        if e == 1:\n",
    "            mail = link.get_text().strip()\n",
    "        else:\n",
    "            if len(links) == 2:\n",
    "                linkedIn = ''\n",
    "            else:\n",
    "                linkedIn = link['href']\n",
    "            \n",
    "    employees_list.append({'Given Name': given,\n",
    "                           'Last Name': last,\n",
    "                           'Phone': phone,\n",
    "                           'E-Mail': mail,\n",
    "                           'LinkedIn Profile': linkedIn\n",
    "                          })        \n",
    "\n",
    "adressbook = pd.DataFrame(employees_list, columns = employees_list[0].keys())"
   ]
  },
  {
   "cell_type": "code",
   "execution_count": 100,
   "metadata": {},
   "outputs": [
    {
     "data": {
      "text/html": [
       "<div>\n",
       "<style scoped>\n",
       "    .dataframe tbody tr th:only-of-type {\n",
       "        vertical-align: middle;\n",
       "    }\n",
       "\n",
       "    .dataframe tbody tr th {\n",
       "        vertical-align: top;\n",
       "    }\n",
       "\n",
       "    .dataframe thead th {\n",
       "        text-align: right;\n",
       "    }\n",
       "</style>\n",
       "<table border=\"1\" class=\"dataframe\">\n",
       "  <thead>\n",
       "    <tr style=\"text-align: right;\">\n",
       "      <th></th>\n",
       "      <th>Given Name</th>\n",
       "      <th>Last Name</th>\n",
       "      <th>Phone</th>\n",
       "      <th>E-Mail</th>\n",
       "      <th>LinkedIn Profile</th>\n",
       "      <th>Country</th>\n",
       "    </tr>\n",
       "  </thead>\n",
       "  <tbody>\n",
       "    <tr>\n",
       "      <th>0</th>\n",
       "      <td>Aage</td>\n",
       "      <td>Lemche-Romvig</td>\n",
       "      <td>+45 3085 8012</td>\n",
       "      <td>alr@implement.dk</td>\n",
       "      <td>https://dk.linkedin.com/in/romvig</td>\n",
       "      <td>DK</td>\n",
       "    </tr>\n",
       "    <tr>\n",
       "      <th>1</th>\n",
       "      <td>Abtin</td>\n",
       "      <td>Salahshor</td>\n",
       "      <td>+46 0722 391338</td>\n",
       "      <td>absa@implement.dk</td>\n",
       "      <td>https://www.linkedin.com/in/abtinsalahshor/</td>\n",
       "      <td>DK</td>\n",
       "    </tr>\n",
       "    <tr>\n",
       "      <th>2</th>\n",
       "      <td>Adam</td>\n",
       "      <td>Cederholm</td>\n",
       "      <td>+46 704 225 404</td>\n",
       "      <td>adce@implement.se</td>\n",
       "      <td>https://www.linkedin.com/in/adam-cederholm-207...</td>\n",
       "      <td>SE</td>\n",
       "    </tr>\n",
       "    <tr>\n",
       "      <th>3</th>\n",
       "      <td>Adam</td>\n",
       "      <td>Cornfield</td>\n",
       "      <td>+45 2338 0025</td>\n",
       "      <td>adco@implement.dk</td>\n",
       "      <td></td>\n",
       "      <td>DK</td>\n",
       "    </tr>\n",
       "    <tr>\n",
       "      <th>4</th>\n",
       "      <td>Adam</td>\n",
       "      <td>Hede</td>\n",
       "      <td>+45 3095 3195</td>\n",
       "      <td>adhe@implement.dk</td>\n",
       "      <td>https://www.linkedin.com/in/adamhede/</td>\n",
       "      <td>DK</td>\n",
       "    </tr>\n",
       "  </tbody>\n",
       "</table>\n",
       "</div>"
      ],
      "text/plain": [
       "  Given Name      Last Name            Phone             E-Mail  \\\n",
       "0       Aage  Lemche-Romvig    +45 3085 8012   alr@implement.dk   \n",
       "1      Abtin      Salahshor  +46 0722 391338  absa@implement.dk   \n",
       "2       Adam      Cederholm  +46 704 225 404  adce@implement.se   \n",
       "3       Adam      Cornfield    +45 2338 0025  adco@implement.dk   \n",
       "4       Adam           Hede    +45 3095 3195  adhe@implement.dk   \n",
       "\n",
       "                                    LinkedIn Profile Country  \n",
       "0                  https://dk.linkedin.com/in/romvig      DK  \n",
       "1        https://www.linkedin.com/in/abtinsalahshor/      DK  \n",
       "2  https://www.linkedin.com/in/adam-cederholm-207...      SE  \n",
       "3                                                         DK  \n",
       "4              https://www.linkedin.com/in/adamhede/      DK  "
      ]
     },
     "metadata": {},
     "output_type": "display_data"
    }
   ],
   "source": [
    "# Create a country column\n",
    "adressbook['Country'] = adressbook['E-Mail'].str.split('.').str.get(1).str.upper()\n",
    "adressbook['Country'].value_counts()\n",
    "\n",
    "# Check results\n",
    "len(adressbook)\n",
    "display(adressbook.head())"
   ]
  },
  {
   "cell_type": "markdown",
   "metadata": {},
   "source": [
    "---"
   ]
  }
 ],
 "metadata": {
  "kernelspec": {
   "display_name": "Python [conda env:Anaconda3]",
   "language": "python",
   "name": "conda-env-Anaconda3-py"
  },
  "language_info": {
   "codemirror_mode": {
    "name": "ipython",
    "version": 3
   },
   "file_extension": ".py",
   "mimetype": "text/x-python",
   "name": "python",
   "nbconvert_exporter": "python",
   "pygments_lexer": "ipython3",
   "version": "3.6.3"
  }
 },
 "nbformat": 4,
 "nbformat_minor": 2
}
