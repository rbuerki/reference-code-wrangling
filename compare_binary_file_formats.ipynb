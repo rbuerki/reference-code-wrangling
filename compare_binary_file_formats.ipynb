{
 "cells": [
  {
   "cell_type": "markdown",
   "metadata": {},
   "source": [
    "# Experiment with different binary I/O formats for pandas dataframes\n",
    "\n",
    "Formats in the test:\n",
    "- csv\n",
    "- pickle\n",
    "- feather\n",
    "- parquet\n",
    "\n",
    "Dataset for the test: \n",
    "- Transaction data with nearly 6 Mio. rows.\n",
    "- dtypes: category(1), datetime64(1), float64(2), int64(4), object(1)\n",
    "\n",
    "\n",
    "Results:\n",
    " - All binary formats are _way_ much faster at writing than csv\n",
    " - All binary formats keep dtype information (csv does not)\n",
    " - Parquet has much smaller filesize than csv, pickle and feather with standard compression don't gain whit this dataset\n",
    " - Pickle has the fastest reads, feather the fastest writes\n",
    " \n",
    "Some addidional remarks:\n",
    " - Pickle and feather are not recommended for long-time storage\n",
    " - Parquet offers the option to read dfs only partially from disc (see very end of notebook)\n",
    " - Parquet also allows for distributed storage / computing (not tested here)\n",
    " - csv wins out on human readability and a large compatibility with other programs / languages\n",
    " \n",
    "Blogposts with more information / tests:\n",
    "- https://towardsdatascience.com/stop-persisting-pandas-data-frames-in-csvs-f369a6440af5\n",
    "- https://towardsdatascience.com/the-best-format-to-save-pandas-data-414dca023e0d"
   ]
  },
  {
   "cell_type": "code",
   "execution_count": 1,
   "metadata": {
    "ExecuteTime": {
     "end_time": "2020-09-01T06:24:04.064016Z",
     "start_time": "2020-09-01T06:24:03.713933Z"
    }
   },
   "outputs": [],
   "source": [
    "import os\n",
    "import random\n",
    "import string\n",
    "import pandas as pd"
   ]
  },
  {
   "cell_type": "code",
   "execution_count": 2,
   "metadata": {
    "ExecuteTime": {
     "end_time": "2020-09-01T06:24:10.265929Z",
     "start_time": "2020-09-01T06:24:04.064951Z"
    }
   },
   "outputs": [],
   "source": [
    "# Load and prepare df (original data is saved as csv, we define some special datatypes)\n",
    "\n",
    "df = pd.read_csv(\"transactions.csv\", parse_dates=[\"DateSK\"], dtype={\"Basiswarengruppe\": \"category\"})"
   ]
  },
  {
   "cell_type": "code",
   "execution_count": 4,
   "metadata": {
    "ExecuteTime": {
     "end_time": "2020-09-01T06:24:59.603287Z",
     "start_time": "2020-09-01T06:24:33.181088Z"
    }
   },
   "outputs": [],
   "source": [
    "# Add an object column too with random strings of length 3-10\n",
    "\n",
    "letters = string.ascii_letters\n",
    "list_of_strings = [\n",
    "    ''.join(random.choice(letters)\n",
    "    for _ in range(random.randint(3, 10)))\n",
    "    for _ in range(len(df))\n",
    "]\n",
    "df[\"String\"] = list_of_strings"
   ]
  },
  {
   "cell_type": "code",
   "execution_count": 5,
   "metadata": {
    "ExecuteTime": {
     "end_time": "2020-09-01T06:25:02.037066Z",
     "start_time": "2020-09-01T06:25:02.021066Z"
    }
   },
   "outputs": [
    {
     "name": "stdout",
     "output_type": "stream",
     "text": [
      "<class 'pandas.core.frame.DataFrame'>\n",
      "RangeIndex: 5940559 entries, 0 to 5940558\n",
      "Data columns (total 9 columns):\n",
      " #   Column              Dtype         \n",
      "---  ------              -----         \n",
      " 0   DateSK              datetime64[ns]\n",
      " 1   Amount              float64       \n",
      " 2   MemberAK            int64         \n",
      " 3   SiteSK              int64         \n",
      " 4   TransactionItemSK   int64         \n",
      " 5   AnalysisCode1       int64         \n",
      " 6   ist_umsatz_Loeb_mp  float64       \n",
      " 7   Basiswarengruppe    category      \n",
      " 8   String              object        \n",
      "dtypes: category(1), datetime64[ns](1), float64(2), int64(4), object(1)\n",
      "memory usage: 368.2+ MB\n"
     ]
    }
   ],
   "source": [
    "df.info()"
   ]
  },
  {
   "cell_type": "code",
   "execution_count": 6,
   "metadata": {
    "ExecuteTime": {
     "end_time": "2020-09-01T06:25:08.872048Z",
     "start_time": "2020-09-01T06:25:08.787055Z"
    }
   },
   "outputs": [
    {
     "data": {
      "text/html": [
       "<div>\n",
       "<style scoped>\n",
       "    .dataframe tbody tr th:only-of-type {\n",
       "        vertical-align: middle;\n",
       "    }\n",
       "\n",
       "    .dataframe tbody tr th {\n",
       "        vertical-align: top;\n",
       "    }\n",
       "\n",
       "    .dataframe thead th {\n",
       "        text-align: right;\n",
       "    }\n",
       "</style>\n",
       "<table border=\"1\" class=\"dataframe\">\n",
       "  <thead>\n",
       "    <tr style=\"text-align: right;\">\n",
       "      <th></th>\n",
       "      <th>DateSK</th>\n",
       "      <th>Amount</th>\n",
       "      <th>MemberAK</th>\n",
       "      <th>SiteSK</th>\n",
       "      <th>TransactionItemSK</th>\n",
       "      <th>AnalysisCode1</th>\n",
       "      <th>ist_umsatz_Loeb_mp</th>\n",
       "      <th>Basiswarengruppe</th>\n",
       "      <th>String</th>\n",
       "    </tr>\n",
       "  </thead>\n",
       "  <tbody>\n",
       "    <tr>\n",
       "      <th>0</th>\n",
       "      <td>2018-02-20</td>\n",
       "      <td>2.25</td>\n",
       "      <td>1235113</td>\n",
       "      <td>48</td>\n",
       "      <td>41203157</td>\n",
       "      <td>50104</td>\n",
       "      <td>1.0</td>\n",
       "      <td>Lebensmittel</td>\n",
       "      <td>HGaVffr</td>\n",
       "    </tr>\n",
       "    <tr>\n",
       "      <th>1</th>\n",
       "      <td>2018-10-19</td>\n",
       "      <td>6.95</td>\n",
       "      <td>1243518</td>\n",
       "      <td>49</td>\n",
       "      <td>41269022</td>\n",
       "      <td>16102</td>\n",
       "      <td>1.0</td>\n",
       "      <td>Damenunterbekleidung</td>\n",
       "      <td>PolNufwiKa</td>\n",
       "    </tr>\n",
       "  </tbody>\n",
       "</table>\n",
       "</div>"
      ],
      "text/plain": [
       "      DateSK  Amount  MemberAK  SiteSK  TransactionItemSK  AnalysisCode1  \\\n",
       "0 2018-02-20    2.25   1235113      48           41203157          50104   \n",
       "1 2018-10-19    6.95   1243518      49           41269022          16102   \n",
       "\n",
       "   ist_umsatz_Loeb_mp      Basiswarengruppe      String  \n",
       "0                 1.0          Lebensmittel     HGaVffr  \n",
       "1                 1.0  Damenunterbekleidung  PolNufwiKa  "
      ]
     },
     "execution_count": 6,
     "metadata": {},
     "output_type": "execute_result"
    }
   ],
   "source": [
    "df.head(2)"
   ]
  },
  {
   "cell_type": "markdown",
   "metadata": {},
   "source": [
    "## CSV Format (baseline)"
   ]
  },
  {
   "cell_type": "code",
   "execution_count": 7,
   "metadata": {
    "ExecuteTime": {
     "end_time": "2020-09-01T06:49:07.747274Z",
     "start_time": "2020-09-01T06:27:49.458640Z"
    }
   },
   "outputs": [
    {
     "name": "stdout",
     "output_type": "stream",
     "text": [
      "1min ± 2.42 s per loop (mean ± std. dev. of 7 runs, 3 loops each)\n"
     ]
    }
   ],
   "source": [
    "%timeit -n 3 df.to_csv(\"transactions_out.csv\", index=False)"
   ]
  },
  {
   "cell_type": "code",
   "execution_count": 8,
   "metadata": {
    "ExecuteTime": {
     "end_time": "2020-09-01T06:51:33.036061Z",
     "start_time": "2020-09-01T06:50:18.553471Z"
    }
   },
   "outputs": [
    {
     "name": "stdout",
     "output_type": "stream",
     "text": [
      "3.52 s ± 135 ms per loop (mean ± std. dev. of 7 runs, 3 loops each)\n"
     ]
    }
   ],
   "source": [
    "%timeit -n 3 df_csv = pd.read_csv(\"transactions.csv\")"
   ]
  },
  {
   "cell_type": "code",
   "execution_count": 13,
   "metadata": {
    "ExecuteTime": {
     "end_time": "2020-09-01T06:54:34.251179Z",
     "start_time": "2020-09-01T06:54:34.245863Z"
    }
   },
   "outputs": [
    {
     "name": "stdout",
     "output_type": "stream",
     "text": [
      "Filesize 389,091.21\n"
     ]
    }
   ],
   "source": [
    "print(f\"Filesize {os.path.getsize('transactions_out.csv') / 1024 :,.2f}\")"
   ]
  },
  {
   "cell_type": "code",
   "execution_count": 16,
   "metadata": {
    "ExecuteTime": {
     "end_time": "2020-09-01T06:56:18.292287Z",
     "start_time": "2020-09-01T06:56:18.284296Z"
    }
   },
   "outputs": [
    {
     "name": "stdout",
     "output_type": "stream",
     "text": [
      "<class 'pandas.core.frame.DataFrame'>\n",
      "RangeIndex: 5940559 entries, 0 to 5940558\n",
      "Data columns (total 9 columns):\n",
      " #   Column              Dtype  \n",
      "---  ------              -----  \n",
      " 0   DateSK              object \n",
      " 1   Amount              float64\n",
      " 2   MemberAK            int64  \n",
      " 3   SiteSK              int64  \n",
      " 4   TransactionItemSK   int64  \n",
      " 5   AnalysisCode1       int64  \n",
      " 6   ist_umsatz_Loeb_mp  float64\n",
      " 7   Basiswarengruppe    object \n",
      " 8   String              object \n",
      "dtypes: float64(2), int64(4), object(3)\n",
      "memory usage: 407.9+ MB\n"
     ]
    }
   ],
   "source": [
    "df_csv = pd.read_csv(\"transactions_out.csv\")\n",
    "df_csv.info()"
   ]
  },
  {
   "cell_type": "markdown",
   "metadata": {},
   "source": [
    "## Pickle\n",
    "\n",
    "[docs](https://docs.python.org/3/library/pickle.html)"
   ]
  },
  {
   "cell_type": "code",
   "execution_count": 17,
   "metadata": {
    "ExecuteTime": {
     "end_time": "2020-09-01T06:56:46.276004Z",
     "start_time": "2020-09-01T06:56:46.268006Z"
    }
   },
   "outputs": [],
   "source": [
    "import pickle"
   ]
  },
  {
   "cell_type": "code",
   "execution_count": 23,
   "metadata": {
    "ExecuteTime": {
     "end_time": "2020-09-01T07:03:16.703545Z",
     "start_time": "2020-09-01T07:02:12.384256Z"
    }
   },
   "outputs": [
    {
     "name": "stdout",
     "output_type": "stream",
     "text": [
      "3.06 s ± 72.2 ms per loop (mean ± std. dev. of 7 runs, 3 loops each)\n"
     ]
    }
   ],
   "source": [
    "%%timeit -n 3\n",
    "with open(f\"transactions_out.pkl\", \"wb\") as f:\n",
    "    pickle.dump(df, f, pickle.HIGHEST_PROTOCOL)"
   ]
  },
  {
   "cell_type": "code",
   "execution_count": 19,
   "metadata": {
    "ExecuteTime": {
     "end_time": "2020-09-01T06:58:47.879029Z",
     "start_time": "2020-09-01T06:58:24.510028Z"
    }
   },
   "outputs": [
    {
     "name": "stdout",
     "output_type": "stream",
     "text": [
      "1.05 s ± 6.5 ms per loop (mean ± std. dev. of 7 runs, 3 loops each)\n"
     ]
    }
   ],
   "source": [
    "%%timeit -n 3\n",
    "with open(f\"transactions_out.pkl\", \"rb\") as f:\n",
    "    df_pkl = pickle.load(f)"
   ]
  },
  {
   "cell_type": "code",
   "execution_count": 20,
   "metadata": {
    "ExecuteTime": {
     "end_time": "2020-09-01T06:58:55.997007Z",
     "start_time": "2020-09-01T06:58:55.992305Z"
    }
   },
   "outputs": [
    {
     "name": "stdout",
     "output_type": "stream",
     "text": [
      "Filesize 385,800.03\n"
     ]
    }
   ],
   "source": [
    "print(f\"Filesize {os.path.getsize('transactions_out.pkl') / 1024 :,.2f}\")"
   ]
  },
  {
   "cell_type": "code",
   "execution_count": 22,
   "metadata": {
    "ExecuteTime": {
     "end_time": "2020-09-01T06:59:18.457886Z",
     "start_time": "2020-09-01T06:59:17.479888Z"
    }
   },
   "outputs": [
    {
     "name": "stdout",
     "output_type": "stream",
     "text": [
      "<class 'pandas.core.frame.DataFrame'>\n",
      "RangeIndex: 5940559 entries, 0 to 5940558\n",
      "Data columns (total 9 columns):\n",
      " #   Column              Dtype         \n",
      "---  ------              -----         \n",
      " 0   DateSK              datetime64[ns]\n",
      " 1   Amount              float64       \n",
      " 2   MemberAK            int64         \n",
      " 3   SiteSK              int64         \n",
      " 4   TransactionItemSK   int64         \n",
      " 5   AnalysisCode1       int64         \n",
      " 6   ist_umsatz_Loeb_mp  float64       \n",
      " 7   Basiswarengruppe    category      \n",
      " 8   String              object        \n",
      "dtypes: category(1), datetime64[ns](1), float64(2), int64(4), object(1)\n",
      "memory usage: 368.2+ MB\n"
     ]
    }
   ],
   "source": [
    "with open(f\"transactions_out.pkl\", \"rb\") as f:\n",
    "    df_pkl = pickle.load(f)\n",
    "df_pkl.info()"
   ]
  },
  {
   "cell_type": "markdown",
   "metadata": {},
   "source": [
    "## Feather\n",
    "\n",
    "[docs](https://arrow.apache.org/docs/python/feather.html)"
   ]
  },
  {
   "cell_type": "code",
   "execution_count": 24,
   "metadata": {
    "ExecuteTime": {
     "end_time": "2020-09-01T07:03:43.597075Z",
     "start_time": "2020-09-01T07:03:21.184080Z"
    }
   },
   "outputs": [
    {
     "name": "stdout",
     "output_type": "stream",
     "text": [
      "1.06 s ± 15.5 ms per loop (mean ± std. dev. of 7 runs, 3 loops each)\n"
     ]
    }
   ],
   "source": [
    "import pyarrow.feather as feather\n",
    "\n",
    "%timeit -n 3 feather.write_feather(df, \"transactions_out.feather\")"
   ]
  },
  {
   "cell_type": "code",
   "execution_count": 25,
   "metadata": {
    "ExecuteTime": {
     "end_time": "2020-09-01T07:04:51.621328Z",
     "start_time": "2020-09-01T07:03:46.104328Z"
    }
   },
   "outputs": [
    {
     "name": "stdout",
     "output_type": "stream",
     "text": [
      "3.05 s ± 28.6 ms per loop (mean ± std. dev. of 7 runs, 3 loops each)\n"
     ]
    }
   ],
   "source": [
    "%timeit -n 3 df_feather = feather.read_feather(\"transactions_out.feather\")"
   ]
  },
  {
   "cell_type": "code",
   "execution_count": 26,
   "metadata": {
    "ExecuteTime": {
     "end_time": "2020-09-01T07:04:58.652353Z",
     "start_time": "2020-09-01T07:04:58.644352Z"
    }
   },
   "outputs": [
    {
     "name": "stdout",
     "output_type": "stream",
     "text": [
      "Filesize 389,091.21\n"
     ]
    }
   ],
   "source": [
    "print(f\"Filesize {os.path.getsize('transactions_out.csv') / 1024 :,.2f}\")"
   ]
  },
  {
   "cell_type": "code",
   "execution_count": 27,
   "metadata": {
    "ExecuteTime": {
     "end_time": "2020-09-01T07:05:07.491765Z",
     "start_time": "2020-09-01T07:05:04.471765Z"
    }
   },
   "outputs": [
    {
     "name": "stdout",
     "output_type": "stream",
     "text": [
      "<class 'pandas.core.frame.DataFrame'>\n",
      "RangeIndex: 5940559 entries, 0 to 5940558\n",
      "Data columns (total 9 columns):\n",
      " #   Column              Dtype         \n",
      "---  ------              -----         \n",
      " 0   DateSK              datetime64[ns]\n",
      " 1   Amount              float64       \n",
      " 2   MemberAK            int64         \n",
      " 3   SiteSK              int64         \n",
      " 4   TransactionItemSK   int64         \n",
      " 5   AnalysisCode1       int64         \n",
      " 6   ist_umsatz_Loeb_mp  float64       \n",
      " 7   Basiswarengruppe    category      \n",
      " 8   String              object        \n",
      "dtypes: category(1), datetime64[ns](1), float64(2), int64(4), object(1)\n",
      "memory usage: 368.2+ MB\n"
     ]
    }
   ],
   "source": [
    "df_feather = feather.read_feather(\"transactions_out.feather\")\n",
    "df_feather.info()"
   ]
  },
  {
   "cell_type": "markdown",
   "metadata": {},
   "source": [
    "## Parquet\n",
    "\n",
    "[docs](https://arrow.apache.org/docs/python/parquet.html)"
   ]
  },
  {
   "cell_type": "code",
   "execution_count": 30,
   "metadata": {
    "ExecuteTime": {
     "end_time": "2020-09-01T07:14:34.249442Z",
     "start_time": "2020-09-01T07:14:34.245444Z"
    }
   },
   "outputs": [],
   "source": [
    "import pyarrow as pa\n",
    "import pyarrow.parquet as pq"
   ]
  },
  {
   "cell_type": "code",
   "execution_count": 36,
   "metadata": {
    "ExecuteTime": {
     "end_time": "2020-09-01T07:29:45.519994Z",
     "start_time": "2020-09-01T07:28:50.111992Z"
    }
   },
   "outputs": [
    {
     "name": "stdout",
     "output_type": "stream",
     "text": [
      "2.64 s ± 67.1 ms per loop (mean ± std. dev. of 7 runs, 3 loops each)\n"
     ]
    }
   ],
   "source": [
    "%%timeit -n 3\n",
    "table = pa.Table.from_pandas(df, preserve_index=False)  # index of no value here\n",
    "pq.write_table(table, 'transactions_out.parquet')"
   ]
  },
  {
   "cell_type": "code",
   "execution_count": 37,
   "metadata": {
    "ExecuteTime": {
     "end_time": "2020-09-01T07:31:37.006901Z",
     "start_time": "2020-09-01T07:30:20.687902Z"
    }
   },
   "outputs": [
    {
     "name": "stdout",
     "output_type": "stream",
     "text": [
      "3.57 s ± 22.9 ms per loop (mean ± std. dev. of 7 runs, 3 loops each)\n"
     ]
    }
   ],
   "source": [
    "%%timeit -n 3 \n",
    "df_parquet = pq.read_pandas('transactions_out.parquet').to_pandas()"
   ]
  },
  {
   "cell_type": "code",
   "execution_count": 38,
   "metadata": {
    "ExecuteTime": {
     "end_time": "2020-09-01T07:31:53.790313Z",
     "start_time": "2020-09-01T07:31:53.784323Z"
    }
   },
   "outputs": [
    {
     "name": "stdout",
     "output_type": "stream",
     "text": [
      "Filesize 137,552.14\n"
     ]
    }
   ],
   "source": [
    "print(f\"Filesize {os.path.getsize('transactions_out.parquet') / 1024 :,.2f}\")"
   ]
  },
  {
   "cell_type": "code",
   "execution_count": 40,
   "metadata": {
    "ExecuteTime": {
     "end_time": "2020-09-01T07:32:20.863278Z",
     "start_time": "2020-09-01T07:32:17.530277Z"
    }
   },
   "outputs": [
    {
     "name": "stdout",
     "output_type": "stream",
     "text": [
      "<class 'pandas.core.frame.DataFrame'>\n",
      "RangeIndex: 5940559 entries, 0 to 5940558\n",
      "Data columns (total 9 columns):\n",
      " #   Column              Dtype         \n",
      "---  ------              -----         \n",
      " 0   DateSK              datetime64[ns]\n",
      " 1   Amount              float64       \n",
      " 2   MemberAK            int64         \n",
      " 3   SiteSK              int64         \n",
      " 4   TransactionItemSK   int64         \n",
      " 5   AnalysisCode1       int64         \n",
      " 6   ist_umsatz_Loeb_mp  float64       \n",
      " 7   Basiswarengruppe    category      \n",
      " 8   String              object        \n",
      "dtypes: category(1), datetime64[ns](1), float64(2), int64(4), object(1)\n",
      "memory usage: 368.2+ MB\n"
     ]
    }
   ],
   "source": [
    "df_parquet = pq.read_pandas('transactions_out.parquet').to_pandas()\n",
    "df_parquet.info()"
   ]
  },
  {
   "cell_type": "code",
   "execution_count": 42,
   "metadata": {
    "ExecuteTime": {
     "end_time": "2020-09-01T07:33:56.275821Z",
     "start_time": "2020-09-01T07:33:53.232819Z"
    }
   },
   "outputs": [],
   "source": [
    "# Additonal test: Partial read only\n",
    "\n",
    "df_part = pq.read_pandas(\"transactions_out.parquet\", columns=[\"DateSK\", \"MemberAK\", \"String\"]).to_pandas()"
   ]
  },
  {
   "cell_type": "code",
   "execution_count": 43,
   "metadata": {
    "ExecuteTime": {
     "end_time": "2020-09-01T07:34:04.798352Z",
     "start_time": "2020-09-01T07:34:04.792341Z"
    }
   },
   "outputs": [
    {
     "name": "stdout",
     "output_type": "stream",
     "text": [
      "<class 'pandas.core.frame.DataFrame'>\n",
      "RangeIndex: 5940559 entries, 0 to 5940558\n",
      "Data columns (total 3 columns):\n",
      " #   Column    Dtype         \n",
      "---  ------    -----         \n",
      " 0   DateSK    datetime64[ns]\n",
      " 1   MemberAK  int64         \n",
      " 2   String    object        \n",
      "dtypes: datetime64[ns](1), int64(1), object(1)\n",
      "memory usage: 136.0+ MB\n"
     ]
    }
   ],
   "source": [
    "df_part.info()"
   ]
  },
  {
   "cell_type": "code",
   "execution_count": 44,
   "metadata": {
    "ExecuteTime": {
     "end_time": "2020-09-01T07:43:28.213760Z",
     "start_time": "2020-09-01T07:43:25.536761Z"
    }
   },
   "outputs": [],
   "source": [
    "# Work with direct pandas integration\n",
    "\n",
    "df.to_parquet(\"transactions_out.parquet\", \n",
    "              engine=\"pyarrow\", \n",
    "              compression=\"snappy\", \n",
    "              index=False, \n",
    "              partition_cols=None\n",
    ")"
   ]
  },
  {
   "cell_type": "code",
   "execution_count": 46,
   "metadata": {
    "ExecuteTime": {
     "end_time": "2020-09-01T07:44:48.408750Z",
     "start_time": "2020-09-01T07:44:48.402683Z"
    }
   },
   "outputs": [
    {
     "name": "stdout",
     "output_type": "stream",
     "text": [
      "Filesize 137,551.15\n"
     ]
    }
   ],
   "source": [
    "print(f\"Filesize {os.path.getsize('transactions_out.parquet') / 1024 :,.2f}\")"
   ]
  },
  {
   "cell_type": "code",
   "execution_count": 45,
   "metadata": {
    "ExecuteTime": {
     "end_time": "2020-09-01T07:44:35.059994Z",
     "start_time": "2020-09-01T07:44:31.607000Z"
    }
   },
   "outputs": [],
   "source": [
    "df_pandas = pd.read_parquet(\"transactions_out.parquet\")"
   ]
  },
  {
   "cell_type": "code",
   "execution_count": 47,
   "metadata": {
    "ExecuteTime": {
     "end_time": "2020-09-01T07:45:07.525921Z",
     "start_time": "2020-09-01T07:45:07.518921Z"
    }
   },
   "outputs": [
    {
     "name": "stdout",
     "output_type": "stream",
     "text": [
      "<class 'pandas.core.frame.DataFrame'>\n",
      "RangeIndex: 5940559 entries, 0 to 5940558\n",
      "Data columns (total 9 columns):\n",
      " #   Column              Dtype         \n",
      "---  ------              -----         \n",
      " 0   DateSK              datetime64[ns]\n",
      " 1   Amount              float64       \n",
      " 2   MemberAK            int64         \n",
      " 3   SiteSK              int64         \n",
      " 4   TransactionItemSK   int64         \n",
      " 5   AnalysisCode1       int64         \n",
      " 6   ist_umsatz_Loeb_mp  float64       \n",
      " 7   Basiswarengruppe    category      \n",
      " 8   String              object        \n",
      "dtypes: category(1), datetime64[ns](1), float64(2), int64(4), object(1)\n",
      "memory usage: 368.2+ MB\n"
     ]
    }
   ],
   "source": [
    "df_pandas.info()"
   ]
  },
  {
   "cell_type": "markdown",
   "metadata": {},
   "source": [
    "---"
   ]
  }
 ],
 "metadata": {
  "hide_input": false,
  "kernelspec": {
   "display_name": "Python 3.8.1 64-bit ('py3': conda)",
   "language": "python",
   "name": "python38164bitpy3conda4c7b271b7a6242199dac0f3622f041c1"
  },
  "language_info": {
   "codemirror_mode": {
    "name": "ipython",
    "version": 3
   },
   "file_extension": ".py",
   "mimetype": "text/x-python",
   "name": "python",
   "nbconvert_exporter": "python",
   "pygments_lexer": "ipython3",
   "version": "3.8.2"
  },
  "toc": {
   "base_numbering": 1,
   "nav_menu": {},
   "number_sections": true,
   "sideBar": false,
   "skip_h1_title": true,
   "title_cell": "Table of Contents",
   "title_sidebar": "Contents",
   "toc_cell": false,
   "toc_position": {},
   "toc_section_display": true,
   "toc_window_display": false
  }
 },
 "nbformat": 4,
 "nbformat_minor": 4
}
