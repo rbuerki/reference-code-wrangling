{
 "cells": [
  {
   "cell_type": "markdown",
   "metadata": {
    "toc": true
   },
   "source": [
    "<h1>Table of Contents<span class=\"tocSkip\"></span></h1>\n",
    "<div class=\"toc\"><ul class=\"toc-item\"><li><span><a href=\"#apply()---Faster-alternatives\" data-toc-modified-id=\"apply()---Faster-alternatives-1\"><span class=\"toc-item-num\">1&nbsp;&nbsp;</span>apply() - Faster alternatives</a></span></li><li><span><a href=\"#Crosstab()---great-for-Heatmaps\" data-toc-modified-id=\"Crosstab()---great-for-Heatmaps-2\"><span class=\"toc-item-num\">2&nbsp;&nbsp;</span>Crosstab() - great for Heatmaps</a></span></li><li><span><a href=\"#Window-functions-in-Pandas---using-groupby()\" data-toc-modified-id=\"Window-functions-in-Pandas---using-groupby()-3\"><span class=\"toc-item-num\">3&nbsp;&nbsp;</span>Window functions in Pandas - using groupby()</a></span><ul class=\"toc-item\"><li><span><a href=\"#Calculate-cumulative-sum-(running-totals-from-deltas)\" data-toc-modified-id=\"Calculate-cumulative-sum-(running-totals-from-deltas)-3.1\"><span class=\"toc-item-num\">3.1&nbsp;&nbsp;</span>Calculate cumulative sum (running totals from deltas)</a></span></li><li><span><a href=\"#Calculate-deltas\" data-toc-modified-id=\"Calculate-deltas-3.2\"><span class=\"toc-item-num\">3.2&nbsp;&nbsp;</span>Calculate deltas</a></span></li><li><span><a href=\"#Rank\" data-toc-modified-id=\"Rank-3.3\"><span class=\"toc-item-num\">3.3&nbsp;&nbsp;</span>Rank</a></span></li><li><span><a href=\"#Aggregate-over-groups-of-rows-(rolling,-avg)\" data-toc-modified-id=\"Aggregate-over-groups-of-rows-(rolling,-avg)-3.4\"><span class=\"toc-item-num\">3.4&nbsp;&nbsp;</span>Aggregate over groups of rows (rolling, avg)</a></span></li><li><span><a href=\"#Aggregate-by-downsampling-the-index-(resample)\" data-toc-modified-id=\"Aggregate-by-downsampling-the-index-(resample)-3.5\"><span class=\"toc-item-num\">3.5&nbsp;&nbsp;</span>Aggregate by downsampling the index (resample)</a></span></li><li><span><a href=\"#Examples---time-since-first,-time-since-end,-time-since-preceding\" data-toc-modified-id=\"Examples---time-since-first,-time-since-end,-time-since-preceding-3.6\"><span class=\"toc-item-num\">3.6&nbsp;&nbsp;</span>Examples - time since first, time since end, time since preceding</a></span></li></ul></li></ul></div>"
   ]
  },
  {
   "cell_type": "code",
   "execution_count": 2,
   "metadata": {
    "ExecuteTime": {
     "end_time": "2020-10-19T18:14:51.090875Z",
     "start_time": "2020-10-19T18:14:47.261326Z"
    }
   },
   "outputs": [],
   "source": [
    "import datetime as dt\n",
    "import sys\n",
    "\n",
    "import numpy as np\n",
    "import pandas as pd\n",
    "import matplotlib.pyplot as plt\n",
    "import seaborn as sns"
   ]
  },
  {
   "cell_type": "code",
   "execution_count": 3,
   "metadata": {
    "ExecuteTime": {
     "end_time": "2020-10-19T18:14:51.222905Z",
     "start_time": "2020-10-19T18:14:51.093876Z"
    }
   },
   "outputs": [],
   "source": [
    "%load_ext autoreload\n",
    "%autoreload 2\n",
    "\n",
    "%matplotlib inline\n",
    "# %config InlineBackend.figure_format = 'svg'\n",
    "plt.style.use('raph-base')\n",
    "\n",
    "from IPython.core.interactiveshell import InteractiveShell\n",
    "InteractiveShell.ast_node_interactivity = 'all'\n",
    "\n",
    "pd.set_option('precision', 2)\n",
    "pd.set_option('display.max_columns', 30)\n",
    "pd.set_option('display.expand_frame_repr', False)\n",
    "pd.set_option('max_colwidth', 800)"
   ]
  },
  {
   "cell_type": "code",
   "execution_count": 4,
   "metadata": {
    "ExecuteTime": {
     "end_time": "2020-10-19T18:14:51.345907Z",
     "start_time": "2020-10-19T18:14:51.225873Z"
    }
   },
   "outputs": [
    {
     "name": "stdout",
     "output_type": "stream",
     "text": [
      "C:\\Users\\r2d4\\miniconda3\\envs\\py3\\python.exe\n",
      "3.8.3 (default, May 19 2020, 06:50:17) [MSC v.1916 64 bit (AMD64)]\n"
     ]
    }
   ],
   "source": [
    "# Display executable and Python version\n",
    "print(sys.executable)\n",
    "print(sys.version)"
   ]
  },
  {
   "cell_type": "code",
   "execution_count": 5,
   "metadata": {
    "ExecuteTime": {
     "end_time": "2020-10-19T18:14:51.518428Z",
     "start_time": "2020-10-19T18:14:51.348425Z"
    }
   },
   "outputs": [
    {
     "data": {
      "text/html": [
       "<div>\n",
       "<style scoped>\n",
       "    .dataframe tbody tr th:only-of-type {\n",
       "        vertical-align: middle;\n",
       "    }\n",
       "\n",
       "    .dataframe tbody tr th {\n",
       "        vertical-align: top;\n",
       "    }\n",
       "\n",
       "    .dataframe thead th {\n",
       "        text-align: right;\n",
       "    }\n",
       "</style>\n",
       "<table border=\"1\" class=\"dataframe\">\n",
       "  <thead>\n",
       "    <tr style=\"text-align: right;\">\n",
       "      <th></th>\n",
       "      <th>id</th>\n",
       "      <th>city</th>\n",
       "      <th>color</th>\n",
       "      <th>a_float</th>\n",
       "    </tr>\n",
       "  </thead>\n",
       "  <tbody>\n",
       "    <tr>\n",
       "      <th>0</th>\n",
       "      <td>0_barcelona</td>\n",
       "      <td>barcelona</td>\n",
       "      <td>blue</td>\n",
       "      <td>0.68</td>\n",
       "    </tr>\n",
       "    <tr>\n",
       "      <th>1</th>\n",
       "      <td>1_berlin</td>\n",
       "      <td>berlin</td>\n",
       "      <td>blue</td>\n",
       "      <td>0.69</td>\n",
       "    </tr>\n",
       "    <tr>\n",
       "      <th>2</th>\n",
       "      <td>2_berlin</td>\n",
       "      <td>berlin</td>\n",
       "      <td>blue</td>\n",
       "      <td>0.18</td>\n",
       "    </tr>\n",
       "    <tr>\n",
       "      <th>3</th>\n",
       "      <td>3_paris</td>\n",
       "      <td>paris</td>\n",
       "      <td>white</td>\n",
       "      <td>0.58</td>\n",
       "    </tr>\n",
       "    <tr>\n",
       "      <th>4</th>\n",
       "      <td>4_berlin</td>\n",
       "      <td>berlin</td>\n",
       "      <td>blue</td>\n",
       "      <td>0.96</td>\n",
       "    </tr>\n",
       "  </tbody>\n",
       "</table>\n",
       "</div>"
      ],
      "text/plain": [
       "            id       city  color  a_float\n",
       "0  0_barcelona  barcelona   blue     0.68\n",
       "1     1_berlin     berlin   blue     0.69\n",
       "2     2_berlin     berlin   blue     0.18\n",
       "3      3_paris      paris  white     0.58\n",
       "4     4_berlin     berlin   blue     0.96"
      ]
     },
     "execution_count": 5,
     "metadata": {},
     "output_type": "execute_result"
    }
   ],
   "source": [
    "# Create a dummy frame\n",
    "\n",
    "size = 10000\n",
    "cities = [\"paris\", \"barcelona\", \"berlin\", \"new york\"]\n",
    "colors = [\"red\", \"green\", \"blue\", \"white\", \"pink\"]\n",
    "\n",
    "df = pd.DataFrame(\n",
    "    {\"city\": np.random.choice(cities, size=size),\n",
    "     \"color\": np.random.choice(colors, size=size),\n",
    "     \"a_float\": np.random.rand(size)}\n",
    ")\n",
    "\n",
    "df[\"id\"] = df.index.map(str) + \"_\" + df[\"city\"]\n",
    "df = df[[\"id\", \"city\", \"color\", \"a_float\"]]\n",
    "df.head()"
   ]
  },
  {
   "cell_type": "markdown",
   "metadata": {},
   "source": [
    "## apply() - Faster alternatives\n",
    "\n",
    "**Take-aways:** Apply is quite slow, if the operation you want to apply, are vectorizable, use pandas filtering / vectorizing!"
   ]
  },
  {
   "cell_type": "code",
   "execution_count": 5,
   "metadata": {
    "ExecuteTime": {
     "end_time": "2020-10-17T06:59:43.290936Z",
     "start_time": "2020-10-17T06:59:40.052861Z"
    }
   },
   "outputs": [
    {
     "name": "stdout",
     "output_type": "stream",
     "text": [
      "384 ms ± 22.2 ms per loop (mean ± std. dev. of 7 runs, 1 loop each)\n"
     ]
    }
   ],
   "source": [
    "def rule(a, b, c):\n",
    "    if a == \"paris\" and b in [\"yellow\", \"blue\"]:\n",
    "         return c * 2\n",
    "    else:\n",
    "         return 0\n",
    "\n",
    "%timeit df['new'] = df.apply(lambda x: rule(x[\"city\"], x[\"color\"], x[\"a_float\"]), axis=1)"
   ]
  },
  {
   "cell_type": "code",
   "execution_count": 6,
   "metadata": {
    "ExecuteTime": {
     "end_time": "2020-10-17T06:59:46.328040Z",
     "start_time": "2020-10-17T06:59:43.293940Z"
    }
   },
   "outputs": [
    {
     "name": "stdout",
     "output_type": "stream",
     "text": [
      "3.54 ms ± 233 µs per loop (mean ± std. dev. of 7 runs, 100 loops each)\n"
     ]
    }
   ],
   "source": [
    "%%timeit\n",
    "\n",
    "## Alternative\n",
    "\n",
    "df[\"new\"] = np.NaN\n",
    "df[\"new\"] = df[(df[\"city\"] == 'new york') & (df[\"color\"].isin([\"yellow\", \"blue\"]))][\"a_float\"] * 2\n",
    "df[\"new\"].fillna(0, inplace=True)                         "
   ]
  },
  {
   "cell_type": "markdown",
   "metadata": {},
   "source": [
    "A speed-up of more than x 100"
   ]
  },
  {
   "cell_type": "code",
   "execution_count": 7,
   "metadata": {
    "ExecuteTime": {
     "end_time": "2020-10-17T06:59:48.136041Z",
     "start_time": "2020-10-17T06:59:46.331044Z"
    }
   },
   "outputs": [
    {
     "name": "stdout",
     "output_type": "stream",
     "text": [
      "2.04 ms ± 134 µs per loop (mean ± std. dev. of 7 runs, 100 loops each)\n"
     ]
    }
   ],
   "source": [
    "%%timeit\n",
    "\n",
    "## Now, using np.where()\n",
    "\n",
    "df[\"new2\"] = np.where(((df[\"city\"] == 'new york') & (df[\"color\"].isin([\"yellow\", \"blue\"]))),\n",
    "                      df[\"a_float\"] * 2,\n",
    "                      0)"
   ]
  },
  {
   "cell_type": "markdown",
   "metadata": {},
   "source": [
    "Even faster ..."
   ]
  },
  {
   "cell_type": "markdown",
   "metadata": {},
   "source": [
    "## Crosstab() - great for Heatmaps\n",
    "\n",
    "- Easy syntax for cross-tables you can also group by multi-index (not shown here)\n",
    "- Cool is the _normalization_ functionality (all, row-wise, col-wise) and the simple option for adding margins\n",
    "- ... but a simple groupby().unstack() is faster, if you care for optimized performance"
   ]
  },
  {
   "cell_type": "code",
   "execution_count": 8,
   "metadata": {
    "ExecuteTime": {
     "end_time": "2020-10-17T06:59:48.282041Z",
     "start_time": "2020-10-17T06:59:48.139042Z"
    }
   },
   "outputs": [
    {
     "data": {
      "text/html": [
       "<div>\n",
       "<style scoped>\n",
       "    .dataframe tbody tr th:only-of-type {\n",
       "        vertical-align: middle;\n",
       "    }\n",
       "\n",
       "    .dataframe tbody tr th {\n",
       "        vertical-align: top;\n",
       "    }\n",
       "\n",
       "    .dataframe thead th {\n",
       "        text-align: right;\n",
       "    }\n",
       "</style>\n",
       "<table border=\"1\" class=\"dataframe\">\n",
       "  <thead>\n",
       "    <tr style=\"text-align: right;\">\n",
       "      <th>color</th>\n",
       "      <th>blue</th>\n",
       "      <th>green</th>\n",
       "      <th>pink</th>\n",
       "      <th>red</th>\n",
       "      <th>white</th>\n",
       "    </tr>\n",
       "    <tr>\n",
       "      <th>city</th>\n",
       "      <th></th>\n",
       "      <th></th>\n",
       "      <th></th>\n",
       "      <th></th>\n",
       "      <th></th>\n",
       "    </tr>\n",
       "  </thead>\n",
       "  <tbody>\n",
       "    <tr>\n",
       "      <th>barcelona</th>\n",
       "      <td>516</td>\n",
       "      <td>542</td>\n",
       "      <td>470</td>\n",
       "      <td>510</td>\n",
       "      <td>504</td>\n",
       "    </tr>\n",
       "    <tr>\n",
       "      <th>berlin</th>\n",
       "      <td>525</td>\n",
       "      <td>493</td>\n",
       "      <td>490</td>\n",
       "      <td>506</td>\n",
       "      <td>442</td>\n",
       "    </tr>\n",
       "    <tr>\n",
       "      <th>new york</th>\n",
       "      <td>505</td>\n",
       "      <td>510</td>\n",
       "      <td>524</td>\n",
       "      <td>496</td>\n",
       "      <td>498</td>\n",
       "    </tr>\n",
       "    <tr>\n",
       "      <th>paris</th>\n",
       "      <td>488</td>\n",
       "      <td>475</td>\n",
       "      <td>514</td>\n",
       "      <td>500</td>\n",
       "      <td>492</td>\n",
       "    </tr>\n",
       "  </tbody>\n",
       "</table>\n",
       "</div>"
      ],
      "text/plain": [
       "color      blue  green  pink  red  white\n",
       "city                                    \n",
       "barcelona   516    542   470  510    504\n",
       "berlin      525    493   490  506    442\n",
       "new york    505    510   524  496    498\n",
       "paris       488    475   514  500    492"
      ]
     },
     "execution_count": 8,
     "metadata": {},
     "output_type": "execute_result"
    }
   ],
   "source": [
    "# Simple counts\n",
    "c_count = pd.crosstab(index=df[\"city\"], columns=df[\"color\"])\n",
    "c_count"
   ]
  },
  {
   "cell_type": "code",
   "execution_count": 9,
   "metadata": {
    "ExecuteTime": {
     "end_time": "2020-10-17T06:59:48.442045Z",
     "start_time": "2020-10-17T06:59:48.286046Z"
    }
   },
   "outputs": [
    {
     "data": {
      "text/html": [
       "<div>\n",
       "<style scoped>\n",
       "    .dataframe tbody tr th:only-of-type {\n",
       "        vertical-align: middle;\n",
       "    }\n",
       "\n",
       "    .dataframe tbody tr th {\n",
       "        vertical-align: top;\n",
       "    }\n",
       "\n",
       "    .dataframe thead th {\n",
       "        text-align: right;\n",
       "    }\n",
       "</style>\n",
       "<table border=\"1\" class=\"dataframe\">\n",
       "  <thead>\n",
       "    <tr style=\"text-align: right;\">\n",
       "      <th>color</th>\n",
       "      <th>blue</th>\n",
       "      <th>green</th>\n",
       "      <th>pink</th>\n",
       "      <th>red</th>\n",
       "      <th>white</th>\n",
       "    </tr>\n",
       "    <tr>\n",
       "      <th>city</th>\n",
       "      <th></th>\n",
       "      <th></th>\n",
       "      <th></th>\n",
       "      <th></th>\n",
       "      <th></th>\n",
       "    </tr>\n",
       "  </thead>\n",
       "  <tbody>\n",
       "    <tr>\n",
       "      <th>barcelona</th>\n",
       "      <td>0.49</td>\n",
       "      <td>0.49</td>\n",
       "      <td>0.50</td>\n",
       "      <td>0.47</td>\n",
       "      <td>0.50</td>\n",
       "    </tr>\n",
       "    <tr>\n",
       "      <th>berlin</th>\n",
       "      <td>0.49</td>\n",
       "      <td>0.49</td>\n",
       "      <td>0.52</td>\n",
       "      <td>0.49</td>\n",
       "      <td>0.50</td>\n",
       "    </tr>\n",
       "    <tr>\n",
       "      <th>new york</th>\n",
       "      <td>0.49</td>\n",
       "      <td>0.51</td>\n",
       "      <td>0.49</td>\n",
       "      <td>0.51</td>\n",
       "      <td>0.48</td>\n",
       "    </tr>\n",
       "    <tr>\n",
       "      <th>paris</th>\n",
       "      <td>0.51</td>\n",
       "      <td>0.51</td>\n",
       "      <td>0.50</td>\n",
       "      <td>0.51</td>\n",
       "      <td>0.47</td>\n",
       "    </tr>\n",
       "  </tbody>\n",
       "</table>\n",
       "</div>"
      ],
      "text/plain": [
       "color      blue  green  pink   red  white\n",
       "city                                     \n",
       "barcelona  0.49   0.49  0.50  0.47   0.50\n",
       "berlin     0.49   0.49  0.52  0.49   0.50\n",
       "new york   0.49   0.51  0.49  0.51   0.48\n",
       "paris      0.51   0.51  0.50  0.51   0.47"
      ]
     },
     "execution_count": 9,
     "metadata": {},
     "output_type": "execute_result"
    }
   ],
   "source": [
    "# Aggregations\n",
    "c_mean = pd.crosstab(index=df['city'],\n",
    "                     columns=df['color'],\n",
    "                     values=df['a_float'],                   \n",
    "                     aggfunc=np.mean).round(2)\n",
    "c_mean"
   ]
  },
  {
   "cell_type": "markdown",
   "metadata": {},
   "source": [
    "**Performace** is a little worse than similar groupby().unstack() operations"
   ]
  },
  {
   "cell_type": "code",
   "execution_count": 12,
   "metadata": {
    "ExecuteTime": {
     "end_time": "2020-10-17T06:59:59.985041Z",
     "start_time": "2020-10-17T06:59:49.003043Z"
    }
   },
   "outputs": [
    {
     "name": "stdout",
     "output_type": "stream",
     "text": [
      "13.4 ms ± 1.56 ms per loop (mean ± std. dev. of 7 runs, 100 loops each)\n"
     ]
    }
   ],
   "source": [
    "%%timeit\n",
    "\n",
    "c_mean = pd.crosstab(index=df['city'],\n",
    "                     columns=df['color'],\n",
    "                     values=df['a_float'],                   \n",
    "                     aggfunc=np.mean).round(2)"
   ]
  },
  {
   "cell_type": "code",
   "execution_count": 13,
   "metadata": {
    "ExecuteTime": {
     "end_time": "2020-10-17T07:00:03.657040Z",
     "start_time": "2020-10-17T06:59:59.988044Z"
    }
   },
   "outputs": [
    {
     "name": "stdout",
     "output_type": "stream",
     "text": [
      "4.33 ms ± 97.2 µs per loop (mean ± std. dev. of 7 runs, 100 loops each)\n"
     ]
    }
   ],
   "source": [
    "%%timeit\n",
    "\n",
    "c_mean2 = df.groupby([\"city\", \"color\"])[\"a_float\"].mean().round(2).unstack()"
   ]
  },
  {
   "cell_type": "markdown",
   "metadata": {},
   "source": [
    "**Heatmaps** are one main application for crosstab()"
   ]
  },
  {
   "cell_type": "code",
   "execution_count": 10,
   "metadata": {
    "ExecuteTime": {
     "end_time": "2020-10-17T06:59:48.566047Z",
     "start_time": "2020-10-17T06:59:48.445046Z"
    }
   },
   "outputs": [],
   "source": [
    "def plot_heatmap(cross_table, fmt=\"g\"):\n",
    "    \"\"\"'g' param is for int.\"\"\"\n",
    "    fig, ax = plt.subplots(figsize=(6, 4))\n",
    "    sns.heatmap(cross_table,\n",
    "                annot=True,\n",
    "                fmt=fmt,\n",
    "                cmap='rocket_r',\n",
    "                linewidths=.5,\n",
    "                square=True,\n",
    "                ax=ax)\n",
    "    plt.show();"
   ]
  },
  {
   "cell_type": "code",
   "execution_count": 15,
   "metadata": {
    "ExecuteTime": {
     "end_time": "2020-10-17T07:00:04.194040Z",
     "start_time": "2020-10-17T07:00:03.799048Z"
    }
   },
   "outputs": [
    {
     "data": {
      "image/png": "[encoded data removed]",
      "text/plain": [
       "<Figure size 432x288 with 2 Axes>"
      ]
     },
     "metadata": {},
     "output_type": "display_data"
    }
   ],
   "source": [
    "c_mean2 = df.groupby([\"city\", \"color\"])[\"a_float\"].mean().round(2).unstack()\n",
    "\n",
    "plot_heatmap(c_mean2, fmt=\".2f\")"
   ]
  },
  {
   "cell_type": "markdown",
   "metadata": {},
   "source": [
    "**Normalize and margin options** are cool!"
   ]
  },
  {
   "cell_type": "code",
   "execution_count": 33,
   "metadata": {
    "ExecuteTime": {
     "end_time": "2020-10-17T07:31:06.043898Z",
     "start_time": "2020-10-17T07:31:05.883878Z"
    }
   },
   "outputs": [
    {
     "data": {
      "text/html": [
       "<style  type=\"text/css\" >\n",
       "</style><table id=\"T_b7b108b6_104a_11eb_aedd_60f67737a0fe\" ><thead>    <tr>        <th class=\"index_name level0\" >color</th>        <th class=\"col_heading level0 col0\" >blue</th>        <th class=\"col_heading level0 col1\" >green</th>        <th class=\"col_heading level0 col2\" >pink</th>        <th class=\"col_heading level0 col3\" >red</th>        <th class=\"col_heading level0 col4\" >white</th>    </tr>    <tr>        <th class=\"index_name level0\" >city</th>        <th class=\"blank\" ></th>        <th class=\"blank\" ></th>        <th class=\"blank\" ></th>        <th class=\"blank\" ></th>        <th class=\"blank\" ></th>    </tr></thead><tbody>\n",
       "                <tr>\n",
       "                        <th id=\"T_b7b108b6_104a_11eb_aedd_60f67737a0felevel0_row0\" class=\"row_heading level0 row0\" >barcelona</th>\n",
       "                        <td id=\"T_b7b108b6_104a_11eb_aedd_60f67737a0ferow0_col0\" class=\"data row0 col0\" >5.2%</td>\n",
       "                        <td id=\"T_b7b108b6_104a_11eb_aedd_60f67737a0ferow0_col1\" class=\"data row0 col1\" >5.4%</td>\n",
       "                        <td id=\"T_b7b108b6_104a_11eb_aedd_60f67737a0ferow0_col2\" class=\"data row0 col2\" >4.7%</td>\n",
       "                        <td id=\"T_b7b108b6_104a_11eb_aedd_60f67737a0ferow0_col3\" class=\"data row0 col3\" >5.1%</td>\n",
       "                        <td id=\"T_b7b108b6_104a_11eb_aedd_60f67737a0ferow0_col4\" class=\"data row0 col4\" >5.0%</td>\n",
       "            </tr>\n",
       "            <tr>\n",
       "                        <th id=\"T_b7b108b6_104a_11eb_aedd_60f67737a0felevel0_row1\" class=\"row_heading level0 row1\" >berlin</th>\n",
       "                        <td id=\"T_b7b108b6_104a_11eb_aedd_60f67737a0ferow1_col0\" class=\"data row1 col0\" >5.2%</td>\n",
       "                        <td id=\"T_b7b108b6_104a_11eb_aedd_60f67737a0ferow1_col1\" class=\"data row1 col1\" >4.9%</td>\n",
       "                        <td id=\"T_b7b108b6_104a_11eb_aedd_60f67737a0ferow1_col2\" class=\"data row1 col2\" >4.9%</td>\n",
       "                        <td id=\"T_b7b108b6_104a_11eb_aedd_60f67737a0ferow1_col3\" class=\"data row1 col3\" >5.1%</td>\n",
       "                        <td id=\"T_b7b108b6_104a_11eb_aedd_60f67737a0ferow1_col4\" class=\"data row1 col4\" >4.4%</td>\n",
       "            </tr>\n",
       "            <tr>\n",
       "                        <th id=\"T_b7b108b6_104a_11eb_aedd_60f67737a0felevel0_row2\" class=\"row_heading level0 row2\" >new york</th>\n",
       "                        <td id=\"T_b7b108b6_104a_11eb_aedd_60f67737a0ferow2_col0\" class=\"data row2 col0\" >5.1%</td>\n",
       "                        <td id=\"T_b7b108b6_104a_11eb_aedd_60f67737a0ferow2_col1\" class=\"data row2 col1\" >5.1%</td>\n",
       "                        <td id=\"T_b7b108b6_104a_11eb_aedd_60f67737a0ferow2_col2\" class=\"data row2 col2\" >5.2%</td>\n",
       "                        <td id=\"T_b7b108b6_104a_11eb_aedd_60f67737a0ferow2_col3\" class=\"data row2 col3\" >5.0%</td>\n",
       "                        <td id=\"T_b7b108b6_104a_11eb_aedd_60f67737a0ferow2_col4\" class=\"data row2 col4\" >5.0%</td>\n",
       "            </tr>\n",
       "            <tr>\n",
       "                        <th id=\"T_b7b108b6_104a_11eb_aedd_60f67737a0felevel0_row3\" class=\"row_heading level0 row3\" >paris</th>\n",
       "                        <td id=\"T_b7b108b6_104a_11eb_aedd_60f67737a0ferow3_col0\" class=\"data row3 col0\" >4.9%</td>\n",
       "                        <td id=\"T_b7b108b6_104a_11eb_aedd_60f67737a0ferow3_col1\" class=\"data row3 col1\" >4.8%</td>\n",
       "                        <td id=\"T_b7b108b6_104a_11eb_aedd_60f67737a0ferow3_col2\" class=\"data row3 col2\" >5.1%</td>\n",
       "                        <td id=\"T_b7b108b6_104a_11eb_aedd_60f67737a0ferow3_col3\" class=\"data row3 col3\" >5.0%</td>\n",
       "                        <td id=\"T_b7b108b6_104a_11eb_aedd_60f67737a0ferow3_col4\" class=\"data row3 col4\" >4.9%</td>\n",
       "            </tr>\n",
       "    </tbody></table>"
      ],
      "text/plain": [
       "<pandas.io.formats.style.Styler at 0x193236f6b80>"
      ]
     },
     "execution_count": 33,
     "metadata": {},
     "output_type": "execute_result"
    }
   ],
   "source": [
    "# Normalize values\n",
    "c_norm = pd.crosstab(index=df['city'],\n",
    "                     columns=df['color'],\n",
    "                     normalize=\"all\") # you can also set \"index\" or \"columns\"\n",
    "\n",
    "c_norm.style.format(\"{:.1%}\")"
   ]
  },
  {
   "cell_type": "code",
   "execution_count": 34,
   "metadata": {
    "ExecuteTime": {
     "end_time": "2020-10-17T07:31:11.236357Z",
     "start_time": "2020-10-17T07:31:11.062327Z"
    }
   },
   "outputs": [
    {
     "data": {
      "text/html": [
       "<style  type=\"text/css\" >\n",
       "</style><table id=\"T_bac92fa4_104a_11eb_bb5e_60f67737a0fe\" ><thead>    <tr>        <th class=\"index_name level0\" >color</th>        <th class=\"col_heading level0 col0\" >blue</th>        <th class=\"col_heading level0 col1\" >green</th>        <th class=\"col_heading level0 col2\" >pink</th>        <th class=\"col_heading level0 col3\" >red</th>        <th class=\"col_heading level0 col4\" >white</th>        <th class=\"col_heading level0 col5\" >TOTAL</th>    </tr>    <tr>        <th class=\"index_name level0\" >city</th>        <th class=\"blank\" ></th>        <th class=\"blank\" ></th>        <th class=\"blank\" ></th>        <th class=\"blank\" ></th>        <th class=\"blank\" ></th>        <th class=\"blank\" ></th>    </tr></thead><tbody>\n",
       "                <tr>\n",
       "                        <th id=\"T_bac92fa4_104a_11eb_bb5e_60f67737a0felevel0_row0\" class=\"row_heading level0 row0\" >barcelona</th>\n",
       "                        <td id=\"T_bac92fa4_104a_11eb_bb5e_60f67737a0ferow0_col0\" class=\"data row0 col0\" >5.2%</td>\n",
       "                        <td id=\"T_bac92fa4_104a_11eb_bb5e_60f67737a0ferow0_col1\" class=\"data row0 col1\" >5.4%</td>\n",
       "                        <td id=\"T_bac92fa4_104a_11eb_bb5e_60f67737a0ferow0_col2\" class=\"data row0 col2\" >4.7%</td>\n",
       "                        <td id=\"T_bac92fa4_104a_11eb_bb5e_60f67737a0ferow0_col3\" class=\"data row0 col3\" >5.1%</td>\n",
       "                        <td id=\"T_bac92fa4_104a_11eb_bb5e_60f67737a0ferow0_col4\" class=\"data row0 col4\" >5.0%</td>\n",
       "                        <td id=\"T_bac92fa4_104a_11eb_bb5e_60f67737a0ferow0_col5\" class=\"data row0 col5\" >25.4%</td>\n",
       "            </tr>\n",
       "            <tr>\n",
       "                        <th id=\"T_bac92fa4_104a_11eb_bb5e_60f67737a0felevel0_row1\" class=\"row_heading level0 row1\" >berlin</th>\n",
       "                        <td id=\"T_bac92fa4_104a_11eb_bb5e_60f67737a0ferow1_col0\" class=\"data row1 col0\" >5.2%</td>\n",
       "                        <td id=\"T_bac92fa4_104a_11eb_bb5e_60f67737a0ferow1_col1\" class=\"data row1 col1\" >4.9%</td>\n",
       "                        <td id=\"T_bac92fa4_104a_11eb_bb5e_60f67737a0ferow1_col2\" class=\"data row1 col2\" >4.9%</td>\n",
       "                        <td id=\"T_bac92fa4_104a_11eb_bb5e_60f67737a0ferow1_col3\" class=\"data row1 col3\" >5.1%</td>\n",
       "                        <td id=\"T_bac92fa4_104a_11eb_bb5e_60f67737a0ferow1_col4\" class=\"data row1 col4\" >4.4%</td>\n",
       "                        <td id=\"T_bac92fa4_104a_11eb_bb5e_60f67737a0ferow1_col5\" class=\"data row1 col5\" >24.6%</td>\n",
       "            </tr>\n",
       "            <tr>\n",
       "                        <th id=\"T_bac92fa4_104a_11eb_bb5e_60f67737a0felevel0_row2\" class=\"row_heading level0 row2\" >new york</th>\n",
       "                        <td id=\"T_bac92fa4_104a_11eb_bb5e_60f67737a0ferow2_col0\" class=\"data row2 col0\" >5.1%</td>\n",
       "                        <td id=\"T_bac92fa4_104a_11eb_bb5e_60f67737a0ferow2_col1\" class=\"data row2 col1\" >5.1%</td>\n",
       "                        <td id=\"T_bac92fa4_104a_11eb_bb5e_60f67737a0ferow2_col2\" class=\"data row2 col2\" >5.2%</td>\n",
       "                        <td id=\"T_bac92fa4_104a_11eb_bb5e_60f67737a0ferow2_col3\" class=\"data row2 col3\" >5.0%</td>\n",
       "                        <td id=\"T_bac92fa4_104a_11eb_bb5e_60f67737a0ferow2_col4\" class=\"data row2 col4\" >5.0%</td>\n",
       "                        <td id=\"T_bac92fa4_104a_11eb_bb5e_60f67737a0ferow2_col5\" class=\"data row2 col5\" >25.3%</td>\n",
       "            </tr>\n",
       "            <tr>\n",
       "                        <th id=\"T_bac92fa4_104a_11eb_bb5e_60f67737a0felevel0_row3\" class=\"row_heading level0 row3\" >paris</th>\n",
       "                        <td id=\"T_bac92fa4_104a_11eb_bb5e_60f67737a0ferow3_col0\" class=\"data row3 col0\" >4.9%</td>\n",
       "                        <td id=\"T_bac92fa4_104a_11eb_bb5e_60f67737a0ferow3_col1\" class=\"data row3 col1\" >4.8%</td>\n",
       "                        <td id=\"T_bac92fa4_104a_11eb_bb5e_60f67737a0ferow3_col2\" class=\"data row3 col2\" >5.1%</td>\n",
       "                        <td id=\"T_bac92fa4_104a_11eb_bb5e_60f67737a0ferow3_col3\" class=\"data row3 col3\" >5.0%</td>\n",
       "                        <td id=\"T_bac92fa4_104a_11eb_bb5e_60f67737a0ferow3_col4\" class=\"data row3 col4\" >4.9%</td>\n",
       "                        <td id=\"T_bac92fa4_104a_11eb_bb5e_60f67737a0ferow3_col5\" class=\"data row3 col5\" >24.7%</td>\n",
       "            </tr>\n",
       "            <tr>\n",
       "                        <th id=\"T_bac92fa4_104a_11eb_bb5e_60f67737a0felevel0_row4\" class=\"row_heading level0 row4\" >TOTAL</th>\n",
       "                        <td id=\"T_bac92fa4_104a_11eb_bb5e_60f67737a0ferow4_col0\" class=\"data row4 col0\" >20.3%</td>\n",
       "                        <td id=\"T_bac92fa4_104a_11eb_bb5e_60f67737a0ferow4_col1\" class=\"data row4 col1\" >20.2%</td>\n",
       "                        <td id=\"T_bac92fa4_104a_11eb_bb5e_60f67737a0ferow4_col2\" class=\"data row4 col2\" >20.0%</td>\n",
       "                        <td id=\"T_bac92fa4_104a_11eb_bb5e_60f67737a0ferow4_col3\" class=\"data row4 col3\" >20.1%</td>\n",
       "                        <td id=\"T_bac92fa4_104a_11eb_bb5e_60f67737a0ferow4_col4\" class=\"data row4 col4\" >19.4%</td>\n",
       "                        <td id=\"T_bac92fa4_104a_11eb_bb5e_60f67737a0ferow4_col5\" class=\"data row4 col5\" >100.0%</td>\n",
       "            </tr>\n",
       "    </tbody></table>"
      ],
      "text/plain": [
       "<pandas.io.formats.style.Styler at 0x19323543520>"
      ]
     },
     "execution_count": 34,
     "metadata": {},
     "output_type": "execute_result"
    }
   ],
   "source": [
    "# Don't do this not for heatmaps ;-)\n",
    "c_marg = pd.crosstab(index=df['city'],\n",
    "                     columns=df['color'],\n",
    "                     normalize=\"all\",\n",
    "                     margins=True,\n",
    "                     margins_name=\"TOTAL\")\n",
    "\n",
    "c_marg.style.format(\"{:.1%}\")"
   ]
  },
  {
   "cell_type": "markdown",
   "metadata": {},
   "source": [
    "## Window functions in Pandas - using groupby()\n",
    "\n",
    "Mainly following this [blogpost](https://medium.com/jbennetcodes/how-to-get-rid-of-loops-and-use-window-functions-in-pandas-or-spark-sql-907f274850e4) which also provides the PySpark (SQL) equivalents.\n",
    "\n",
    "_**TO DO:** Check pd.Grouper() check performance on full 10'000 rows._"
   ]
  },
  {
   "cell_type": "code",
   "execution_count": 6,
   "metadata": {
    "ExecuteTime": {
     "end_time": "2020-10-19T18:14:55.520855Z",
     "start_time": "2020-10-19T18:14:55.384728Z"
    }
   },
   "outputs": [],
   "source": [
    "# Prep: Make a smaller dataframe, include a timestamp column\n",
    "\n",
    "df_2 = df.iloc[:100, :].copy()\n",
    "df_2[\"ts\"] = pd.period_range(\"2020-02-02\", periods=100, freq=\"min\").to_timestamp()\n",
    "df_2[\"value\"] = df_2[\"a_float\"] * 100\n",
    "df_2.drop([\"id\", \"a_float\"], axis=1, inplace=True)"
   ]
  },
  {
   "cell_type": "code",
   "execution_count": 115,
   "metadata": {
    "ExecuteTime": {
     "end_time": "2020-10-19T05:12:12.508959Z",
     "start_time": "2020-10-19T05:12:12.396866Z"
    }
   },
   "outputs": [
    {
     "data": {
      "text/html": [
       "<div>\n",
       "<style scoped>\n",
       "    .dataframe tbody tr th:only-of-type {\n",
       "        vertical-align: middle;\n",
       "    }\n",
       "\n",
       "    .dataframe tbody tr th {\n",
       "        vertical-align: top;\n",
       "    }\n",
       "\n",
       "    .dataframe thead th {\n",
       "        text-align: right;\n",
       "    }\n",
       "</style>\n",
       "<table border=\"1\" class=\"dataframe\">\n",
       "  <thead>\n",
       "    <tr style=\"text-align: right;\">\n",
       "      <th></th>\n",
       "      <th>city</th>\n",
       "      <th>color</th>\n",
       "      <th>ts</th>\n",
       "      <th>value</th>\n",
       "    </tr>\n",
       "  </thead>\n",
       "  <tbody>\n",
       "    <tr>\n",
       "      <th>0</th>\n",
       "      <td>paris</td>\n",
       "      <td>green</td>\n",
       "      <td>2020-02-02 00:00:00</td>\n",
       "      <td>78.66</td>\n",
       "    </tr>\n",
       "    <tr>\n",
       "      <th>1</th>\n",
       "      <td>new york</td>\n",
       "      <td>white</td>\n",
       "      <td>2020-02-02 00:01:00</td>\n",
       "      <td>46.25</td>\n",
       "    </tr>\n",
       "    <tr>\n",
       "      <th>2</th>\n",
       "      <td>berlin</td>\n",
       "      <td>red</td>\n",
       "      <td>2020-02-02 00:02:00</td>\n",
       "      <td>61.18</td>\n",
       "    </tr>\n",
       "    <tr>\n",
       "      <th>3</th>\n",
       "      <td>berlin</td>\n",
       "      <td>white</td>\n",
       "      <td>2020-02-02 00:03:00</td>\n",
       "      <td>99.43</td>\n",
       "    </tr>\n",
       "    <tr>\n",
       "      <th>4</th>\n",
       "      <td>berlin</td>\n",
       "      <td>red</td>\n",
       "      <td>2020-02-02 00:04:00</td>\n",
       "      <td>0.02</td>\n",
       "    </tr>\n",
       "  </tbody>\n",
       "</table>\n",
       "</div>"
      ],
      "text/plain": [
       "       city  color                  ts  value\n",
       "0     paris  green 2020-02-02 00:00:00  78.66\n",
       "1  new york  white 2020-02-02 00:01:00  46.25\n",
       "2    berlin    red 2020-02-02 00:02:00  61.18\n",
       "3    berlin  white 2020-02-02 00:03:00  99.43\n",
       "4    berlin    red 2020-02-02 00:04:00   0.02"
      ]
     },
     "execution_count": 115,
     "metadata": {},
     "output_type": "execute_result"
    }
   ],
   "source": [
    "# Check new df\n",
    "df_2.head()"
   ]
  },
  {
   "cell_type": "markdown",
   "metadata": {},
   "source": [
    "### Calculate cumulative sum (running totals from deltas)\n",
    "\n",
    "cumsum()"
   ]
  },
  {
   "cell_type": "code",
   "execution_count": 116,
   "metadata": {
    "ExecuteTime": {
     "end_time": "2020-10-19T05:12:13.781241Z",
     "start_time": "2020-10-19T05:12:13.660657Z"
    }
   },
   "outputs": [
    {
     "data": {
      "text/html": [
       "<div>\n",
       "<style scoped>\n",
       "    .dataframe tbody tr th:only-of-type {\n",
       "        vertical-align: middle;\n",
       "    }\n",
       "\n",
       "    .dataframe tbody tr th {\n",
       "        vertical-align: top;\n",
       "    }\n",
       "\n",
       "    .dataframe thead th {\n",
       "        text-align: right;\n",
       "    }\n",
       "</style>\n",
       "<table border=\"1\" class=\"dataframe\">\n",
       "  <thead>\n",
       "    <tr style=\"text-align: right;\">\n",
       "      <th></th>\n",
       "      <th>city</th>\n",
       "      <th>color</th>\n",
       "      <th>ts</th>\n",
       "      <th>value</th>\n",
       "      <th>cum_total</th>\n",
       "    </tr>\n",
       "  </thead>\n",
       "  <tbody>\n",
       "    <tr>\n",
       "      <th>3</th>\n",
       "      <td>berlin</td>\n",
       "      <td>white</td>\n",
       "      <td>2020-02-02 00:03:00</td>\n",
       "      <td>99.43</td>\n",
       "      <td>99.43</td>\n",
       "    </tr>\n",
       "    <tr>\n",
       "      <th>8</th>\n",
       "      <td>berlin</td>\n",
       "      <td>white</td>\n",
       "      <td>2020-02-02 00:08:00</td>\n",
       "      <td>49.90</td>\n",
       "      <td>149.33</td>\n",
       "    </tr>\n",
       "    <tr>\n",
       "      <th>19</th>\n",
       "      <td>berlin</td>\n",
       "      <td>white</td>\n",
       "      <td>2020-02-02 00:19:00</td>\n",
       "      <td>22.81</td>\n",
       "      <td>172.14</td>\n",
       "    </tr>\n",
       "    <tr>\n",
       "      <th>38</th>\n",
       "      <td>berlin</td>\n",
       "      <td>white</td>\n",
       "      <td>2020-02-02 00:38:00</td>\n",
       "      <td>22.71</td>\n",
       "      <td>194.85</td>\n",
       "    </tr>\n",
       "    <tr>\n",
       "      <th>60</th>\n",
       "      <td>berlin</td>\n",
       "      <td>white</td>\n",
       "      <td>2020-02-02 01:00:00</td>\n",
       "      <td>27.91</td>\n",
       "      <td>222.75</td>\n",
       "    </tr>\n",
       "    <tr>\n",
       "      <th>68</th>\n",
       "      <td>berlin</td>\n",
       "      <td>white</td>\n",
       "      <td>2020-02-02 01:08:00</td>\n",
       "      <td>62.05</td>\n",
       "      <td>284.80</td>\n",
       "    </tr>\n",
       "    <tr>\n",
       "      <th>84</th>\n",
       "      <td>berlin</td>\n",
       "      <td>white</td>\n",
       "      <td>2020-02-02 01:24:00</td>\n",
       "      <td>84.15</td>\n",
       "      <td>368.95</td>\n",
       "    </tr>\n",
       "    <tr>\n",
       "      <th>85</th>\n",
       "      <td>berlin</td>\n",
       "      <td>white</td>\n",
       "      <td>2020-02-02 01:25:00</td>\n",
       "      <td>2.41</td>\n",
       "      <td>371.36</td>\n",
       "    </tr>\n",
       "  </tbody>\n",
       "</table>\n",
       "</div>"
      ],
      "text/plain": [
       "      city  color                  ts  value  cum_total\n",
       "3   berlin  white 2020-02-02 00:03:00  99.43      99.43\n",
       "8   berlin  white 2020-02-02 00:08:00  49.90     149.33\n",
       "19  berlin  white 2020-02-02 00:19:00  22.81     172.14\n",
       "38  berlin  white 2020-02-02 00:38:00  22.71     194.85\n",
       "60  berlin  white 2020-02-02 01:00:00  27.91     222.75\n",
       "68  berlin  white 2020-02-02 01:08:00  62.05     284.80\n",
       "84  berlin  white 2020-02-02 01:24:00  84.15     368.95\n",
       "85  berlin  white 2020-02-02 01:25:00   2.41     371.36"
      ]
     },
     "execution_count": 116,
     "metadata": {},
     "output_type": "execute_result"
    }
   ],
   "source": [
    "# If you want to assign a new col to the input df\n",
    "df_2[\"cum_total\"] = df_2.sort_values([\"ts\"]).groupby([\"city\", \"color\"])[\"value\"].cumsum()\n",
    "\n",
    "# Check (and drop again)\n",
    "df_2.query(\"city == 'berlin' & color == 'white'\")\n",
    "df_2.drop(\"cum_total\", axis=1, inplace=True)"
   ]
  },
  {
   "cell_type": "code",
   "execution_count": 117,
   "metadata": {
    "ExecuteTime": {
     "end_time": "2020-10-19T05:12:14.324185Z",
     "start_time": "2020-10-19T05:12:14.196666Z"
    }
   },
   "outputs": [
    {
     "data": {
      "text/html": [
       "<div>\n",
       "<style scoped>\n",
       "    .dataframe tbody tr th:only-of-type {\n",
       "        vertical-align: middle;\n",
       "    }\n",
       "\n",
       "    .dataframe tbody tr th {\n",
       "        vertical-align: top;\n",
       "    }\n",
       "\n",
       "    .dataframe thead th {\n",
       "        text-align: right;\n",
       "    }\n",
       "</style>\n",
       "<table border=\"1\" class=\"dataframe\">\n",
       "  <thead>\n",
       "    <tr style=\"text-align: right;\">\n",
       "      <th></th>\n",
       "      <th>city</th>\n",
       "      <th>color</th>\n",
       "      <th>ts</th>\n",
       "      <th>value</th>\n",
       "      <th>cum_total</th>\n",
       "    </tr>\n",
       "  </thead>\n",
       "  <tbody>\n",
       "    <tr>\n",
       "      <th>3</th>\n",
       "      <td>berlin</td>\n",
       "      <td>white</td>\n",
       "      <td>2020-02-02 00:03:00</td>\n",
       "      <td>99.43</td>\n",
       "      <td>99.43</td>\n",
       "    </tr>\n",
       "    <tr>\n",
       "      <th>8</th>\n",
       "      <td>berlin</td>\n",
       "      <td>white</td>\n",
       "      <td>2020-02-02 00:08:00</td>\n",
       "      <td>49.90</td>\n",
       "      <td>149.33</td>\n",
       "    </tr>\n",
       "    <tr>\n",
       "      <th>19</th>\n",
       "      <td>berlin</td>\n",
       "      <td>white</td>\n",
       "      <td>2020-02-02 00:19:00</td>\n",
       "      <td>22.81</td>\n",
       "      <td>172.14</td>\n",
       "    </tr>\n",
       "    <tr>\n",
       "      <th>38</th>\n",
       "      <td>berlin</td>\n",
       "      <td>white</td>\n",
       "      <td>2020-02-02 00:38:00</td>\n",
       "      <td>22.71</td>\n",
       "      <td>194.85</td>\n",
       "    </tr>\n",
       "    <tr>\n",
       "      <th>60</th>\n",
       "      <td>berlin</td>\n",
       "      <td>white</td>\n",
       "      <td>2020-02-02 01:00:00</td>\n",
       "      <td>27.91</td>\n",
       "      <td>222.75</td>\n",
       "    </tr>\n",
       "    <tr>\n",
       "      <th>68</th>\n",
       "      <td>berlin</td>\n",
       "      <td>white</td>\n",
       "      <td>2020-02-02 01:08:00</td>\n",
       "      <td>62.05</td>\n",
       "      <td>284.80</td>\n",
       "    </tr>\n",
       "    <tr>\n",
       "      <th>84</th>\n",
       "      <td>berlin</td>\n",
       "      <td>white</td>\n",
       "      <td>2020-02-02 01:24:00</td>\n",
       "      <td>84.15</td>\n",
       "      <td>368.95</td>\n",
       "    </tr>\n",
       "    <tr>\n",
       "      <th>85</th>\n",
       "      <td>berlin</td>\n",
       "      <td>white</td>\n",
       "      <td>2020-02-02 01:25:00</td>\n",
       "      <td>2.41</td>\n",
       "      <td>371.36</td>\n",
       "    </tr>\n",
       "  </tbody>\n",
       "</table>\n",
       "</div>"
      ],
      "text/plain": [
       "      city  color                  ts  value  cum_total\n",
       "3   berlin  white 2020-02-02 00:03:00  99.43      99.43\n",
       "8   berlin  white 2020-02-02 00:08:00  49.90     149.33\n",
       "19  berlin  white 2020-02-02 00:19:00  22.81     172.14\n",
       "38  berlin  white 2020-02-02 00:38:00  22.71     194.85\n",
       "60  berlin  white 2020-02-02 01:00:00  27.91     222.75\n",
       "68  berlin  white 2020-02-02 01:08:00  62.05     284.80\n",
       "84  berlin  white 2020-02-02 01:24:00  84.15     368.95\n",
       "85  berlin  white 2020-02-02 01:25:00   2.41     371.36"
      ]
     },
     "execution_count": 117,
     "metadata": {},
     "output_type": "execute_result"
    }
   ],
   "source": [
    "# Use df.assign() to assign the new col to a new df object directly\n",
    "df_out = (df_2.assign(cum_total=df_2.sort_values([\"ts\"]).groupby([\"city\", \"color\"])[\"value\"].cumsum()))\n",
    "\n",
    "# Check\n",
    "df_out.query(\"city == 'berlin' & color == 'white'\")"
   ]
  },
  {
   "cell_type": "markdown",
   "metadata": {
    "ExecuteTime": {
     "end_time": "2020-10-18T20:15:40.941149Z",
     "start_time": "2020-10-18T20:15:40.801129Z"
    }
   },
   "source": [
    "### Calculate deltas\n",
    "\n",
    "diff()"
   ]
  },
  {
   "cell_type": "code",
   "execution_count": 118,
   "metadata": {
    "ExecuteTime": {
     "end_time": "2020-10-19T05:12:16.014390Z",
     "start_time": "2020-10-19T05:12:15.891716Z"
    }
   },
   "outputs": [
    {
     "data": {
      "text/html": [
       "<div>\n",
       "<style scoped>\n",
       "    .dataframe tbody tr th:only-of-type {\n",
       "        vertical-align: middle;\n",
       "    }\n",
       "\n",
       "    .dataframe tbody tr th {\n",
       "        vertical-align: top;\n",
       "    }\n",
       "\n",
       "    .dataframe thead th {\n",
       "        text-align: right;\n",
       "    }\n",
       "</style>\n",
       "<table border=\"1\" class=\"dataframe\">\n",
       "  <thead>\n",
       "    <tr style=\"text-align: right;\">\n",
       "      <th></th>\n",
       "      <th>city</th>\n",
       "      <th>color</th>\n",
       "      <th>ts</th>\n",
       "      <th>value</th>\n",
       "      <th>cum_total</th>\n",
       "    </tr>\n",
       "  </thead>\n",
       "  <tbody>\n",
       "    <tr>\n",
       "      <th>3</th>\n",
       "      <td>berlin</td>\n",
       "      <td>white</td>\n",
       "      <td>2020-02-02 00:03:00</td>\n",
       "      <td>99.43</td>\n",
       "      <td>NaN</td>\n",
       "    </tr>\n",
       "    <tr>\n",
       "      <th>8</th>\n",
       "      <td>berlin</td>\n",
       "      <td>white</td>\n",
       "      <td>2020-02-02 00:08:00</td>\n",
       "      <td>49.90</td>\n",
       "      <td>-49.53</td>\n",
       "    </tr>\n",
       "    <tr>\n",
       "      <th>19</th>\n",
       "      <td>berlin</td>\n",
       "      <td>white</td>\n",
       "      <td>2020-02-02 00:19:00</td>\n",
       "      <td>22.81</td>\n",
       "      <td>-27.09</td>\n",
       "    </tr>\n",
       "    <tr>\n",
       "      <th>38</th>\n",
       "      <td>berlin</td>\n",
       "      <td>white</td>\n",
       "      <td>2020-02-02 00:38:00</td>\n",
       "      <td>22.71</td>\n",
       "      <td>-0.10</td>\n",
       "    </tr>\n",
       "    <tr>\n",
       "      <th>60</th>\n",
       "      <td>berlin</td>\n",
       "      <td>white</td>\n",
       "      <td>2020-02-02 01:00:00</td>\n",
       "      <td>27.91</td>\n",
       "      <td>5.20</td>\n",
       "    </tr>\n",
       "    <tr>\n",
       "      <th>68</th>\n",
       "      <td>berlin</td>\n",
       "      <td>white</td>\n",
       "      <td>2020-02-02 01:08:00</td>\n",
       "      <td>62.05</td>\n",
       "      <td>34.14</td>\n",
       "    </tr>\n",
       "    <tr>\n",
       "      <th>84</th>\n",
       "      <td>berlin</td>\n",
       "      <td>white</td>\n",
       "      <td>2020-02-02 01:24:00</td>\n",
       "      <td>84.15</td>\n",
       "      <td>22.09</td>\n",
       "    </tr>\n",
       "    <tr>\n",
       "      <th>85</th>\n",
       "      <td>berlin</td>\n",
       "      <td>white</td>\n",
       "      <td>2020-02-02 01:25:00</td>\n",
       "      <td>2.41</td>\n",
       "      <td>-81.74</td>\n",
       "    </tr>\n",
       "  </tbody>\n",
       "</table>\n",
       "</div>"
      ],
      "text/plain": [
       "      city  color                  ts  value  cum_total\n",
       "3   berlin  white 2020-02-02 00:03:00  99.43        NaN\n",
       "8   berlin  white 2020-02-02 00:08:00  49.90     -49.53\n",
       "19  berlin  white 2020-02-02 00:19:00  22.81     -27.09\n",
       "38  berlin  white 2020-02-02 00:38:00  22.71      -0.10\n",
       "60  berlin  white 2020-02-02 01:00:00  27.91       5.20\n",
       "68  berlin  white 2020-02-02 01:08:00  62.05      34.14\n",
       "84  berlin  white 2020-02-02 01:24:00  84.15      22.09\n",
       "85  berlin  white 2020-02-02 01:25:00   2.41     -81.74"
      ]
     },
     "execution_count": 118,
     "metadata": {},
     "output_type": "execute_result"
    }
   ],
   "source": [
    "df_2[\"cum_total\"] = df_2.sort_values([\"ts\"]).groupby([\"city\", \"color\"])[\"value\"].diff(1)\n",
    "\n",
    "# # Check (and drop again)\n",
    "df_2.query(\"city == 'berlin' & color == 'white'\")\n",
    "df_2.drop(\"cum_total\", axis=1, inplace=True)"
   ]
  },
  {
   "cell_type": "markdown",
   "metadata": {},
   "source": [
    "### Rank\n",
    "\n",
    "rank(), see [docs](https://pandas.pydata.org/pandas-docs/stable/reference/api/pandas.DataFrame.rank.html)<br>\n",
    "If the ranking methods do not suffice (think of PKZ brand segments) go for rankdata from scipy.stats."
   ]
  },
  {
   "cell_type": "code",
   "execution_count": 119,
   "metadata": {
    "ExecuteTime": {
     "end_time": "2020-10-19T05:12:18.518636Z",
     "start_time": "2020-10-19T05:12:18.396098Z"
    }
   },
   "outputs": [
    {
     "data": {
      "text/html": [
       "<div>\n",
       "<style scoped>\n",
       "    .dataframe tbody tr th:only-of-type {\n",
       "        vertical-align: middle;\n",
       "    }\n",
       "\n",
       "    .dataframe tbody tr th {\n",
       "        vertical-align: top;\n",
       "    }\n",
       "\n",
       "    .dataframe thead th {\n",
       "        text-align: right;\n",
       "    }\n",
       "</style>\n",
       "<table border=\"1\" class=\"dataframe\">\n",
       "  <thead>\n",
       "    <tr style=\"text-align: right;\">\n",
       "      <th></th>\n",
       "      <th>city</th>\n",
       "      <th>color</th>\n",
       "      <th>ts</th>\n",
       "      <th>value</th>\n",
       "      <th>rank</th>\n",
       "    </tr>\n",
       "  </thead>\n",
       "  <tbody>\n",
       "    <tr>\n",
       "      <th>90</th>\n",
       "      <td>barcelona</td>\n",
       "      <td>blue</td>\n",
       "      <td>2020-02-02 01:30:00</td>\n",
       "      <td>55.96</td>\n",
       "      <td>1.0</td>\n",
       "    </tr>\n",
       "    <tr>\n",
       "      <th>89</th>\n",
       "      <td>barcelona</td>\n",
       "      <td>blue</td>\n",
       "      <td>2020-02-02 01:29:00</td>\n",
       "      <td>28.00</td>\n",
       "      <td>2.0</td>\n",
       "    </tr>\n",
       "    <tr>\n",
       "      <th>14</th>\n",
       "      <td>barcelona</td>\n",
       "      <td>green</td>\n",
       "      <td>2020-02-02 00:14:00</td>\n",
       "      <td>86.50</td>\n",
       "      <td>1.0</td>\n",
       "    </tr>\n",
       "    <tr>\n",
       "      <th>41</th>\n",
       "      <td>barcelona</td>\n",
       "      <td>green</td>\n",
       "      <td>2020-02-02 00:41:00</td>\n",
       "      <td>71.27</td>\n",
       "      <td>2.0</td>\n",
       "    </tr>\n",
       "    <tr>\n",
       "      <th>22</th>\n",
       "      <td>barcelona</td>\n",
       "      <td>green</td>\n",
       "      <td>2020-02-02 00:22:00</td>\n",
       "      <td>67.92</td>\n",
       "      <td>3.0</td>\n",
       "    </tr>\n",
       "    <tr>\n",
       "      <th>45</th>\n",
       "      <td>barcelona</td>\n",
       "      <td>pink</td>\n",
       "      <td>2020-02-02 00:45:00</td>\n",
       "      <td>97.37</td>\n",
       "      <td>1.0</td>\n",
       "    </tr>\n",
       "    <tr>\n",
       "      <th>52</th>\n",
       "      <td>barcelona</td>\n",
       "      <td>pink</td>\n",
       "      <td>2020-02-02 00:52:00</td>\n",
       "      <td>74.87</td>\n",
       "      <td>2.0</td>\n",
       "    </tr>\n",
       "    <tr>\n",
       "      <th>16</th>\n",
       "      <td>barcelona</td>\n",
       "      <td>pink</td>\n",
       "      <td>2020-02-02 00:16:00</td>\n",
       "      <td>72.93</td>\n",
       "      <td>3.0</td>\n",
       "    </tr>\n",
       "    <tr>\n",
       "      <th>42</th>\n",
       "      <td>barcelona</td>\n",
       "      <td>red</td>\n",
       "      <td>2020-02-02 00:42:00</td>\n",
       "      <td>54.75</td>\n",
       "      <td>1.0</td>\n",
       "    </tr>\n",
       "  </tbody>\n",
       "</table>\n",
       "</div>"
      ],
      "text/plain": [
       "         city  color                  ts  value  rank\n",
       "90  barcelona   blue 2020-02-02 01:30:00  55.96   1.0\n",
       "89  barcelona   blue 2020-02-02 01:29:00  28.00   2.0\n",
       "14  barcelona  green 2020-02-02 00:14:00  86.50   1.0\n",
       "41  barcelona  green 2020-02-02 00:41:00  71.27   2.0\n",
       "22  barcelona  green 2020-02-02 00:22:00  67.92   3.0\n",
       "45  barcelona   pink 2020-02-02 00:45:00  97.37   1.0\n",
       "52  barcelona   pink 2020-02-02 00:52:00  74.87   2.0\n",
       "16  barcelona   pink 2020-02-02 00:16:00  72.93   3.0\n",
       "42  barcelona    red 2020-02-02 00:42:00  54.75   1.0"
      ]
     },
     "execution_count": 119,
     "metadata": {},
     "output_type": "execute_result"
    }
   ],
   "source": [
    "df_2[\"rank\"] = (df_2.groupby([\"city\", \"color\"])[\"value\"]\n",
    "                .rank(method='first', ascending=False)\n",
    "                )\n",
    "\n",
    "# Check\n",
    "df_2.query(\"rank <= 3\").sort_values([\"city\", \"color\", \"rank\"]).head(9)\n",
    "df_2.drop(\"rank\", axis=1, inplace=True)"
   ]
  },
  {
   "cell_type": "code",
   "execution_count": 120,
   "metadata": {
    "ExecuteTime": {
     "end_time": "2020-10-19T05:12:19.430499Z",
     "start_time": "2020-10-19T05:12:19.299552Z"
    }
   },
   "outputs": [],
   "source": [
    "# And just for fun: all chained in one line\n",
    "df_alt = (df_2.assign(rank=df_2.groupby([\"city\", \"color\"])[\"value\"]\n",
    "                               .rank(method=\"first\", ascending=False))\n",
    "                               .query(\"rank <= 3\")\n",
    "                               .sort_values([\"city\", \"color\", \"rank\"])\n",
    "                               .head(9))"
   ]
  },
  {
   "cell_type": "markdown",
   "metadata": {},
   "source": [
    "### Aggregate over groups of rows (rolling, avg)\n",
    "\n",
    "What makes this a bit more complicated, is that now the order of the rows and so the index is changed during the groupby.<br>\n",
    "And it is easiest to set the 'ordering column' to index.<br>\n",
    "\n",
    "Notes: on rolling() params\n",
    "\n",
    "- The rolling window of size 3 means “current row plus 2 preceding”. (but you could change this order)\n",
    "- min_periods=1 is to calculate a value even if we have fewer than 3 records in a window (default is different)\n",
    "- In case you'd want to aggregate with PeriodIndex you'd have to pass additinal parameters.\n",
    "\n",
    "There is _many_ params to customize rolling(), see `help(df.rolling)`."
   ]
  },
  {
   "cell_type": "code",
   "execution_count": 121,
   "metadata": {
    "ExecuteTime": {
     "end_time": "2020-10-19T05:12:23.041815Z",
     "start_time": "2020-10-19T05:12:22.891930Z"
    }
   },
   "outputs": [],
   "source": [
    "# 3-Row-Avg with rolling\n",
    "\n",
    "# 1. Calculate the new col with the avgs return in a new df\n",
    "df_avg = df_2.set_index(\"ts\", drop=True)\n",
    "df_avg = (df_avg.groupby([\"city\", \"color\"])\n",
    "          .rolling(3, min_periods=1)\n",
    "          .mean()\n",
    "          .reset_index())\n",
    "\n",
    "\n",
    "# # Step 2. Merge with original frame (to get original order back)\n",
    "df_out = df_2.merge(df_avg,\n",
    "                    on=[\"city\", \"color\", \"ts\"],\n",
    "                    suffixes=(\"\", \"_avg3\"))"
   ]
  },
  {
   "cell_type": "code",
   "execution_count": 122,
   "metadata": {
    "ExecuteTime": {
     "end_time": "2020-10-19T05:12:25.043420Z",
     "start_time": "2020-10-19T05:12:24.931845Z"
    }
   },
   "outputs": [
    {
     "data": {
      "text/html": [
       "<div>\n",
       "<style scoped>\n",
       "    .dataframe tbody tr th:only-of-type {\n",
       "        vertical-align: middle;\n",
       "    }\n",
       "\n",
       "    .dataframe tbody tr th {\n",
       "        vertical-align: top;\n",
       "    }\n",
       "\n",
       "    .dataframe thead th {\n",
       "        text-align: right;\n",
       "    }\n",
       "</style>\n",
       "<table border=\"1\" class=\"dataframe\">\n",
       "  <thead>\n",
       "    <tr style=\"text-align: right;\">\n",
       "      <th></th>\n",
       "      <th>city</th>\n",
       "      <th>color</th>\n",
       "      <th>ts</th>\n",
       "      <th>value</th>\n",
       "      <th>value_avg3</th>\n",
       "    </tr>\n",
       "  </thead>\n",
       "  <tbody>\n",
       "    <tr>\n",
       "      <th>3</th>\n",
       "      <td>berlin</td>\n",
       "      <td>white</td>\n",
       "      <td>2020-02-02 00:03:00</td>\n",
       "      <td>99.43</td>\n",
       "      <td>99.43</td>\n",
       "    </tr>\n",
       "    <tr>\n",
       "      <th>8</th>\n",
       "      <td>berlin</td>\n",
       "      <td>white</td>\n",
       "      <td>2020-02-02 00:08:00</td>\n",
       "      <td>49.90</td>\n",
       "      <td>74.67</td>\n",
       "    </tr>\n",
       "    <tr>\n",
       "      <th>19</th>\n",
       "      <td>berlin</td>\n",
       "      <td>white</td>\n",
       "      <td>2020-02-02 00:19:00</td>\n",
       "      <td>22.81</td>\n",
       "      <td>57.38</td>\n",
       "    </tr>\n",
       "    <tr>\n",
       "      <th>38</th>\n",
       "      <td>berlin</td>\n",
       "      <td>white</td>\n",
       "      <td>2020-02-02 00:38:00</td>\n",
       "      <td>22.71</td>\n",
       "      <td>31.80</td>\n",
       "    </tr>\n",
       "    <tr>\n",
       "      <th>60</th>\n",
       "      <td>berlin</td>\n",
       "      <td>white</td>\n",
       "      <td>2020-02-02 01:00:00</td>\n",
       "      <td>27.91</td>\n",
       "      <td>24.47</td>\n",
       "    </tr>\n",
       "    <tr>\n",
       "      <th>68</th>\n",
       "      <td>berlin</td>\n",
       "      <td>white</td>\n",
       "      <td>2020-02-02 01:08:00</td>\n",
       "      <td>62.05</td>\n",
       "      <td>37.55</td>\n",
       "    </tr>\n",
       "    <tr>\n",
       "      <th>84</th>\n",
       "      <td>berlin</td>\n",
       "      <td>white</td>\n",
       "      <td>2020-02-02 01:24:00</td>\n",
       "      <td>84.15</td>\n",
       "      <td>58.03</td>\n",
       "    </tr>\n",
       "    <tr>\n",
       "      <th>85</th>\n",
       "      <td>berlin</td>\n",
       "      <td>white</td>\n",
       "      <td>2020-02-02 01:25:00</td>\n",
       "      <td>2.41</td>\n",
       "      <td>49.53</td>\n",
       "    </tr>\n",
       "  </tbody>\n",
       "</table>\n",
       "</div>"
      ],
      "text/plain": [
       "      city  color                  ts  value  value_avg3\n",
       "3   berlin  white 2020-02-02 00:03:00  99.43       99.43\n",
       "8   berlin  white 2020-02-02 00:08:00  49.90       74.67\n",
       "19  berlin  white 2020-02-02 00:19:00  22.81       57.38\n",
       "38  berlin  white 2020-02-02 00:38:00  22.71       31.80\n",
       "60  berlin  white 2020-02-02 01:00:00  27.91       24.47\n",
       "68  berlin  white 2020-02-02 01:08:00  62.05       37.55\n",
       "84  berlin  white 2020-02-02 01:24:00  84.15       58.03\n",
       "85  berlin  white 2020-02-02 01:25:00   2.41       49.53"
      ]
     },
     "execution_count": 122,
     "metadata": {},
     "output_type": "execute_result"
    }
   ],
   "source": [
    "df_out.query(\"city == 'berlin' & color == 'white'\")"
   ]
  },
  {
   "cell_type": "code",
   "execution_count": 18,
   "metadata": {
    "ExecuteTime": {
     "end_time": "2020-10-19T18:18:35.041023Z",
     "start_time": "2020-10-19T18:18:34.872981Z"
    }
   },
   "outputs": [],
   "source": [
    "# Rolling 15 min windows - rolling() with a time-offset, or: resample() with the same time-offset\n",
    "\n",
    "# 1. Calculate the new col with the avgs return in a new df\n",
    "df_avg = df_2.set_index(\"ts\", drop=True)\n",
    "df_avg = (df_avg.groupby([\"city\", \"color\"])\n",
    "          .rolling(\"15min\")  # or: .resample(\"15min\")\n",
    "          .mean()\n",
    "          .reset_index())\n",
    "\n",
    "\n",
    "# Step 2. Merge with original frame (to get original order back)\n",
    "df_out = df_2.merge(df_avg,\n",
    "                    on=[\"city\", \"color\", \"ts\"],\n",
    "                    suffixes=(\"\", \"_avg15min\"))"
   ]
  },
  {
   "cell_type": "code",
   "execution_count": 19,
   "metadata": {
    "ExecuteTime": {
     "end_time": "2020-10-19T18:18:35.323586Z",
     "start_time": "2020-10-19T18:18:35.192025Z"
    }
   },
   "outputs": [
    {
     "data": {
      "text/html": [
       "<div>\n",
       "<style scoped>\n",
       "    .dataframe tbody tr th:only-of-type {\n",
       "        vertical-align: middle;\n",
       "    }\n",
       "\n",
       "    .dataframe tbody tr th {\n",
       "        vertical-align: top;\n",
       "    }\n",
       "\n",
       "    .dataframe thead th {\n",
       "        text-align: right;\n",
       "    }\n",
       "</style>\n",
       "<table border=\"1\" class=\"dataframe\">\n",
       "  <thead>\n",
       "    <tr style=\"text-align: right;\">\n",
       "      <th></th>\n",
       "      <th>city</th>\n",
       "      <th>color</th>\n",
       "      <th>ts</th>\n",
       "      <th>value</th>\n",
       "      <th>value_avg15min</th>\n",
       "    </tr>\n",
       "  </thead>\n",
       "  <tbody>\n",
       "    <tr>\n",
       "      <th>5</th>\n",
       "      <td>berlin</td>\n",
       "      <td>white</td>\n",
       "      <td>2020-02-02 00:05:00</td>\n",
       "      <td>74.31</td>\n",
       "      <td>74.31</td>\n",
       "    </tr>\n",
       "    <tr>\n",
       "      <th>40</th>\n",
       "      <td>berlin</td>\n",
       "      <td>white</td>\n",
       "      <td>2020-02-02 00:40:00</td>\n",
       "      <td>62.28</td>\n",
       "      <td>62.28</td>\n",
       "    </tr>\n",
       "    <tr>\n",
       "      <th>54</th>\n",
       "      <td>berlin</td>\n",
       "      <td>white</td>\n",
       "      <td>2020-02-02 00:54:00</td>\n",
       "      <td>43.98</td>\n",
       "      <td>53.13</td>\n",
       "    </tr>\n",
       "    <tr>\n",
       "      <th>60</th>\n",
       "      <td>berlin</td>\n",
       "      <td>white</td>\n",
       "      <td>2020-02-02 01:00:00</td>\n",
       "      <td>97.33</td>\n",
       "      <td>70.65</td>\n",
       "    </tr>\n",
       "  </tbody>\n",
       "</table>\n",
       "</div>"
      ],
      "text/plain": [
       "      city  color                  ts  value  value_avg15min\n",
       "5   berlin  white 2020-02-02 00:05:00  74.31           74.31\n",
       "40  berlin  white 2020-02-02 00:40:00  62.28           62.28\n",
       "54  berlin  white 2020-02-02 00:54:00  43.98           53.13\n",
       "60  berlin  white 2020-02-02 01:00:00  97.33           70.65"
      ]
     },
     "execution_count": 19,
     "metadata": {},
     "output_type": "execute_result"
    }
   ],
   "source": [
    "df_out.query(\"city == 'berlin' & color == 'white'\")"
   ]
  },
  {
   "cell_type": "markdown",
   "metadata": {},
   "source": [
    "### Aggregate by downsampling the index (resample)\n",
    "\n",
    "As seen above resample() can be used for rolling aggregations too. But here we actually want to downsample the index to fixed 15 min intervalls.<br>\n",
    "Besides the 'classic aproach' there is a much faster alternative using `pd.grouper`. But attention: it only returns intervalls with actual values!"
   ]
  },
  {
   "cell_type": "code",
   "execution_count": 162,
   "metadata": {
    "ExecuteTime": {
     "end_time": "2020-10-19T05:49:09.194770Z",
     "start_time": "2020-10-19T05:49:08.980355Z"
    }
   },
   "outputs": [
    {
     "data": {
      "text/html": [
       "<div>\n",
       "<style scoped>\n",
       "    .dataframe tbody tr th:only-of-type {\n",
       "        vertical-align: middle;\n",
       "    }\n",
       "\n",
       "    .dataframe tbody tr th {\n",
       "        vertical-align: top;\n",
       "    }\n",
       "\n",
       "    .dataframe thead th {\n",
       "        text-align: right;\n",
       "    }\n",
       "</style>\n",
       "<table border=\"1\" class=\"dataframe\">\n",
       "  <thead>\n",
       "    <tr style=\"text-align: right;\">\n",
       "      <th></th>\n",
       "      <th>city</th>\n",
       "      <th>color</th>\n",
       "      <th>ts</th>\n",
       "      <th>value</th>\n",
       "    </tr>\n",
       "  </thead>\n",
       "  <tbody>\n",
       "    <tr>\n",
       "      <th>39</th>\n",
       "      <td>berlin</td>\n",
       "      <td>white</td>\n",
       "      <td>2020-02-02 00:00:00</td>\n",
       "      <td>149.33</td>\n",
       "    </tr>\n",
       "    <tr>\n",
       "      <th>40</th>\n",
       "      <td>berlin</td>\n",
       "      <td>white</td>\n",
       "      <td>2020-02-02 00:15:00</td>\n",
       "      <td>22.81</td>\n",
       "    </tr>\n",
       "    <tr>\n",
       "      <th>41</th>\n",
       "      <td>berlin</td>\n",
       "      <td>white</td>\n",
       "      <td>2020-02-02 00:30:00</td>\n",
       "      <td>22.71</td>\n",
       "    </tr>\n",
       "    <tr>\n",
       "      <th>42</th>\n",
       "      <td>berlin</td>\n",
       "      <td>white</td>\n",
       "      <td>2020-02-02 00:45:00</td>\n",
       "      <td>0.00</td>\n",
       "    </tr>\n",
       "    <tr>\n",
       "      <th>43</th>\n",
       "      <td>berlin</td>\n",
       "      <td>white</td>\n",
       "      <td>2020-02-02 01:00:00</td>\n",
       "      <td>89.96</td>\n",
       "    </tr>\n",
       "    <tr>\n",
       "      <th>44</th>\n",
       "      <td>berlin</td>\n",
       "      <td>white</td>\n",
       "      <td>2020-02-02 01:15:00</td>\n",
       "      <td>86.55</td>\n",
       "    </tr>\n",
       "  </tbody>\n",
       "</table>\n",
       "</div>"
      ],
      "text/plain": [
       "      city  color                  ts   value\n",
       "39  berlin  white 2020-02-02 00:00:00  149.33\n",
       "40  berlin  white 2020-02-02 00:15:00   22.81\n",
       "41  berlin  white 2020-02-02 00:30:00   22.71\n",
       "42  berlin  white 2020-02-02 00:45:00    0.00\n",
       "43  berlin  white 2020-02-02 01:00:00   89.96\n",
       "44  berlin  white 2020-02-02 01:15:00   86.55"
      ]
     },
     "execution_count": 162,
     "metadata": {},
     "output_type": "execute_result"
    }
   ],
   "source": [
    "# Classic approach: Actual resampling to fixed 15 min windows - resample()\n",
    "\n",
    "df_sum = df_2.set_index(\"ts\", drop=True)\n",
    "\n",
    "# Here now you wrap the groupby().resamle() operation into a DF call\n",
    "df_sum = pd.DataFrame(df_sum.groupby([\"city\", \"color\"]) \n",
    "          .resample(\"15min\")[\"value\"]\n",
    "          .sum()\n",
    "          ).reset_index()\n",
    "\n",
    "df_sum.query(\"city == 'berlin' & color == 'white'\")"
   ]
  },
  {
   "cell_type": "code",
   "execution_count": 151,
   "metadata": {
    "ExecuteTime": {
     "end_time": "2020-10-19T05:39:51.170194Z",
     "start_time": "2020-10-19T05:39:50.981127Z"
    }
   },
   "outputs": [
    {
     "data": {
      "text/html": [
       "<div>\n",
       "<style scoped>\n",
       "    .dataframe tbody tr th:only-of-type {\n",
       "        vertical-align: middle;\n",
       "    }\n",
       "\n",
       "    .dataframe tbody tr th {\n",
       "        vertical-align: top;\n",
       "    }\n",
       "\n",
       "    .dataframe thead th {\n",
       "        text-align: right;\n",
       "    }\n",
       "</style>\n",
       "<table border=\"1\" class=\"dataframe\">\n",
       "  <thead>\n",
       "    <tr style=\"text-align: right;\">\n",
       "      <th></th>\n",
       "      <th>ts</th>\n",
       "      <th>city</th>\n",
       "      <th>color</th>\n",
       "      <th>value</th>\n",
       "    </tr>\n",
       "  </thead>\n",
       "  <tbody>\n",
       "    <tr>\n",
       "      <th>4</th>\n",
       "      <td>2020-02-02 00:00:00</td>\n",
       "      <td>berlin</td>\n",
       "      <td>white</td>\n",
       "      <td>149.33</td>\n",
       "    </tr>\n",
       "    <tr>\n",
       "      <th>14</th>\n",
       "      <td>2020-02-02 00:15:00</td>\n",
       "      <td>berlin</td>\n",
       "      <td>white</td>\n",
       "      <td>22.81</td>\n",
       "    </tr>\n",
       "    <tr>\n",
       "      <th>25</th>\n",
       "      <td>2020-02-02 00:30:00</td>\n",
       "      <td>berlin</td>\n",
       "      <td>white</td>\n",
       "      <td>22.71</td>\n",
       "    </tr>\n",
       "    <tr>\n",
       "      <th>45</th>\n",
       "      <td>2020-02-02 01:00:00</td>\n",
       "      <td>berlin</td>\n",
       "      <td>white</td>\n",
       "      <td>89.96</td>\n",
       "    </tr>\n",
       "    <tr>\n",
       "      <th>57</th>\n",
       "      <td>2020-02-02 01:15:00</td>\n",
       "      <td>berlin</td>\n",
       "      <td>white</td>\n",
       "      <td>86.55</td>\n",
       "    </tr>\n",
       "  </tbody>\n",
       "</table>\n",
       "</div>"
      ],
      "text/plain": [
       "                    ts    city  color   value\n",
       "4  2020-02-02 00:00:00  berlin  white  149.33\n",
       "14 2020-02-02 00:15:00  berlin  white   22.81\n",
       "25 2020-02-02 00:30:00  berlin  white   22.71\n",
       "45 2020-02-02 01:00:00  berlin  white   89.96\n",
       "57 2020-02-02 01:15:00  berlin  white   86.55"
      ]
     },
     "execution_count": 151,
     "metadata": {},
     "output_type": "execute_result"
    }
   ],
   "source": [
    "# Faster alternative using pd.Grouper\n",
    "\n",
    "grouper = df_2.groupby([pd.Grouper(freq=\"15min\", key=\"ts\"), \"city\", \"color\"])\n",
    "df_sum = pd.DataFrame(grouper[\"value\"].sum()).reset_index()\n",
    "\n",
    "df_sum.query(\"city == 'berlin' & color == 'white'\")"
   ]
  },
  {
   "cell_type": "markdown",
   "metadata": {},
   "source": [
    "**Attention:**  One intervall is missing because there were no values. This behaviour can lead to problems depending on the use case (remember kpi app ...)\n",
    "\n",
    "... but the speed gains might be worth it:"
   ]
  },
  {
   "cell_type": "code",
   "execution_count": 155,
   "metadata": {
    "ExecuteTime": {
     "end_time": "2020-10-19T05:42:10.981110Z",
     "start_time": "2020-10-19T05:42:10.861073Z"
    }
   },
   "outputs": [],
   "source": [
    "# Use 10000 rows for comparison\n",
    "df_3 = df.iloc[:10000, :].copy()\n",
    "df_3[\"ts\"] = pd.period_range(\"2020-02-02\", periods=10000, freq=\"min\").to_timestamp()\n",
    "df_3[\"value\"] = df_3[\"a_float\"] * 100\n",
    "df_3.drop([\"id\", \"a_float\"], axis=1, inplace=True)"
   ]
  },
  {
   "cell_type": "code",
   "execution_count": 156,
   "metadata": {
    "ExecuteTime": {
     "end_time": "2020-10-19T05:42:31.589062Z",
     "start_time": "2020-10-19T05:42:26.835230Z"
    }
   },
   "outputs": [
    {
     "name": "stdout",
     "output_type": "stream",
     "text": [
      "57.3 ms ± 529 µs per loop (mean ± std. dev. of 7 runs, 10 loops each)\n"
     ]
    }
   ],
   "source": [
    "%%timeit  # classic resample\n",
    "\n",
    "df_sum = df_3.set_index(\"ts\", drop=True)\n",
    "df_sum = pd.DataFrame(df_sum.groupby([\"city\", \"color\"]) \n",
    "          .resample(\"15min\")[\"value\"]\n",
    "          .sum()\n",
    "          ).reset_index()"
   ]
  },
  {
   "cell_type": "code",
   "execution_count": 161,
   "metadata": {
    "ExecuteTime": {
     "end_time": "2020-10-19T05:48:31.826718Z",
     "start_time": "2020-10-19T05:48:28.317970Z"
    }
   },
   "outputs": [
    {
     "name": "stdout",
     "output_type": "stream",
     "text": [
      "4.18 ms ± 89.5 µs per loop (mean ± std. dev. of 7 runs, 100 loops each)\n"
     ]
    }
   ],
   "source": [
    "%%timeit  # pd.Grouper is much faster\n",
    "\n",
    "grouper = df_2.groupby([pd.Grouper(freq=\"15min\", key=\"ts\"), \"city\", \"color\"])\n",
    "df_sum = pd.DataFrame(grouper[\"value\"].sum()).reset_index()"
   ]
  },
  {
   "cell_type": "markdown",
   "metadata": {},
   "source": [
    "### Examples - time since first, time since end, time since preceding\n",
    "\n",
    "The resulting col is in Timedelta format"
   ]
  },
  {
   "cell_type": "code",
   "execution_count": 28,
   "metadata": {
    "ExecuteTime": {
     "end_time": "2020-10-19T18:44:33.439112Z",
     "start_time": "2020-10-19T18:44:33.277114Z"
    }
   },
   "outputs": [
    {
     "data": {
      "text/html": [
       "<div>\n",
       "<style scoped>\n",
       "    .dataframe tbody tr th:only-of-type {\n",
       "        vertical-align: middle;\n",
       "    }\n",
       "\n",
       "    .dataframe tbody tr th {\n",
       "        vertical-align: top;\n",
       "    }\n",
       "\n",
       "    .dataframe thead th {\n",
       "        text-align: right;\n",
       "    }\n",
       "</style>\n",
       "<table border=\"1\" class=\"dataframe\">\n",
       "  <thead>\n",
       "    <tr style=\"text-align: right;\">\n",
       "      <th></th>\n",
       "      <th>city</th>\n",
       "      <th>color</th>\n",
       "      <th>ts</th>\n",
       "      <th>value</th>\n",
       "      <th>time_since_first</th>\n",
       "    </tr>\n",
       "  </thead>\n",
       "  <tbody>\n",
       "    <tr>\n",
       "      <th>5</th>\n",
       "      <td>berlin</td>\n",
       "      <td>white</td>\n",
       "      <td>2020-02-02 00:05:00</td>\n",
       "      <td>74.31</td>\n",
       "      <td>00:00:00</td>\n",
       "    </tr>\n",
       "    <tr>\n",
       "      <th>40</th>\n",
       "      <td>berlin</td>\n",
       "      <td>white</td>\n",
       "      <td>2020-02-02 00:40:00</td>\n",
       "      <td>62.28</td>\n",
       "      <td>00:35:00</td>\n",
       "    </tr>\n",
       "    <tr>\n",
       "      <th>54</th>\n",
       "      <td>berlin</td>\n",
       "      <td>white</td>\n",
       "      <td>2020-02-02 00:54:00</td>\n",
       "      <td>43.98</td>\n",
       "      <td>00:49:00</td>\n",
       "    </tr>\n",
       "    <tr>\n",
       "      <th>60</th>\n",
       "      <td>berlin</td>\n",
       "      <td>white</td>\n",
       "      <td>2020-02-02 01:00:00</td>\n",
       "      <td>97.33</td>\n",
       "      <td>00:55:00</td>\n",
       "    </tr>\n",
       "  </tbody>\n",
       "</table>\n",
       "</div>"
      ],
      "text/plain": [
       "      city  color                  ts  value time_since_first\n",
       "5   berlin  white 2020-02-02 00:05:00  74.31         00:00:00\n",
       "40  berlin  white 2020-02-02 00:40:00  62.28         00:35:00\n",
       "54  berlin  white 2020-02-02 00:54:00  43.98         00:49:00\n",
       "60  berlin  white 2020-02-02 01:00:00  97.33         00:55:00"
      ]
     },
     "execution_count": 28,
     "metadata": {},
     "output_type": "execute_result"
    }
   ],
   "source": [
    "# Time since first visit (not sort=False helps with performance)\n",
    "\n",
    "df_out = df_2.assign(time_since_first=df_2.groupby(\n",
    "    [\"city\", \"color\"], sort=False)\n",
    "    [\"ts\"].apply(lambda x: x - x.min()))\n",
    "\n",
    "df_out.query(\"city == 'berlin' & color == 'white'\")"
   ]
  },
  {
   "cell_type": "code",
   "execution_count": 32,
   "metadata": {
    "ExecuteTime": {
     "end_time": "2020-10-19T18:51:27.534181Z",
     "start_time": "2020-10-19T18:51:27.383139Z"
    }
   },
   "outputs": [
    {
     "name": "stdout",
     "output_type": "stream",
     "text": [
      "End time: 2020-02-02 01:39:00\n"
     ]
    },
    {
     "data": {
      "text/html": [
       "<div>\n",
       "<style scoped>\n",
       "    .dataframe tbody tr th:only-of-type {\n",
       "        vertical-align: middle;\n",
       "    }\n",
       "\n",
       "    .dataframe tbody tr th {\n",
       "        vertical-align: top;\n",
       "    }\n",
       "\n",
       "    .dataframe thead th {\n",
       "        text-align: right;\n",
       "    }\n",
       "</style>\n",
       "<table border=\"1\" class=\"dataframe\">\n",
       "  <thead>\n",
       "    <tr style=\"text-align: right;\">\n",
       "      <th></th>\n",
       "      <th>city</th>\n",
       "      <th>color</th>\n",
       "      <th>ts</th>\n",
       "      <th>value</th>\n",
       "      <th>recency</th>\n",
       "    </tr>\n",
       "  </thead>\n",
       "  <tbody>\n",
       "    <tr>\n",
       "      <th>5</th>\n",
       "      <td>berlin</td>\n",
       "      <td>white</td>\n",
       "      <td>2020-02-02 00:05:00</td>\n",
       "      <td>74.31</td>\n",
       "      <td>01:34:00</td>\n",
       "    </tr>\n",
       "    <tr>\n",
       "      <th>40</th>\n",
       "      <td>berlin</td>\n",
       "      <td>white</td>\n",
       "      <td>2020-02-02 00:40:00</td>\n",
       "      <td>62.28</td>\n",
       "      <td>00:59:00</td>\n",
       "    </tr>\n",
       "    <tr>\n",
       "      <th>54</th>\n",
       "      <td>berlin</td>\n",
       "      <td>white</td>\n",
       "      <td>2020-02-02 00:54:00</td>\n",
       "      <td>43.98</td>\n",
       "      <td>00:45:00</td>\n",
       "    </tr>\n",
       "    <tr>\n",
       "      <th>60</th>\n",
       "      <td>berlin</td>\n",
       "      <td>white</td>\n",
       "      <td>2020-02-02 01:00:00</td>\n",
       "      <td>97.33</td>\n",
       "      <td>00:39:00</td>\n",
       "    </tr>\n",
       "  </tbody>\n",
       "</table>\n",
       "</div>"
      ],
      "text/plain": [
       "      city  color                  ts  value  recency\n",
       "5   berlin  white 2020-02-02 00:05:00  74.31 01:34:00\n",
       "40  berlin  white 2020-02-02 00:40:00  62.28 00:59:00\n",
       "54  berlin  white 2020-02-02 00:54:00  43.98 00:45:00\n",
       "60  berlin  white 2020-02-02 01:00:00  97.33 00:39:00"
      ]
     },
     "execution_count": 32,
     "metadata": {},
     "output_type": "execute_result"
    }
   ],
   "source": [
    "# Time since \"end of period\" (recency)\n",
    "\n",
    "end = df_2[\"ts\"].max()\n",
    "print(\"End time:\", end)\n",
    "\n",
    "df_out = df_2.assign(recency=df_2.groupby(\n",
    "                     [\"city\", \"color\"], sort=False)\n",
    "                     [\"ts\"].apply(lambda x: end - x))\n",
    "\n",
    "df_out.query(\"city == 'berlin' & color == 'white'\")"
   ]
  },
  {
   "cell_type": "code",
   "execution_count": 67,
   "metadata": {
    "ExecuteTime": {
     "end_time": "2020-10-19T19:21:54.471969Z",
     "start_time": "2020-10-19T19:21:54.335414Z"
    }
   },
   "outputs": [
    {
     "data": {
      "text/html": [
       "<div>\n",
       "<style scoped>\n",
       "    .dataframe tbody tr th:only-of-type {\n",
       "        vertical-align: middle;\n",
       "    }\n",
       "\n",
       "    .dataframe tbody tr th {\n",
       "        vertical-align: top;\n",
       "    }\n",
       "\n",
       "    .dataframe thead th {\n",
       "        text-align: right;\n",
       "    }\n",
       "</style>\n",
       "<table border=\"1\" class=\"dataframe\">\n",
       "  <thead>\n",
       "    <tr style=\"text-align: right;\">\n",
       "      <th></th>\n",
       "      <th>city</th>\n",
       "      <th>color</th>\n",
       "      <th>ts</th>\n",
       "      <th>value</th>\n",
       "      <th>time_since_last</th>\n",
       "    </tr>\n",
       "  </thead>\n",
       "  <tbody>\n",
       "    <tr>\n",
       "      <th>5</th>\n",
       "      <td>berlin</td>\n",
       "      <td>white</td>\n",
       "      <td>2020-02-02 00:05:00</td>\n",
       "      <td>74.31</td>\n",
       "      <td>NaT</td>\n",
       "    </tr>\n",
       "    <tr>\n",
       "      <th>40</th>\n",
       "      <td>berlin</td>\n",
       "      <td>white</td>\n",
       "      <td>2020-02-02 00:40:00</td>\n",
       "      <td>62.28</td>\n",
       "      <td>00:35:00</td>\n",
       "    </tr>\n",
       "    <tr>\n",
       "      <th>54</th>\n",
       "      <td>berlin</td>\n",
       "      <td>white</td>\n",
       "      <td>2020-02-02 00:54:00</td>\n",
       "      <td>43.98</td>\n",
       "      <td>00:14:00</td>\n",
       "    </tr>\n",
       "    <tr>\n",
       "      <th>60</th>\n",
       "      <td>berlin</td>\n",
       "      <td>white</td>\n",
       "      <td>2020-02-02 01:00:00</td>\n",
       "      <td>97.33</td>\n",
       "      <td>00:06:00</td>\n",
       "    </tr>\n",
       "  </tbody>\n",
       "</table>\n",
       "</div>"
      ],
      "text/plain": [
       "      city  color                  ts  value time_since_last\n",
       "5   berlin  white 2020-02-02 00:05:00  74.31             NaT\n",
       "40  berlin  white 2020-02-02 00:40:00  62.28        00:35:00\n",
       "54  berlin  white 2020-02-02 00:54:00  43.98        00:14:00\n",
       "60  berlin  white 2020-02-02 01:00:00  97.33        00:06:00"
      ]
     },
     "execution_count": 67,
     "metadata": {},
     "output_type": "execute_result"
    }
   ],
   "source": [
    "# Time since last / preceding visit (delta)\n",
    "\n",
    "df_out = df_2.assign(time_since_last=df_2.groupby(\n",
    "                     [\"city\", \"color\"])[\"ts\"].diff(1))\n",
    "\n",
    "df_out.query(\"city == 'berlin' & color == 'white'\")"
   ]
  },
  {
   "cell_type": "code",
   "execution_count": 44,
   "metadata": {
    "ExecuteTime": {
     "end_time": "2020-10-19T18:59:06.747590Z",
     "start_time": "2020-10-19T18:59:02.118914Z"
    }
   },
   "outputs": [
    {
     "name": "stdout",
     "output_type": "stream",
     "text": [
      "5.56 ms ± 247 µs per loop (mean ± std. dev. of 7 runs, 100 loops each)\n"
     ]
    }
   ],
   "source": [
    "%%timeit\n",
    "\n",
    "# Time since last / preceding visit (delta)\n",
    "df_out = df_2.assign(time_since_last=df_2.groupby(\n",
    "                     [\"city\", \"color\"])[\"ts\"].diff(-1))"
   ]
  },
  {
   "cell_type": "code",
   "execution_count": 45,
   "metadata": {
    "ExecuteTime": {
     "end_time": "2020-10-19T18:59:15.805536Z",
     "start_time": "2020-10-19T18:59:08.453594Z"
    }
   },
   "outputs": [
    {
     "name": "stdout",
     "output_type": "stream",
     "text": [
      "8.88 ms ± 72.7 µs per loop (mean ± std. dev. of 7 runs, 100 loops each)\n"
     ]
    }
   ],
   "source": [
    "%%timeit\n",
    "\n",
    "df_out = df_2.assign(time_since_last=df_2.groupby(\n",
    "                     [\"city\", \"color\"])[\"ts\"].apply(lambda x: x - x.shift(-1)))"
   ]
  },
  {
   "cell_type": "code",
   "execution_count": null,
   "metadata": {},
   "outputs": [],
   "source": []
  }
 ],
 "metadata": {
  "hide_input": false,
  "kernelspec": {
   "display_name": "Python 3",
   "language": "python",
   "name": "python3"
  },
  "language_info": {
   "codemirror_mode": {
    "name": "ipython",
    "version": 3
   },
   "file_extension": ".py",
   "mimetype": "text/x-python",
   "name": "python",
   "nbconvert_exporter": "python",
   "pygments_lexer": "ipython3",
   "version": "3.8.3"
  },
  "toc": {
   "base_numbering": 1,
   "nav_menu": {},
   "number_sections": true,
   "sideBar": false,
   "skip_h1_title": true,
   "title_cell": "Table of Contents",
   "title_sidebar": "Contents",
   "toc_cell": true,
   "toc_position": {},
   "toc_section_display": true,
   "toc_window_display": false
  }
 },
 "nbformat": 4,
 "nbformat_minor": 4
}
