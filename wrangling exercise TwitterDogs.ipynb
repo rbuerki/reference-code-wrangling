{
 "cells": [
  {
   "cell_type": "markdown",
   "metadata": {},
   "source": [
    "### Import necessary packages"
   ]
  },
  {
   "cell_type": "code",
   "execution_count": 7,
   "metadata": {},
   "outputs": [],
   "source": [
    "import pandas as pd\n",
    "import numpy as np\n",
    "import tweepy\n",
    "import requests\n",
    "import json\n",
    "import re\n",
    "\n",
    "%matplotlib inline\n",
    "import matplotlib.pyplot as plt\n",
    "import seaborn as sns; sns.set_style('whitegrid')"
   ]
  },
  {
   "cell_type": "markdown",
   "metadata": {
    "collapsed": true
   },
   "source": [
    "# Gather Data"
   ]
  },
  {
   "cell_type": "code",
   "execution_count": 8,
   "metadata": {},
   "outputs": [
    {
     "name": "stdout",
     "output_type": "stream",
     "text": [
      "<class 'pandas.core.frame.DataFrame'>\n",
      "RangeIndex: 2356 entries, 0 to 2355\n",
      "Data columns (total 17 columns):\n",
      "tweet_id                      2356 non-null int64\n",
      "in_reply_to_status_id         78 non-null float64\n",
      "in_reply_to_user_id           78 non-null float64\n",
      "timestamp                     2356 non-null object\n",
      "source                        2356 non-null object\n",
      "text                          2356 non-null object\n",
      "retweeted_status_id           181 non-null float64\n",
      "retweeted_status_user_id      181 non-null float64\n",
      "retweeted_status_timestamp    181 non-null object\n",
      "expanded_urls                 2297 non-null object\n",
      "rating_numerator              2356 non-null int64\n",
      "rating_denominator            2356 non-null int64\n",
      "name                          2356 non-null object\n",
      "doggo                         2356 non-null object\n",
      "floofer                       2356 non-null object\n",
      "pupper                        2356 non-null object\n",
      "puppo                         2356 non-null object\n",
      "dtypes: float64(4), int64(3), object(10)\n",
      "memory usage: 313.0+ KB\n"
     ]
    }
   ],
   "source": [
    "\"\"\"Read tweets from given csv-file into a dataframe\"\"\"\n",
    "\n",
    "tweets = pd.read_csv('data/twitter-archive-enhanced.csv')\n",
    "tweets.info()"
   ]
  },
  {
   "cell_type": "code",
   "execution_count": 9,
   "metadata": {},
   "outputs": [
    {
     "name": "stdout",
     "output_type": "stream",
     "text": [
      "<class 'pandas.core.frame.DataFrame'>\n",
      "RangeIndex: 2075 entries, 0 to 2074\n",
      "Data columns (total 12 columns):\n",
      "tweet_id    2075 non-null int64\n",
      "jpg_url     2075 non-null object\n",
      "img_num     2075 non-null int64\n",
      "p1          2075 non-null object\n",
      "p1_conf     2075 non-null float64\n",
      "p1_dog      2075 non-null bool\n",
      "p2          2075 non-null object\n",
      "p2_conf     2075 non-null float64\n",
      "p2_dog      2075 non-null bool\n",
      "p3          2075 non-null object\n",
      "p3_conf     2075 non-null float64\n",
      "p3_dog      2075 non-null bool\n",
      "dtypes: bool(3), float64(3), int64(2), object(4)\n",
      "memory usage: 152.1+ KB\n"
     ]
    }
   ],
   "source": [
    "\"\"\"Download tweet image predictions file programmatically using the Requests library and read into a dataframe\"\"\"\n",
    "\n",
    "url = 'https://d17h27t6h515a5.cloudfront.net/topher/2017/August/599fd2ad_image-predictions/image-predictions.tsv'\n",
    "r = requests.get(url)\n",
    "r.headers['content-type']\n",
    "pred_images = r.text\n",
    "\n",
    "# write to a file \"pred_images.tsv\" - this step is not necessary, but I want to make a safety copy in my working folder\n",
    "outfile = open('data/pred_images.tsv', 'w')\n",
    "outfile.write(pred_images)\n",
    "outfile.close()\n",
    "\n",
    "# read saved tsv-file into a dataframe\n",
    "pred_images = pd.read_csv('data/pred_images.tsv', sep=\"\\t\")\n",
    "pred_images.info()"
   ]
  },
  {
   "cell_type": "code",
   "execution_count": 10,
   "metadata": {},
   "outputs": [],
   "source": [
    "\"\"\" Request tweet metadata from Twitter API with Tweety\"\"\"\n",
    "\n",
    "consumer_key = ''\n",
    "consumer_secret = ''\n",
    "access_token = ''\n",
    "access_secret = ''\n",
    "\n",
    "auth = tweepy.OAuthHandler(consumer_key, consumer_secret)\n",
    "auth.set_access_token(access_token, access_secret)\n",
    "\n",
    "api = tweepy.API(auth_handler=auth, wait_on_rate_limit=True, wait_on_rate_limit_notify=True)"
   ]
  },
  {
   "cell_type": "code",
   "execution_count": 11,
   "metadata": {},
   "outputs": [
    {
     "name": "stdout",
     "output_type": "stream",
     "text": [
      "[{'code': 144, 'message': 'No status found with that ID.'}]\n",
      "[{'code': 144, 'message': 'No status found with that ID.'}]\n",
      "[{'code': 34, 'message': 'Sorry, that page does not exist.'}]\n",
      "[{'code': 144, 'message': 'No status found with that ID.'}]\n",
      "[{'code': 144, 'message': 'No status found with that ID.'}]\n",
      "[{'code': 144, 'message': 'No status found with that ID.'}]\n",
      "[{'code': 144, 'message': 'No status found with that ID.'}]\n",
      "[{'code': 144, 'message': 'No status found with that ID.'}]\n",
      "[{'code': 144, 'message': 'No status found with that ID.'}]\n",
      "[{'code': 144, 'message': 'No status found with that ID.'}]\n",
      "[{'code': 144, 'message': 'No status found with that ID.'}]\n",
      "[{'code': 144, 'message': 'No status found with that ID.'}]\n",
      "[{'code': 179, 'message': 'Sorry, you are not authorized to see this status.'}]\n",
      "[{'code': 144, 'message': 'No status found with that ID.'}]\n",
      "Rate limit reached. Sleeping for: 734\n",
      "[{'code': 144, 'message': 'No status found with that ID.'}]\n",
      "Rate limit reached. Sleeping for: 735\n"
     ]
    }
   ],
   "source": [
    "\"\"\"Download metadata with JSON, write to txt-file line by line and read into dataframe\"\"\"\n",
    "\n",
    "# storing stweet ids in list\n",
    "tweet_ids = list(tweets['tweet_id'].astype(str))\n",
    "\n",
    "# download metadata and write to file\n",
    "exceptions = []\n",
    "with open('data/tweet_json.txt', 'w', encoding = 'utf-8') as f:\n",
    "    for id_tweet in tweet_ids: \n",
    "        try:\n",
    "            tweet = api.get_status(id_tweet, tweet_mode= 'extended')\n",
    "            json.dump(tweet._json, f)\n",
    "            f.write(\"\\n\")\n",
    "        except Exception as e:\n",
    "            exceptions.append(id)\n",
    "            print(str(e))"
   ]
  },
  {
   "cell_type": "code",
   "execution_count": 12,
   "metadata": {},
   "outputs": [
    {
     "name": "stdout",
     "output_type": "stream",
     "text": [
      "<class 'pandas.core.frame.DataFrame'>\n",
      "Int64Index: 2341 entries, 0 to 2340\n",
      "Data columns (total 3 columns):\n",
      "id                2341 non-null int64\n",
      "favorite_count    2341 non-null int64\n",
      "retweet_count     2341 non-null int64\n",
      "dtypes: int64(3)\n",
      "memory usage: 73.2 KB\n"
     ]
    }
   ],
   "source": [
    "# read txt-file with json-data into dataframe, keep only relevant columns\n",
    "tweet_data = pd.read_json('data/tweet_json.txt', orient=\"records\", lines=True)\n",
    "tweet_data = tweet_data[['id', 'favorite_count', 'retweet_count']]\n",
    "tweet_data.info()"
   ]
  },
  {
   "cell_type": "markdown",
   "metadata": {},
   "source": [
    "# Assess Data"
   ]
  },
  {
   "cell_type": "markdown",
   "metadata": {},
   "source": [
    "You can assess data for:\n",
    "Quality: issues with content. Low quality data is also known as dirty data.\n",
    "    \n",
    "Tidiness: issues with structure that prevent easy analysis. Untidy data is also known as messy data. Tidy data requirements:\n",
    "Each variable forms a column.\n",
    "Each observation forms a row. \n",
    "Each type of observational unit forms a table.\n",
    "\n",
    "\n",
    "Four main dimensions of data quality (dirty data) (in decreasing order - can help to guide the thought process):\n",
    "\t1. Completeness\n",
    "\t2. Validity (e.g. text in numeric field, duplicate entry in ID field, ...)\n",
    "\t3. Accuracy (wrong data that is valid)\n",
    "\t4. Inconsistency (e.g. abbreviation vs. full name)\n",
    "\n"
   ]
  },
  {
   "cell_type": "markdown",
   "metadata": {},
   "source": [
    "### Dataframe: 'tweets'"
   ]
  },
  {
   "cell_type": "code",
   "execution_count": 13,
   "metadata": {},
   "outputs": [
    {
     "name": "stdout",
     "output_type": "stream",
     "text": [
      "<class 'pandas.core.frame.DataFrame'>\n",
      "RangeIndex: 2356 entries, 0 to 2355\n",
      "Data columns (total 17 columns):\n",
      "tweet_id                      2356 non-null int64\n",
      "in_reply_to_status_id         78 non-null float64\n",
      "in_reply_to_user_id           78 non-null float64\n",
      "timestamp                     2356 non-null object\n",
      "source                        2356 non-null object\n",
      "text                          2356 non-null object\n",
      "retweeted_status_id           181 non-null float64\n",
      "retweeted_status_user_id      181 non-null float64\n",
      "retweeted_status_timestamp    181 non-null object\n",
      "expanded_urls                 2297 non-null object\n",
      "rating_numerator              2356 non-null int64\n",
      "rating_denominator            2356 non-null int64\n",
      "name                          2356 non-null object\n",
      "doggo                         2356 non-null object\n",
      "floofer                       2356 non-null object\n",
      "pupper                        2356 non-null object\n",
      "puppo                         2356 non-null object\n",
      "dtypes: float64(4), int64(3), object(10)\n",
      "memory usage: 313.0+ KB\n"
     ]
    }
   ],
   "source": [
    "tweets.info()"
   ]
  },
  {
   "cell_type": "code",
   "execution_count": 14,
   "metadata": {},
   "outputs": [
    {
     "data": {
      "text/html": [
       "<div>\n",
       "<style>\n",
       "    .dataframe thead tr:only-child th {\n",
       "        text-align: right;\n",
       "    }\n",
       "\n",
       "    .dataframe thead th {\n",
       "        text-align: left;\n",
       "    }\n",
       "\n",
       "    .dataframe tbody tr th {\n",
       "        vertical-align: top;\n",
       "    }\n",
       "</style>\n",
       "<table border=\"1\" class=\"dataframe\">\n",
       "  <thead>\n",
       "    <tr style=\"text-align: right;\">\n",
       "      <th></th>\n",
       "      <th>tweet_id</th>\n",
       "      <th>in_reply_to_status_id</th>\n",
       "      <th>in_reply_to_user_id</th>\n",
       "      <th>timestamp</th>\n",
       "      <th>source</th>\n",
       "      <th>text</th>\n",
       "      <th>retweeted_status_id</th>\n",
       "      <th>retweeted_status_user_id</th>\n",
       "      <th>retweeted_status_timestamp</th>\n",
       "      <th>expanded_urls</th>\n",
       "      <th>rating_numerator</th>\n",
       "      <th>rating_denominator</th>\n",
       "      <th>name</th>\n",
       "      <th>doggo</th>\n",
       "      <th>floofer</th>\n",
       "      <th>pupper</th>\n",
       "      <th>puppo</th>\n",
       "    </tr>\n",
       "  </thead>\n",
       "  <tbody>\n",
       "    <tr>\n",
       "      <th>901</th>\n",
       "      <td>758474966123810816</td>\n",
       "      <td>NaN</td>\n",
       "      <td>NaN</td>\n",
       "      <td>2016-07-28 01:31:38 +0000</td>\n",
       "      <td>&lt;a href=\"http://twitter.com/download/iphone\" r...</td>\n",
       "      <td>This is Brandonald. He accidentally opened the...</td>\n",
       "      <td>NaN</td>\n",
       "      <td>NaN</td>\n",
       "      <td>NaN</td>\n",
       "      <td>https://twitter.com/dog_rates/status/758474966...</td>\n",
       "      <td>11</td>\n",
       "      <td>10</td>\n",
       "      <td>Brandonald</td>\n",
       "      <td>None</td>\n",
       "      <td>None</td>\n",
       "      <td>None</td>\n",
       "      <td>None</td>\n",
       "    </tr>\n",
       "    <tr>\n",
       "      <th>2014</th>\n",
       "      <td>672222792075620352</td>\n",
       "      <td>NaN</td>\n",
       "      <td>NaN</td>\n",
       "      <td>2015-12-03 01:16:17 +0000</td>\n",
       "      <td>&lt;a href=\"http://twitter.com/download/iphone\" r...</td>\n",
       "      <td>This is Cal. He's a Swedish Geriatric Cheddar....</td>\n",
       "      <td>NaN</td>\n",
       "      <td>NaN</td>\n",
       "      <td>NaN</td>\n",
       "      <td>https://twitter.com/dog_rates/status/672222792...</td>\n",
       "      <td>9</td>\n",
       "      <td>10</td>\n",
       "      <td>Cal</td>\n",
       "      <td>None</td>\n",
       "      <td>None</td>\n",
       "      <td>None</td>\n",
       "      <td>None</td>\n",
       "    </tr>\n",
       "    <tr>\n",
       "      <th>1925</th>\n",
       "      <td>674063288070742018</td>\n",
       "      <td>NaN</td>\n",
       "      <td>NaN</td>\n",
       "      <td>2015-12-08 03:09:46 +0000</td>\n",
       "      <td>&lt;a href=\"http://twitter.com/download/iphone\" r...</td>\n",
       "      <td>This is Earl. Earl is lost. Someone help Earl....</td>\n",
       "      <td>NaN</td>\n",
       "      <td>NaN</td>\n",
       "      <td>NaN</td>\n",
       "      <td>https://twitter.com/dog_rates/status/674063288...</td>\n",
       "      <td>5</td>\n",
       "      <td>10</td>\n",
       "      <td>Earl</td>\n",
       "      <td>None</td>\n",
       "      <td>None</td>\n",
       "      <td>None</td>\n",
       "      <td>None</td>\n",
       "    </tr>\n",
       "    <tr>\n",
       "      <th>2277</th>\n",
       "      <td>667437278097252352</td>\n",
       "      <td>NaN</td>\n",
       "      <td>NaN</td>\n",
       "      <td>2015-11-19 20:20:22 +0000</td>\n",
       "      <td>&lt;a href=\"http://twitter.com/download/iphone\" r...</td>\n",
       "      <td>Never seen this breed before. Very pointy pup....</td>\n",
       "      <td>NaN</td>\n",
       "      <td>NaN</td>\n",
       "      <td>NaN</td>\n",
       "      <td>https://twitter.com/dog_rates/status/667437278...</td>\n",
       "      <td>10</td>\n",
       "      <td>10</td>\n",
       "      <td>None</td>\n",
       "      <td>None</td>\n",
       "      <td>None</td>\n",
       "      <td>None</td>\n",
       "      <td>None</td>\n",
       "    </tr>\n",
       "    <tr>\n",
       "      <th>1139</th>\n",
       "      <td>728015554473250816</td>\n",
       "      <td>NaN</td>\n",
       "      <td>NaN</td>\n",
       "      <td>2016-05-05 00:16:48 +0000</td>\n",
       "      <td>&lt;a href=\"http://twitter.com/download/iphone\" r...</td>\n",
       "      <td>This is Rueben. He has reached ultimate pupper...</td>\n",
       "      <td>NaN</td>\n",
       "      <td>NaN</td>\n",
       "      <td>NaN</td>\n",
       "      <td>https://twitter.com/dog_rates/status/728015554...</td>\n",
       "      <td>11</td>\n",
       "      <td>10</td>\n",
       "      <td>Rueben</td>\n",
       "      <td>None</td>\n",
       "      <td>None</td>\n",
       "      <td>pupper</td>\n",
       "      <td>None</td>\n",
       "    </tr>\n",
       "    <tr>\n",
       "      <th>203</th>\n",
       "      <td>853299958564483072</td>\n",
       "      <td>NaN</td>\n",
       "      <td>NaN</td>\n",
       "      <td>2017-04-15 17:32:18 +0000</td>\n",
       "      <td>&lt;a href=\"http://twitter.com/download/iphone\" r...</td>\n",
       "      <td>This is Rumpole. He'll be your Uber driver thi...</td>\n",
       "      <td>NaN</td>\n",
       "      <td>NaN</td>\n",
       "      <td>NaN</td>\n",
       "      <td>https://twitter.com/dog_rates/status/853299958...</td>\n",
       "      <td>13</td>\n",
       "      <td>10</td>\n",
       "      <td>Rumpole</td>\n",
       "      <td>None</td>\n",
       "      <td>None</td>\n",
       "      <td>None</td>\n",
       "      <td>None</td>\n",
       "    </tr>\n",
       "    <tr>\n",
       "      <th>1060</th>\n",
       "      <td>741438259667034112</td>\n",
       "      <td>NaN</td>\n",
       "      <td>NaN</td>\n",
       "      <td>2016-06-11 01:13:51 +0000</td>\n",
       "      <td>&lt;a href=\"http://twitter.com/download/iphone\" r...</td>\n",
       "      <td>This is Tucker. He's still figuring out couche...</td>\n",
       "      <td>NaN</td>\n",
       "      <td>NaN</td>\n",
       "      <td>NaN</td>\n",
       "      <td>https://twitter.com/dog_rates/status/741438259...</td>\n",
       "      <td>9</td>\n",
       "      <td>10</td>\n",
       "      <td>Tucker</td>\n",
       "      <td>None</td>\n",
       "      <td>None</td>\n",
       "      <td>None</td>\n",
       "      <td>None</td>\n",
       "    </tr>\n",
       "    <tr>\n",
       "      <th>1339</th>\n",
       "      <td>704871453724954624</td>\n",
       "      <td>6.671522e+17</td>\n",
       "      <td>4.196984e+09</td>\n",
       "      <td>2016-03-02 03:30:25 +0000</td>\n",
       "      <td>&lt;a href=\"http://twitter.com/download/iphone\" r...</td>\n",
       "      <td>I found a forest Pipsy. 12/10 https://t.co/mIQ...</td>\n",
       "      <td>NaN</td>\n",
       "      <td>NaN</td>\n",
       "      <td>NaN</td>\n",
       "      <td>https://twitter.com/dog_rates/status/704871453...</td>\n",
       "      <td>12</td>\n",
       "      <td>10</td>\n",
       "      <td>None</td>\n",
       "      <td>None</td>\n",
       "      <td>None</td>\n",
       "      <td>None</td>\n",
       "      <td>None</td>\n",
       "    </tr>\n",
       "    <tr>\n",
       "      <th>261</th>\n",
       "      <td>842846295480000512</td>\n",
       "      <td>NaN</td>\n",
       "      <td>NaN</td>\n",
       "      <td>2017-03-17 21:13:10 +0000</td>\n",
       "      <td>&lt;a href=\"http://twitter.com/download/iphone\" r...</td>\n",
       "      <td>This is Charlie. He's wishing you a very fun a...</td>\n",
       "      <td>NaN</td>\n",
       "      <td>NaN</td>\n",
       "      <td>NaN</td>\n",
       "      <td>https://twitter.com/dog_rates/status/842846295...</td>\n",
       "      <td>13</td>\n",
       "      <td>10</td>\n",
       "      <td>Charlie</td>\n",
       "      <td>None</td>\n",
       "      <td>None</td>\n",
       "      <td>None</td>\n",
       "      <td>None</td>\n",
       "    </tr>\n",
       "    <tr>\n",
       "      <th>513</th>\n",
       "      <td>811647686436880384</td>\n",
       "      <td>8.116272e+17</td>\n",
       "      <td>4.196984e+09</td>\n",
       "      <td>2016-12-21 19:01:02 +0000</td>\n",
       "      <td>&lt;a href=\"http://twitter.com/download/iphone\" r...</td>\n",
       "      <td>PUPDATE: I've been informed that Augie was act...</td>\n",
       "      <td>NaN</td>\n",
       "      <td>NaN</td>\n",
       "      <td>NaN</td>\n",
       "      <td>NaN</td>\n",
       "      <td>11</td>\n",
       "      <td>10</td>\n",
       "      <td>None</td>\n",
       "      <td>None</td>\n",
       "      <td>None</td>\n",
       "      <td>None</td>\n",
       "      <td>None</td>\n",
       "    </tr>\n",
       "  </tbody>\n",
       "</table>\n",
       "</div>"
      ],
      "text/plain": [
       "                tweet_id  in_reply_to_status_id  in_reply_to_user_id  \\\n",
       "901   758474966123810816                    NaN                  NaN   \n",
       "2014  672222792075620352                    NaN                  NaN   \n",
       "1925  674063288070742018                    NaN                  NaN   \n",
       "2277  667437278097252352                    NaN                  NaN   \n",
       "1139  728015554473250816                    NaN                  NaN   \n",
       "203   853299958564483072                    NaN                  NaN   \n",
       "1060  741438259667034112                    NaN                  NaN   \n",
       "1339  704871453724954624           6.671522e+17         4.196984e+09   \n",
       "261   842846295480000512                    NaN                  NaN   \n",
       "513   811647686436880384           8.116272e+17         4.196984e+09   \n",
       "\n",
       "                      timestamp  \\\n",
       "901   2016-07-28 01:31:38 +0000   \n",
       "2014  2015-12-03 01:16:17 +0000   \n",
       "1925  2015-12-08 03:09:46 +0000   \n",
       "2277  2015-11-19 20:20:22 +0000   \n",
       "1139  2016-05-05 00:16:48 +0000   \n",
       "203   2017-04-15 17:32:18 +0000   \n",
       "1060  2016-06-11 01:13:51 +0000   \n",
       "1339  2016-03-02 03:30:25 +0000   \n",
       "261   2017-03-17 21:13:10 +0000   \n",
       "513   2016-12-21 19:01:02 +0000   \n",
       "\n",
       "                                                 source  \\\n",
       "901   <a href=\"http://twitter.com/download/iphone\" r...   \n",
       "2014  <a href=\"http://twitter.com/download/iphone\" r...   \n",
       "1925  <a href=\"http://twitter.com/download/iphone\" r...   \n",
       "2277  <a href=\"http://twitter.com/download/iphone\" r...   \n",
       "1139  <a href=\"http://twitter.com/download/iphone\" r...   \n",
       "203   <a href=\"http://twitter.com/download/iphone\" r...   \n",
       "1060  <a href=\"http://twitter.com/download/iphone\" r...   \n",
       "1339  <a href=\"http://twitter.com/download/iphone\" r...   \n",
       "261   <a href=\"http://twitter.com/download/iphone\" r...   \n",
       "513   <a href=\"http://twitter.com/download/iphone\" r...   \n",
       "\n",
       "                                                   text  retweeted_status_id  \\\n",
       "901   This is Brandonald. He accidentally opened the...                  NaN   \n",
       "2014  This is Cal. He's a Swedish Geriatric Cheddar....                  NaN   \n",
       "1925  This is Earl. Earl is lost. Someone help Earl....                  NaN   \n",
       "2277  Never seen this breed before. Very pointy pup....                  NaN   \n",
       "1139  This is Rueben. He has reached ultimate pupper...                  NaN   \n",
       "203   This is Rumpole. He'll be your Uber driver thi...                  NaN   \n",
       "1060  This is Tucker. He's still figuring out couche...                  NaN   \n",
       "1339  I found a forest Pipsy. 12/10 https://t.co/mIQ...                  NaN   \n",
       "261   This is Charlie. He's wishing you a very fun a...                  NaN   \n",
       "513   PUPDATE: I've been informed that Augie was act...                  NaN   \n",
       "\n",
       "      retweeted_status_user_id retweeted_status_timestamp  \\\n",
       "901                        NaN                        NaN   \n",
       "2014                       NaN                        NaN   \n",
       "1925                       NaN                        NaN   \n",
       "2277                       NaN                        NaN   \n",
       "1139                       NaN                        NaN   \n",
       "203                        NaN                        NaN   \n",
       "1060                       NaN                        NaN   \n",
       "1339                       NaN                        NaN   \n",
       "261                        NaN                        NaN   \n",
       "513                        NaN                        NaN   \n",
       "\n",
       "                                          expanded_urls  rating_numerator  \\\n",
       "901   https://twitter.com/dog_rates/status/758474966...                11   \n",
       "2014  https://twitter.com/dog_rates/status/672222792...                 9   \n",
       "1925  https://twitter.com/dog_rates/status/674063288...                 5   \n",
       "2277  https://twitter.com/dog_rates/status/667437278...                10   \n",
       "1139  https://twitter.com/dog_rates/status/728015554...                11   \n",
       "203   https://twitter.com/dog_rates/status/853299958...                13   \n",
       "1060  https://twitter.com/dog_rates/status/741438259...                 9   \n",
       "1339  https://twitter.com/dog_rates/status/704871453...                12   \n",
       "261   https://twitter.com/dog_rates/status/842846295...                13   \n",
       "513                                                 NaN                11   \n",
       "\n",
       "      rating_denominator        name doggo floofer  pupper puppo  \n",
       "901                   10  Brandonald  None    None    None  None  \n",
       "2014                  10         Cal  None    None    None  None  \n",
       "1925                  10        Earl  None    None    None  None  \n",
       "2277                  10        None  None    None    None  None  \n",
       "1139                  10      Rueben  None    None  pupper  None  \n",
       "203                   10     Rumpole  None    None    None  None  \n",
       "1060                  10      Tucker  None    None    None  None  \n",
       "1339                  10        None  None    None    None  None  \n",
       "261                   10     Charlie  None    None    None  None  \n",
       "513                   10        None  None    None    None  None  "
      ]
     },
     "execution_count": 14,
     "metadata": {},
     "output_type": "execute_result"
    }
   ],
   "source": [
    "tweets.sample(10)"
   ]
  },
  {
   "cell_type": "code",
   "execution_count": 15,
   "metadata": {},
   "outputs": [
    {
     "data": {
      "text/plain": [
       "<matplotlib.axes._subplots.AxesSubplot at 0x7fbaf04b5940>"
      ]
     },
     "execution_count": 15,
     "metadata": {},
     "output_type": "execute_result"
    },
    {
     "data": {
      "image/png": "[encoded data removed]",
      "text/plain": [
       "<matplotlib.figure.Figure at 0x7fbaf04b90f0>"
      ]
     },
     "metadata": {},
     "output_type": "display_data"
    }
   ],
   "source": [
    "\"\"\"Check for NaN\"\"\"\n",
    "\n",
    "sns.heatmap(tweets.isnull(),yticklabels=False,cbar=False,cmap='viridis')   # heatmap of NaNs"
   ]
  },
  {
   "cell_type": "code",
   "execution_count": 16,
   "metadata": {},
   "outputs": [
    {
     "data": {
      "text/plain": [
       "12      558\n",
       "11      464\n",
       "10      461\n",
       "13      351\n",
       "9       158\n",
       "8       102\n",
       "7        55\n",
       "14       54\n",
       "5        37\n",
       "6        32\n",
       "3        19\n",
       "4        17\n",
       "1         9\n",
       "2         9\n",
       "420       2\n",
       "0         2\n",
       "15        2\n",
       "75        2\n",
       "80        1\n",
       "20        1\n",
       "24        1\n",
       "26        1\n",
       "44        1\n",
       "50        1\n",
       "60        1\n",
       "165       1\n",
       "84        1\n",
       "88        1\n",
       "144       1\n",
       "182       1\n",
       "143       1\n",
       "666       1\n",
       "960       1\n",
       "1776      1\n",
       "17        1\n",
       "27        1\n",
       "45        1\n",
       "99        1\n",
       "121       1\n",
       "204       1\n",
       "Name: rating_numerator, dtype: int64"
      ]
     },
     "execution_count": 16,
     "metadata": {},
     "output_type": "execute_result"
    }
   ],
   "source": [
    "\"\"\"Look for suspicious numerators\"\"\"\n",
    "\n",
    "tweets['rating_numerator'].value_counts()"
   ]
  },
  {
   "cell_type": "code",
   "execution_count": 17,
   "metadata": {},
   "outputs": [
    {
     "data": {
      "text/plain": [
       "313     @jonnysun @Lin_Manuel ok jomny I know you're e...\n",
       "342              @docmisterio account started on 11/15/15\n",
       "433     The floofs have been released I repeat the flo...\n",
       "516     Meet Sam. She smiles 24/7 &amp; secretly aspir...\n",
       "784     RT @dog_rates: After so many requests, this is...\n",
       "902     Why does this never happen at my front door......\n",
       "1068    After so many requests, this is Bretagne. She ...\n",
       "1120    Say hello to this unbelievably well behaved sq...\n",
       "1165    Happy 4/20 from the squad! 13/10 for all https...\n",
       "1202    This is Bluebert. He just saw that both #Final...\n",
       "1228    Happy Saturday here's 9 puppers on a bench. 99...\n",
       "1254    Here's a brigade of puppers. All look very pre...\n",
       "1274    From left to right:\\nCletus, Jerome, Alejandro...\n",
       "1351    Here is a whole flock of puppers.  60/50 I'll ...\n",
       "1433    Happy Wednesday here's a bucket of pups. 44/40...\n",
       "1598    Yes I do realize a rating of 4/20 would've bee...\n",
       "1634    Two sneaky puppers were not initially seen, mo...\n",
       "1635    Someone help the girl is being mugged. Several...\n",
       "1662    This is Darrel. He just robbed a 7/11 and is i...\n",
       "1663    I'm aware that I could've said 20/16, but here...\n",
       "1779    IT'S PUPPERGEDDON. Total of 144/120 ...I think...\n",
       "1843    Here we have an entire platoon of puppers. Tot...\n",
       "2335    This is an Albanian 3 1/2 legged  Episcopalian...\n",
       "Name: text, dtype: object"
      ]
     },
     "execution_count": 17,
     "metadata": {},
     "output_type": "execute_result"
    }
   ],
   "source": [
    "\"\"\"Check suspicious denominators\"\"\"\n",
    "\n",
    "tweets['text'][tweets['rating_denominator'] != 10]"
   ]
  },
  {
   "cell_type": "code",
   "execution_count": 18,
   "metadata": {},
   "outputs": [
    {
     "data": {
      "text/plain": [
       "a               55\n",
       "the              8\n",
       "an               7\n",
       "very             5\n",
       "just             4\n",
       "quite            4\n",
       "one              4\n",
       "not              2\n",
       "mad              2\n",
       "actually         2\n",
       "getting          2\n",
       "space            1\n",
       "infuriating      1\n",
       "by               1\n",
       "incredibly       1\n",
       "my               1\n",
       "light            1\n",
       "old              1\n",
       "his              1\n",
       "this             1\n",
       "all              1\n",
       "officially       1\n",
       "life             1\n",
       "unacceptable     1\n",
       "such             1\n",
       "Name: name, dtype: int64"
      ]
     },
     "execution_count": 18,
     "metadata": {},
     "output_type": "execute_result"
    }
   ],
   "source": [
    "\"\"\"Check for suspicious dog names\"\"\"\n",
    "\n",
    "tweets['name'].loc[(tweets['name'].str.islower())].value_counts()"
   ]
  },
  {
   "cell_type": "code",
   "execution_count": 19,
   "metadata": {},
   "outputs": [
    {
     "data": {
      "text/plain": [
       "NoneNoneNoneNone        1976\n",
       "NoneNonepupperNone       245\n",
       "doggoNoneNoneNone         83\n",
       "NoneNoneNonepuppo         29\n",
       "doggoNonepupperNone       12\n",
       "NoneflooferNoneNone        9\n",
       "doggoNoneNonepuppo         1\n",
       "doggoflooferNoneNone       1\n",
       "Name: stages, dtype: int64"
      ]
     },
     "execution_count": 19,
     "metadata": {},
     "output_type": "execute_result"
    }
   ],
   "source": [
    "\"\"\"Check dog stages columns\"\"\"\n",
    "\n",
    "for row in tweets.iterrows():\n",
    "    tweets['stages'] = tweets['doggo']+tweets['floofer']+tweets['pupper']+tweets['puppo']\n",
    "\n",
    "tweets['stages'].value_counts()"
   ]
  },
  {
   "cell_type": "markdown",
   "metadata": {},
   "source": [
    "### Dataframe: 'tweet_data'"
   ]
  },
  {
   "cell_type": "code",
   "execution_count": 20,
   "metadata": {},
   "outputs": [
    {
     "name": "stdout",
     "output_type": "stream",
     "text": [
      "<class 'pandas.core.frame.DataFrame'>\n",
      "Int64Index: 2341 entries, 0 to 2340\n",
      "Data columns (total 3 columns):\n",
      "id                2341 non-null int64\n",
      "favorite_count    2341 non-null int64\n",
      "retweet_count     2341 non-null int64\n",
      "dtypes: int64(3)\n",
      "memory usage: 73.2 KB\n"
     ]
    }
   ],
   "source": [
    "tweet_data.info()"
   ]
  },
  {
   "cell_type": "code",
   "execution_count": 21,
   "metadata": {},
   "outputs": [
    {
     "data": {
      "text/html": [
       "<div>\n",
       "<style>\n",
       "    .dataframe thead tr:only-child th {\n",
       "        text-align: right;\n",
       "    }\n",
       "\n",
       "    .dataframe thead th {\n",
       "        text-align: left;\n",
       "    }\n",
       "\n",
       "    .dataframe tbody tr th {\n",
       "        vertical-align: top;\n",
       "    }\n",
       "</style>\n",
       "<table border=\"1\" class=\"dataframe\">\n",
       "  <thead>\n",
       "    <tr style=\"text-align: right;\">\n",
       "      <th></th>\n",
       "      <th>id</th>\n",
       "      <th>favorite_count</th>\n",
       "      <th>retweet_count</th>\n",
       "    </tr>\n",
       "  </thead>\n",
       "  <tbody>\n",
       "    <tr>\n",
       "      <th>2147</th>\n",
       "      <td>669393256313184256</td>\n",
       "      <td>375</td>\n",
       "      <td>79</td>\n",
       "    </tr>\n",
       "    <tr>\n",
       "      <th>1237</th>\n",
       "      <td>710844581445812225</td>\n",
       "      <td>2684</td>\n",
       "      <td>740</td>\n",
       "    </tr>\n",
       "    <tr>\n",
       "      <th>638</th>\n",
       "      <td>792913359805018113</td>\n",
       "      <td>15545</td>\n",
       "      <td>4479</td>\n",
       "    </tr>\n",
       "    <tr>\n",
       "      <th>1867</th>\n",
       "      <td>674999807681908736</td>\n",
       "      <td>2331</td>\n",
       "      <td>1168</td>\n",
       "    </tr>\n",
       "    <tr>\n",
       "      <th>864</th>\n",
       "      <td>760656994973933572</td>\n",
       "      <td>7078</td>\n",
       "      <td>2110</td>\n",
       "    </tr>\n",
       "    <tr>\n",
       "      <th>462</th>\n",
       "      <td>816450570814898180</td>\n",
       "      <td>32918</td>\n",
       "      <td>9001</td>\n",
       "    </tr>\n",
       "    <tr>\n",
       "      <th>1702</th>\n",
       "      <td>680191257256136705</td>\n",
       "      <td>2269</td>\n",
       "      <td>550</td>\n",
       "    </tr>\n",
       "    <tr>\n",
       "      <th>1601</th>\n",
       "      <td>685198997565345792</td>\n",
       "      <td>2472</td>\n",
       "      <td>724</td>\n",
       "    </tr>\n",
       "    <tr>\n",
       "      <th>1765</th>\n",
       "      <td>677700003327029250</td>\n",
       "      <td>3564</td>\n",
       "      <td>1547</td>\n",
       "    </tr>\n",
       "    <tr>\n",
       "      <th>1169</th>\n",
       "      <td>718631497683582976</td>\n",
       "      <td>19939</td>\n",
       "      <td>8706</td>\n",
       "    </tr>\n",
       "  </tbody>\n",
       "</table>\n",
       "</div>"
      ],
      "text/plain": [
       "                      id  favorite_count  retweet_count\n",
       "2147  669393256313184256             375             79\n",
       "1237  710844581445812225            2684            740\n",
       "638   792913359805018113           15545           4479\n",
       "1867  674999807681908736            2331           1168\n",
       "864   760656994973933572            7078           2110\n",
       "462   816450570814898180           32918           9001\n",
       "1702  680191257256136705            2269            550\n",
       "1601  685198997565345792            2472            724\n",
       "1765  677700003327029250            3564           1547\n",
       "1169  718631497683582976           19939           8706"
      ]
     },
     "execution_count": 21,
     "metadata": {},
     "output_type": "execute_result"
    }
   ],
   "source": [
    "tweet_data.sample(10)"
   ]
  },
  {
   "cell_type": "markdown",
   "metadata": {},
   "source": [
    "### df 'pred_images'"
   ]
  },
  {
   "cell_type": "code",
   "execution_count": 22,
   "metadata": {},
   "outputs": [
    {
     "name": "stdout",
     "output_type": "stream",
     "text": [
      "<class 'pandas.core.frame.DataFrame'>\n",
      "RangeIndex: 2075 entries, 0 to 2074\n",
      "Data columns (total 12 columns):\n",
      "tweet_id    2075 non-null int64\n",
      "jpg_url     2075 non-null object\n",
      "img_num     2075 non-null int64\n",
      "p1          2075 non-null object\n",
      "p1_conf     2075 non-null float64\n",
      "p1_dog      2075 non-null bool\n",
      "p2          2075 non-null object\n",
      "p2_conf     2075 non-null float64\n",
      "p2_dog      2075 non-null bool\n",
      "p3          2075 non-null object\n",
      "p3_conf     2075 non-null float64\n",
      "p3_dog      2075 non-null bool\n",
      "dtypes: bool(3), float64(3), int64(2), object(4)\n",
      "memory usage: 152.1+ KB\n"
     ]
    }
   ],
   "source": [
    "pred_images.info()"
   ]
  },
  {
   "cell_type": "code",
   "execution_count": 23,
   "metadata": {},
   "outputs": [
    {
     "data": {
      "text/html": [
       "<div>\n",
       "<style>\n",
       "    .dataframe thead tr:only-child th {\n",
       "        text-align: right;\n",
       "    }\n",
       "\n",
       "    .dataframe thead th {\n",
       "        text-align: left;\n",
       "    }\n",
       "\n",
       "    .dataframe tbody tr th {\n",
       "        vertical-align: top;\n",
       "    }\n",
       "</style>\n",
       "<table border=\"1\" class=\"dataframe\">\n",
       "  <thead>\n",
       "    <tr style=\"text-align: right;\">\n",
       "      <th></th>\n",
       "      <th>tweet_id</th>\n",
       "      <th>jpg_url</th>\n",
       "      <th>img_num</th>\n",
       "      <th>p1</th>\n",
       "      <th>p1_conf</th>\n",
       "      <th>p1_dog</th>\n",
       "      <th>p2</th>\n",
       "      <th>p2_conf</th>\n",
       "      <th>p2_dog</th>\n",
       "      <th>p3</th>\n",
       "      <th>p3_conf</th>\n",
       "      <th>p3_dog</th>\n",
       "    </tr>\n",
       "  </thead>\n",
       "  <tbody>\n",
       "    <tr>\n",
       "      <th>1066</th>\n",
       "      <td>715696743237730304</td>\n",
       "      <td>https://pbs.twimg.com/media/Ce6qZC2WAAAcSoI.jpg</td>\n",
       "      <td>1</td>\n",
       "      <td>Staffordshire_bullterrier</td>\n",
       "      <td>0.427836</td>\n",
       "      <td>True</td>\n",
       "      <td>pug</td>\n",
       "      <td>0.221409</td>\n",
       "      <td>True</td>\n",
       "      <td>French_bulldog</td>\n",
       "      <td>0.132135</td>\n",
       "      <td>True</td>\n",
       "    </tr>\n",
       "    <tr>\n",
       "      <th>1564</th>\n",
       "      <td>793614319594401792</td>\n",
       "      <td>https://pbs.twimg.com/media/CvyVxQRWEAAdSZS.jpg</td>\n",
       "      <td>1</td>\n",
       "      <td>golden_retriever</td>\n",
       "      <td>0.705092</td>\n",
       "      <td>True</td>\n",
       "      <td>Labrador_retriever</td>\n",
       "      <td>0.219721</td>\n",
       "      <td>True</td>\n",
       "      <td>kuvasz</td>\n",
       "      <td>0.015965</td>\n",
       "      <td>True</td>\n",
       "    </tr>\n",
       "    <tr>\n",
       "      <th>1457</th>\n",
       "      <td>777684233540206592</td>\n",
       "      <td>https://pbs.twimg.com/media/CsrjryzWgAAZY00.jpg</td>\n",
       "      <td>1</td>\n",
       "      <td>cocker_spaniel</td>\n",
       "      <td>0.253442</td>\n",
       "      <td>True</td>\n",
       "      <td>golden_retriever</td>\n",
       "      <td>0.162850</td>\n",
       "      <td>True</td>\n",
       "      <td>otterhound</td>\n",
       "      <td>0.110921</td>\n",
       "      <td>True</td>\n",
       "    </tr>\n",
       "    <tr>\n",
       "      <th>1791</th>\n",
       "      <td>830583320585068544</td>\n",
       "      <td>https://pbs.twimg.com/media/C4bTH6nWMAAX_bJ.jpg</td>\n",
       "      <td>1</td>\n",
       "      <td>Labrador_retriever</td>\n",
       "      <td>0.908703</td>\n",
       "      <td>True</td>\n",
       "      <td>seat_belt</td>\n",
       "      <td>0.057091</td>\n",
       "      <td>False</td>\n",
       "      <td>pug</td>\n",
       "      <td>0.011933</td>\n",
       "      <td>True</td>\n",
       "    </tr>\n",
       "    <tr>\n",
       "      <th>1122</th>\n",
       "      <td>726935089318363137</td>\n",
       "      <td>https://pbs.twimg.com/media/ChaXmuAXEAE66KP.jpg</td>\n",
       "      <td>2</td>\n",
       "      <td>teddy</td>\n",
       "      <td>0.821615</td>\n",
       "      <td>False</td>\n",
       "      <td>toy_poodle</td>\n",
       "      <td>0.083749</td>\n",
       "      <td>True</td>\n",
       "      <td>Lakeland_terrier</td>\n",
       "      <td>0.033318</td>\n",
       "      <td>True</td>\n",
       "    </tr>\n",
       "    <tr>\n",
       "      <th>1372</th>\n",
       "      <td>762464539388485633</td>\n",
       "      <td>https://pbs.twimg.com/media/CpTRc4DUEAAYTq6.jpg</td>\n",
       "      <td>4</td>\n",
       "      <td>chow</td>\n",
       "      <td>0.999953</td>\n",
       "      <td>True</td>\n",
       "      <td>Tibetan_mastiff</td>\n",
       "      <td>0.000023</td>\n",
       "      <td>True</td>\n",
       "      <td>dhole</td>\n",
       "      <td>0.000003</td>\n",
       "      <td>False</td>\n",
       "    </tr>\n",
       "    <tr>\n",
       "      <th>844</th>\n",
       "      <td>695074328191332352</td>\n",
       "      <td>https://pbs.twimg.com/media/CaVmajOWYAA1uNG.jpg</td>\n",
       "      <td>1</td>\n",
       "      <td>Shih-Tzu</td>\n",
       "      <td>0.510106</td>\n",
       "      <td>True</td>\n",
       "      <td>Tibetan_terrier</td>\n",
       "      <td>0.071981</td>\n",
       "      <td>True</td>\n",
       "      <td>Lhasa</td>\n",
       "      <td>0.069231</td>\n",
       "      <td>True</td>\n",
       "    </tr>\n",
       "    <tr>\n",
       "      <th>388</th>\n",
       "      <td>673355879178194945</td>\n",
       "      <td>https://pbs.twimg.com/media/CVg9mTYWIAAu7J6.jpg</td>\n",
       "      <td>1</td>\n",
       "      <td>Rottweiler</td>\n",
       "      <td>0.529248</td>\n",
       "      <td>True</td>\n",
       "      <td>miniature_pinscher</td>\n",
       "      <td>0.168296</td>\n",
       "      <td>True</td>\n",
       "      <td>Appenzeller</td>\n",
       "      <td>0.100452</td>\n",
       "      <td>True</td>\n",
       "    </tr>\n",
       "    <tr>\n",
       "      <th>1539</th>\n",
       "      <td>790946055508652032</td>\n",
       "      <td>https://pbs.twimg.com/media/CvoBPWRWgAA4het.jpg</td>\n",
       "      <td>1</td>\n",
       "      <td>dishwasher</td>\n",
       "      <td>0.700466</td>\n",
       "      <td>False</td>\n",
       "      <td>golden_retriever</td>\n",
       "      <td>0.245773</td>\n",
       "      <td>True</td>\n",
       "      <td>chow</td>\n",
       "      <td>0.039012</td>\n",
       "      <td>True</td>\n",
       "    </tr>\n",
       "    <tr>\n",
       "      <th>1080</th>\n",
       "      <td>718234618122661888</td>\n",
       "      <td>https://pbs.twimg.com/media/CfeukpmW4AEGjOE.jpg</td>\n",
       "      <td>1</td>\n",
       "      <td>malamute</td>\n",
       "      <td>0.370152</td>\n",
       "      <td>True</td>\n",
       "      <td>Siberian_husky</td>\n",
       "      <td>0.356398</td>\n",
       "      <td>True</td>\n",
       "      <td>Eskimo_dog</td>\n",
       "      <td>0.271042</td>\n",
       "      <td>True</td>\n",
       "    </tr>\n",
       "  </tbody>\n",
       "</table>\n",
       "</div>"
      ],
      "text/plain": [
       "                tweet_id                                          jpg_url  \\\n",
       "1066  715696743237730304  https://pbs.twimg.com/media/Ce6qZC2WAAAcSoI.jpg   \n",
       "1564  793614319594401792  https://pbs.twimg.com/media/CvyVxQRWEAAdSZS.jpg   \n",
       "1457  777684233540206592  https://pbs.twimg.com/media/CsrjryzWgAAZY00.jpg   \n",
       "1791  830583320585068544  https://pbs.twimg.com/media/C4bTH6nWMAAX_bJ.jpg   \n",
       "1122  726935089318363137  https://pbs.twimg.com/media/ChaXmuAXEAE66KP.jpg   \n",
       "1372  762464539388485633  https://pbs.twimg.com/media/CpTRc4DUEAAYTq6.jpg   \n",
       "844   695074328191332352  https://pbs.twimg.com/media/CaVmajOWYAA1uNG.jpg   \n",
       "388   673355879178194945  https://pbs.twimg.com/media/CVg9mTYWIAAu7J6.jpg   \n",
       "1539  790946055508652032  https://pbs.twimg.com/media/CvoBPWRWgAA4het.jpg   \n",
       "1080  718234618122661888  https://pbs.twimg.com/media/CfeukpmW4AEGjOE.jpg   \n",
       "\n",
       "      img_num                         p1   p1_conf  p1_dog  \\\n",
       "1066        1  Staffordshire_bullterrier  0.427836    True   \n",
       "1564        1           golden_retriever  0.705092    True   \n",
       "1457        1             cocker_spaniel  0.253442    True   \n",
       "1791        1         Labrador_retriever  0.908703    True   \n",
       "1122        2                      teddy  0.821615   False   \n",
       "1372        4                       chow  0.999953    True   \n",
       "844         1                   Shih-Tzu  0.510106    True   \n",
       "388         1                 Rottweiler  0.529248    True   \n",
       "1539        1                 dishwasher  0.700466   False   \n",
       "1080        1                   malamute  0.370152    True   \n",
       "\n",
       "                      p2   p2_conf  p2_dog                p3   p3_conf  p3_dog  \n",
       "1066                 pug  0.221409    True    French_bulldog  0.132135    True  \n",
       "1564  Labrador_retriever  0.219721    True            kuvasz  0.015965    True  \n",
       "1457    golden_retriever  0.162850    True        otterhound  0.110921    True  \n",
       "1791           seat_belt  0.057091   False               pug  0.011933    True  \n",
       "1122          toy_poodle  0.083749    True  Lakeland_terrier  0.033318    True  \n",
       "1372     Tibetan_mastiff  0.000023    True             dhole  0.000003   False  \n",
       "844      Tibetan_terrier  0.071981    True             Lhasa  0.069231    True  \n",
       "388   miniature_pinscher  0.168296    True       Appenzeller  0.100452    True  \n",
       "1539    golden_retriever  0.245773    True              chow  0.039012    True  \n",
       "1080      Siberian_husky  0.356398    True        Eskimo_dog  0.271042    True  "
      ]
     },
     "execution_count": 23,
     "metadata": {},
     "output_type": "execute_result"
    }
   ],
   "source": [
    "pred_images.sample(10)"
   ]
  },
  {
   "cell_type": "code",
   "execution_count": 24,
   "metadata": {},
   "outputs": [
    {
     "name": "stdout",
     "output_type": "stream",
     "text": [
      "tweets without image prediction: 281\n"
     ]
    }
   ],
   "source": [
    "pred_ids = set(pred_images['tweet_id'])\n",
    "tweets_ids = set(tweets['tweet_id'])\n",
    "\n",
    "print(\"tweets without image prediction: {}\".format(len(tweets_ids - pred_ids)))"
   ]
  },
  {
   "cell_type": "markdown",
   "metadata": {},
   "source": [
    "## Issues\n",
    "\n",
    "#### df tweets\n",
    "quality:\n",
    "- Completeness / Validity: 78 of tweets are in_reply (col 1 != NaN), 181 are retweets (col 6 != NaN). These have to be deleted, we want originals only.\n",
    "- Completeness: Cols 1,2,6,7,8 can then be deleted in next step as we don't need them for the analysis\n",
    "- Completeness: 59 URLS missing, these could be interfered, but as column is not needed for analysis it will be dropped\n",
    "- Validity: Column datatypes have to be changed: 0 to object, 3 to datetime, last 4 to category\n",
    "- Validity: 'None' values have to be changed to NaN (columns stages and names)\n",
    "- Validity: 23 denominators != 10\n",
    "- Validity: some suspicious numerators (>>15)\n",
    "- Accuracy: Dog Names not always correct (examples:'the', 'a', 'None')\n",
    "- Accuracy: Dog stages often missing, some dogs with more than 1 stage\n",
    "    \n",
    "tydiness:\n",
    "- merge four last columns with dog stages to one\n",
    "- merge df with tweet_data\n",
    "- merge with columns jpg-url and p1 from pred_images - delete tweets without pictures\n",
    "\n",
    "    \n",
    "#### df tweet_data\n",
    "quality:\n",
    "- Validity: Datatype col 0 must be changed to object\n",
    "\n",
    "tidyness:\n",
    "- Whole df has to be merged with df tweets on column tweet_id (col name has to be changed for that)\n",
    "\n",
    "#### df pred_images\n",
    "quality:\n",
    "- Validity: Datatyp col 0 must be changed to object\n",
    "\n",
    "tidyness:\n",
    "- merge columns jpg-url and p1 with tweets (that's all we need for our analysis)"
   ]
  },
  {
   "cell_type": "markdown",
   "metadata": {},
   "source": [
    "# Clean Data"
   ]
  },
  {
   "cell_type": "markdown",
   "metadata": {},
   "source": [
    "### Copy DataFrames"
   ]
  },
  {
   "cell_type": "markdown",
   "metadata": {},
   "source": [
    "## Merge DataFrames\n",
    "\n",
    "Please note: this step is done at the beginning of the cleaning because the set is small and it allows us to drop some columns right at the beginning. This will make cleaning easier afterwards. Also we will only merge data necessary for the analysis"
   ]
  },
  {
   "cell_type": "code",
   "execution_count": 44,
   "metadata": {},
   "outputs": [
    {
     "name": "stdout",
     "output_type": "stream",
     "text": [
      "<class 'pandas.core.frame.DataFrame'>\n",
      "Int64Index: 2356 entries, 0 to 2355\n",
      "Data columns (total 22 columns):\n",
      "tweet_id                      2356 non-null int64\n",
      "in_reply_to_status_id         78 non-null float64\n",
      "in_reply_to_user_id           78 non-null float64\n",
      "timestamp                     2356 non-null object\n",
      "source                        2356 non-null object\n",
      "text                          2356 non-null object\n",
      "retweeted_status_id           181 non-null float64\n",
      "retweeted_status_user_id      181 non-null float64\n",
      "retweeted_status_timestamp    181 non-null object\n",
      "expanded_urls                 2297 non-null object\n",
      "rating_numerator              2356 non-null int64\n",
      "rating_denominator            2356 non-null int64\n",
      "name                          2356 non-null object\n",
      "doggo                         2356 non-null object\n",
      "floofer                       2356 non-null object\n",
      "pupper                        2356 non-null object\n",
      "puppo                         2356 non-null object\n",
      "stages                        2356 non-null object\n",
      "favorite_count                2341 non-null float64\n",
      "retweet_count                 2341 non-null float64\n",
      "jpg_url                       2075 non-null object\n",
      "p1                            2075 non-null object\n",
      "dtypes: float64(6), int64(3), object(13)\n",
      "memory usage: 423.3+ KB\n"
     ]
    }
   ],
   "source": [
    "\"\"\"Merge tw_master and tw_data, append 2 necessary columns from pred_images\"\"\"\n",
    "\n",
    "tw_data = tw_data.rename(columns={'id': 'tweet_id'})\n",
    "tw_master = pd.merge(tw_master, tw_data, on='tweet_id', how='left')\n",
    "tw_master = pd.merge(tw_master, tw_predictions[['tweet_id', 'jpg_url', 'p1']], how='left')\n",
    "tw_master.info()"
   ]
  },
  {
   "cell_type": "markdown",
   "metadata": {},
   "source": [
    "### Clean "
   ]
  },
  {
   "cell_type": "code",
   "execution_count": 45,
   "metadata": {},
   "outputs": [
    {
     "data": {
      "text/plain": [
       "2356"
      ]
     },
     "metadata": {},
     "output_type": "display_data"
    }
   ],
   "source": [
    "\"\"\"DEFINE: Remove retweets / replys & tweets without image prediction\"\"\"\n",
    "\n",
    "# CODE: \n",
    "display(len(tw_master)) # for reference\n",
    "tw_master = tw_master[tw_master['in_reply_to_status_id'].isnull()]\n",
    "tw_master = tw_master[tw_master['retweeted_status_id'].isnull()]\n",
    "tw_master = tw_master[tw_master['p1'].notnull()]"
   ]
  },
  {
   "cell_type": "code",
   "execution_count": 46,
   "metadata": {},
   "outputs": [
    {
     "data": {
      "text/plain": [
       "1971"
      ]
     },
     "execution_count": 46,
     "metadata": {},
     "output_type": "execute_result"
    }
   ],
   "source": [
    "# TEST:\n",
    "len(tw_master)"
   ]
  },
  {
   "cell_type": "code",
   "execution_count": 47,
   "metadata": {},
   "outputs": [],
   "source": [
    "\"\"\"DEFINE: Drop empty columns\"\"\"\n",
    "\n",
    "# CODE:\n",
    "tw_master.drop(['in_reply_to_status_id', 'in_reply_to_user_id', 'retweeted_status_id', 'retweeted_status_user_id',\n",
    "               'retweeted_status_timestamp', 'doggo', 'floofer', 'pupper', 'puppo'], axis=1, inplace=True)"
   ]
  },
  {
   "cell_type": "code",
   "execution_count": 48,
   "metadata": {},
   "outputs": [
    {
     "name": "stdout",
     "output_type": "stream",
     "text": [
      "<class 'pandas.core.frame.DataFrame'>\n",
      "Int64Index: 1971 entries, 0 to 2355\n",
      "Data columns (total 13 columns):\n",
      "tweet_id              1971 non-null int64\n",
      "timestamp             1971 non-null object\n",
      "source                1971 non-null object\n",
      "text                  1971 non-null object\n",
      "expanded_urls         1971 non-null object\n",
      "rating_numerator      1971 non-null int64\n",
      "rating_denominator    1971 non-null int64\n",
      "name                  1971 non-null object\n",
      "stages                1971 non-null object\n",
      "favorite_count        1970 non-null float64\n",
      "retweet_count         1970 non-null float64\n",
      "jpg_url               1971 non-null object\n",
      "p1                    1971 non-null object\n",
      "dtypes: float64(2), int64(3), object(8)\n",
      "memory usage: 215.6+ KB\n"
     ]
    }
   ],
   "source": [
    "# TEST:\n",
    "tw_master.info()"
   ]
  },
  {
   "cell_type": "code",
   "execution_count": 49,
   "metadata": {},
   "outputs": [],
   "source": [
    "\"\"\"DEFINE: Clean strings in 'stages' from 'None' and set empty strings to np.NaN\"\"\"\n",
    "\n",
    "# CODE:\n",
    "tw_master['stages'] =tw_master['stages'].str.replace('None','')\n",
    "tw_master['stages'].replace('', np.NaN, inplace=True)"
   ]
  },
  {
   "cell_type": "code",
   "execution_count": 50,
   "metadata": {},
   "outputs": [
    {
     "data": {
      "text/plain": [
       "pupper          201\n",
       "doggo            63\n",
       "puppo            22\n",
       "doggopupper       8\n",
       "floofer           7\n",
       "doggofloofer      1\n",
       "doggopuppo        1\n",
       "Name: stages, dtype: int64"
      ]
     },
     "execution_count": 50,
     "metadata": {},
     "output_type": "execute_result"
    }
   ],
   "source": [
    "# TEST:\n",
    "tw_master['stages'].value_counts()"
   ]
  },
  {
   "cell_type": "code",
   "execution_count": 51,
   "metadata": {},
   "outputs": [],
   "source": [
    "\"\"\"DEFINE: Setting double entries to string 'multiple'.\"\"\"\n",
    "\n",
    "# CODE:\n",
    "tw_master.loc[(tw_master['stages'].str.len() > 7), 'stages'] = \"multiple\""
   ]
  },
  {
   "cell_type": "code",
   "execution_count": 52,
   "metadata": {},
   "outputs": [
    {
     "data": {
      "text/plain": [
       "pupper      201\n",
       "doggo        63\n",
       "puppo        22\n",
       "multiple     10\n",
       "floofer       7\n",
       "Name: stages, dtype: int64"
      ]
     },
     "execution_count": 52,
     "metadata": {},
     "output_type": "execute_result"
    }
   ],
   "source": [
    "# TEST:\n",
    "tw_master['stages'].value_counts()"
   ]
  },
  {
   "cell_type": "code",
   "execution_count": 53,
   "metadata": {},
   "outputs": [],
   "source": [
    "\"\"\"DEFINE: Fix datatypes: - id to object, timestamp to datetime, stages to category\"\"\"\n",
    "\n",
    "# CODE:\n",
    "tw_master['tweet_id'] = tw_master['tweet_id'].astype(str)\n",
    "tw_master['stages'] = tw_master['stages'].astype('category')\n",
    "tw_master['timestamp'] = pd.to_datetime(tw_master['timestamp'], format='%Y-%m-%d')"
   ]
  },
  {
   "cell_type": "code",
   "execution_count": 43,
   "metadata": {},
   "outputs": [],
   "source": [
    "\"\"\"Make copies of the original dataframes\"\"\"\n",
    "\n",
    "tw_master = tweets.copy()\n",
    "tw_predictions = pred_images.copy()\n",
    "tw_data = tweet_data.copy()\n",
    "\n",
    "# store safety copies on server\n",
    "tw_master.to_csv('data/safety_master.csv')\n",
    "tw_predictions.to_csv('data/safety_predictions.csv')\n",
    "tw_data.to_csv('data/safety_data.csv')"
   ]
  },
  {
   "cell_type": "code",
   "execution_count": 54,
   "metadata": {},
   "outputs": [
    {
     "name": "stdout",
     "output_type": "stream",
     "text": [
      "<class 'pandas.core.frame.DataFrame'>\n",
      "Int64Index: 1971 entries, 0 to 2355\n",
      "Data columns (total 13 columns):\n",
      "tweet_id              1971 non-null object\n",
      "timestamp             1971 non-null datetime64[ns]\n",
      "source                1971 non-null object\n",
      "text                  1971 non-null object\n",
      "expanded_urls         1971 non-null object\n",
      "rating_numerator      1971 non-null int64\n",
      "rating_denominator    1971 non-null int64\n",
      "name                  1971 non-null object\n",
      "stages                303 non-null category\n",
      "favorite_count        1970 non-null float64\n",
      "retweet_count         1970 non-null float64\n",
      "jpg_url               1971 non-null object\n",
      "p1                    1971 non-null object\n",
      "dtypes: category(1), datetime64[ns](1), float64(2), int64(2), object(7)\n",
      "memory usage: 202.3+ KB\n"
     ]
    }
   ],
   "source": [
    "# TEST:\n",
    "tw_master.info()"
   ]
  },
  {
   "cell_type": "code",
   "execution_count": 55,
   "metadata": {},
   "outputs": [
    {
     "data": {
      "text/html": [
       "<div>\n",
       "<style>\n",
       "    .dataframe thead tr:only-child th {\n",
       "        text-align: right;\n",
       "    }\n",
       "\n",
       "    .dataframe thead th {\n",
       "        text-align: left;\n",
       "    }\n",
       "\n",
       "    .dataframe tbody tr th {\n",
       "        vertical-align: top;\n",
       "    }\n",
       "</style>\n",
       "<table border=\"1\" class=\"dataframe\">\n",
       "  <thead>\n",
       "    <tr style=\"text-align: right;\">\n",
       "      <th></th>\n",
       "      <th>text</th>\n",
       "      <th>name</th>\n",
       "    </tr>\n",
       "  </thead>\n",
       "  <tbody>\n",
       "    <tr>\n",
       "      <th>2352</th>\n",
       "      <td>This is a purebred Piers Morgan. Loves to Netflix and chill. Always looks like he forgot to unplug the iron. 6/10 https://t.co/DWnyCjf2mx</td>\n",
       "      <td>a</td>\n",
       "    </tr>\n",
       "    <tr>\n",
       "      <th>2314</th>\n",
       "      <td>This is a golden Buckminsterfullerene named Johm. Drives trucks. Lumberjack (?). Enjoys wall. 8/10 would hug softly https://t.co/uQbZJM2DQB</td>\n",
       "      <td>a</td>\n",
       "    </tr>\n",
       "    <tr>\n",
       "      <th>2354</th>\n",
       "      <td>This is a western brown Mitsubishi terrier. Upset about leaf. Actually 2 dogs here. 7/10 would walk the shit out of https://t.co/r7mOb2m0UI</td>\n",
       "      <td>a</td>\n",
       "    </tr>\n",
       "    <tr>\n",
       "      <th>2353</th>\n",
       "      <td>Here is a very happy pup. Big fan of well-maintained decks. Just look at that tongue. 9/10 would cuddle af https://t.co/y671yMhoiR</td>\n",
       "      <td>a</td>\n",
       "    </tr>\n",
       "    <tr>\n",
       "      <th>1994</th>\n",
       "      <td>This is a baby Rand Paul. Curls for days. 11/10 would cuddle the hell out of https://t.co/xHXNaPAYRe</td>\n",
       "      <td>a</td>\n",
       "    </tr>\n",
       "    <tr>\n",
       "      <th>1049</th>\n",
       "      <td>This is a very rare Great Alaskan Bush Pupper. Hard to stumble upon without spooking. 12/10 would pet passionately https://t.co/xOBKCdpzaa</td>\n",
       "      <td>a</td>\n",
       "    </tr>\n",
       "    <tr>\n",
       "      <th>2273</th>\n",
       "      <td>This is a northern Wahoo named Kohl. He runs this town. Chases tumbleweeds. Draws gun wicked fast. 11/10 legendary https://t.co/J4vn2rOYFk</td>\n",
       "      <td>a</td>\n",
       "    </tr>\n",
       "    <tr>\n",
       "      <th>2304</th>\n",
       "      <td>This is a curly Ticonderoga named Pepe. No feet. Loves to jet ski. 11/10 would hug until forever https://t.co/cyDfaK8NBc</td>\n",
       "      <td>a</td>\n",
       "    </tr>\n",
       "    <tr>\n",
       "      <th>2125</th>\n",
       "      <td>This is a Rich Mahogany Seltzer named Cherokee. Just got destroyed by a snowball. Isn't very happy about it. 9/10 https://t.co/98ZBi6o4dj</td>\n",
       "      <td>a</td>\n",
       "    </tr>\n",
       "    <tr>\n",
       "      <th>1737</th>\n",
       "      <td>Guys this really needs to stop. We've been over this way too many times. This is a giraffe. We only rate dogs.. 7/10 https://t.co/yavgkHYPOC</td>\n",
       "      <td>a</td>\n",
       "    </tr>\n",
       "  </tbody>\n",
       "</table>\n",
       "</div>"
      ],
      "text/plain": [
       "                                                                                                                                              text  \\\n",
       "2352     This is a purebred Piers Morgan. Loves to Netflix and chill. Always looks like he forgot to unplug the iron. 6/10 https://t.co/DWnyCjf2mx   \n",
       "2314   This is a golden Buckminsterfullerene named Johm. Drives trucks. Lumberjack (?). Enjoys wall. 8/10 would hug softly https://t.co/uQbZJM2DQB   \n",
       "2354   This is a western brown Mitsubishi terrier. Upset about leaf. Actually 2 dogs here. 7/10 would walk the shit out of https://t.co/r7mOb2m0UI   \n",
       "2353            Here is a very happy pup. Big fan of well-maintained decks. Just look at that tongue. 9/10 would cuddle af https://t.co/y671yMhoiR   \n",
       "1994                                          This is a baby Rand Paul. Curls for days. 11/10 would cuddle the hell out of https://t.co/xHXNaPAYRe   \n",
       "1049    This is a very rare Great Alaskan Bush Pupper. Hard to stumble upon without spooking. 12/10 would pet passionately https://t.co/xOBKCdpzaa   \n",
       "2273    This is a northern Wahoo named Kohl. He runs this town. Chases tumbleweeds. Draws gun wicked fast. 11/10 legendary https://t.co/J4vn2rOYFk   \n",
       "2304                      This is a curly Ticonderoga named Pepe. No feet. Loves to jet ski. 11/10 would hug until forever https://t.co/cyDfaK8NBc   \n",
       "2125     This is a Rich Mahogany Seltzer named Cherokee. Just got destroyed by a snowball. Isn't very happy about it. 9/10 https://t.co/98ZBi6o4dj   \n",
       "1737  Guys this really needs to stop. We've been over this way too many times. This is a giraffe. We only rate dogs.. 7/10 https://t.co/yavgkHYPOC   \n",
       "\n",
       "     name  \n",
       "2352    a  \n",
       "2314    a  \n",
       "2354    a  \n",
       "2353    a  \n",
       "1994    a  \n",
       "1049    a  \n",
       "2273    a  \n",
       "2304    a  \n",
       "2125    a  \n",
       "1737    a  "
      ]
     },
     "execution_count": 55,
     "metadata": {},
     "output_type": "execute_result"
    }
   ],
   "source": [
    "\"\"\"DEFINE: Eliminate wrong dog names (lowercase) and also set string 'None' to np.nan\"\"\"\n",
    "\n",
    "# look at data (sample)\n",
    "pd.set_option('max_colwidth', 800)\n",
    "tw_master[['text', 'name']][tw_master['name'] == 'a'].sample(10)"
   ]
  },
  {
   "cell_type": "code",
   "execution_count": 56,
   "metadata": {},
   "outputs": [],
   "source": [
    "# CODE:\n",
    "tw_master.loc[(tw_master['name'].str.islower()), 'name'] = np.nan\n",
    "tw_master.loc[(tw_master['name'] == 'None'), 'name'] = np.nan"
   ]
  },
  {
   "cell_type": "code",
   "execution_count": 57,
   "metadata": {},
   "outputs": [
    {
     "data": {
      "text/plain": [
       "Charlie    11\n",
       "Oliver     10\n",
       "Cooper     10\n",
       "Lucy       10\n",
       "Penny       9\n",
       "Name: name, dtype: int64"
      ]
     },
     "execution_count": 57,
     "metadata": {},
     "output_type": "execute_result"
    }
   ],
   "source": [
    "# TEST:\n",
    "tw_master['name'].value_counts().head()"
   ]
  },
  {
   "cell_type": "code",
   "execution_count": 58,
   "metadata": {},
   "outputs": [
    {
     "name": "stdout",
     "output_type": "stream",
     "text": [
      "23\n",
      "6\n"
     ]
    }
   ],
   "source": [
    "\"\"\"DEFINE: Reassign names to rows with name = np.nan and words 'named' or 'name is' in text\"\"\"\n",
    "\n",
    "# CODE:\n",
    "# extract text from text column for rows that meet these conditions and store them into lists\n",
    "named = tw_master.loc[(tw_master['name'].isnull() & tw_master['text'].str.contains('named')), ['text']]['text'].tolist()\n",
    "name_is = tw_master.loc[(tw_master['name'].isnull() & tw_master['text'].str.contains('name is')), ['text']]['text'].tolist()\n",
    "\n",
    "print(len(named))\n",
    "print(len(name_is)) "
   ]
  },
  {
   "cell_type": "code",
   "execution_count": 59,
   "metadata": {},
   "outputs": [
    {
     "name": "stdout",
     "output_type": "stream",
     "text": [
      "1853    Wylie\n",
      "Name: name, dtype: object\n",
      "1955    Kip\n",
      "Name: name, dtype: object\n",
      "2034    Jacob\n",
      "Name: name, dtype: object\n",
      "2066    Rufus\n",
      "Name: name, dtype: object\n",
      "2116    Spork\n",
      "Name: name, dtype: object\n",
      "2125    Cherokee\n",
      "Name: name, dtype: object\n",
      "2128    Hemry\n",
      "Name: name, dtype: object\n",
      "2146    Alphred\n",
      "Name: name, dtype: object\n",
      "2161    Alfredo\n",
      "Name: name, dtype: object\n",
      "2166    Zeus\n",
      "Name: name, dtype: object\n",
      "2191    Leroi\n",
      "Name: name, dtype: object\n",
      "2204    Berta\n",
      "Name: name, dtype: object\n",
      "2218    Chuk\n",
      "Name: name, dtype: object\n",
      "2227    Guss\n",
      "Name: name, dtype: object\n",
      "2235    Alfonso\n",
      "Name: name, dtype: object\n",
      "2249    Cheryl\n",
      "Name: name, dtype: object\n",
      "2255    Jessiga\n",
      "Name: name, dtype: object\n",
      "2264    Klint\n",
      "Name: name, dtype: object\n",
      "2269    Tickles\n",
      "Name: name, dtype: object\n",
      "2273    Kohl\n",
      "Name: name, dtype: object\n",
      "2304    Pepe\n",
      "Name: name, dtype: object\n",
      "2311    Octaviath\n",
      "Name: name, dtype: object\n",
      "2314    Johm\n",
      "Name: name, dtype: object\n",
      "168    Zoey\n",
      "Name: name, dtype: object\n",
      "852    Zoey\n",
      "Name: name, dtype: object\n",
      "1678    Thea\n",
      "Name: name, dtype: object\n",
      "1734    Sabertooth\n",
      "Name: name, dtype: object\n",
      "2267    Big\n",
      "Name: name, dtype: object\n",
      "2287    Daryl\n",
      "Name: name, dtype: object\n"
     ]
    }
   ],
   "source": [
    "# iterate through 'named' list and set value of column 'name' to be the word that follows after 'named' in the text\n",
    "for text in named:\n",
    "    mask = tw_master['text'] == text\n",
    "    tw_master.loc[mask, 'name'] = re.findall(r\"named\\s(\\w+)\", text)\n",
    "    print(tw_master.loc[mask, 'name'])\n",
    "    \n",
    "# iterate through 'name_is' list and set value of column 'name' to be the word that follows after 'named' in the text\n",
    "for text in name_is:\n",
    "    mask = tw_master['text'] == text\n",
    "    tw_master.loc[mask, 'name'] = re.findall(r\"name is\\s(\\w+)\", text)\n",
    "    print(tw_master.loc[mask, 'name'])"
   ]
  },
  {
   "cell_type": "code",
   "execution_count": 60,
   "metadata": {},
   "outputs": [
    {
     "data": {
      "text/plain": [
       "Charlie    11\n",
       "Lucy       10\n",
       "Cooper     10\n",
       "Oliver     10\n",
       "Penny       9\n",
       "Tucker      9\n",
       "Sadie       8\n",
       "Winston     8\n",
       "Daisy       7\n",
       "Toby        7\n",
       "Lola        7\n",
       "Bella       6\n",
       "Koda        6\n",
       "Stanley     6\n",
       "Bo          6\n",
       "Jax         6\n",
       "Oscar       5\n",
       "Buddy       5\n",
       "Dave        5\n",
       "Scout       5\n",
       "Name: name, dtype: int64"
      ]
     },
     "execution_count": 60,
     "metadata": {},
     "output_type": "execute_result"
    }
   ],
   "source": [
    "# TEST:\n",
    "tw_master['name'].value_counts().head(20)"
   ]
  },
  {
   "cell_type": "code",
   "execution_count": 61,
   "metadata": {},
   "outputs": [
    {
     "data": {
      "text/html": [
       "<div>\n",
       "<style>\n",
       "    .dataframe thead tr:only-child th {\n",
       "        text-align: right;\n",
       "    }\n",
       "\n",
       "    .dataframe thead th {\n",
       "        text-align: left;\n",
       "    }\n",
       "\n",
       "    .dataframe tbody tr th {\n",
       "        vertical-align: top;\n",
       "    }\n",
       "</style>\n",
       "<table border=\"1\" class=\"dataframe\">\n",
       "  <thead>\n",
       "    <tr style=\"text-align: right;\">\n",
       "      <th></th>\n",
       "      <th>text</th>\n",
       "      <th>rating_denominator</th>\n",
       "    </tr>\n",
       "  </thead>\n",
       "  <tbody>\n",
       "    <tr>\n",
       "      <th>433</th>\n",
       "      <td>The floofs have been released I repeat the floofs have been released. 84/70 https://t.co/NIYC820tmd</td>\n",
       "      <td>70</td>\n",
       "    </tr>\n",
       "    <tr>\n",
       "      <th>516</th>\n",
       "      <td>Meet Sam. She smiles 24/7 &amp;amp; secretly aspires to be a reindeer. \\nKeep Sam smiling by clicking and sharing this link:\\nhttps://t.co/98tB8y7y7t https://t.co/LouL5vdvxx</td>\n",
       "      <td>7</td>\n",
       "    </tr>\n",
       "    <tr>\n",
       "      <th>902</th>\n",
       "      <td>Why does this never happen at my front door... 165/150 https://t.co/HmwrdfEfUE</td>\n",
       "      <td>150</td>\n",
       "    </tr>\n",
       "    <tr>\n",
       "      <th>1068</th>\n",
       "      <td>After so many requests, this is Bretagne. She was the last surviving 9/11 search dog, and our second ever 14/10. RIP https://t.co/XAVDNDaVgQ</td>\n",
       "      <td>11</td>\n",
       "    </tr>\n",
       "    <tr>\n",
       "      <th>1120</th>\n",
       "      <td>Say hello to this unbelievably well behaved squad of doggos. 204/170 would try to pet all at once https://t.co/yGQI3He3xv</td>\n",
       "      <td>170</td>\n",
       "    </tr>\n",
       "    <tr>\n",
       "      <th>1165</th>\n",
       "      <td>Happy 4/20 from the squad! 13/10 for all https://t.co/eV1diwds8a</td>\n",
       "      <td>20</td>\n",
       "    </tr>\n",
       "    <tr>\n",
       "      <th>1202</th>\n",
       "      <td>This is Bluebert. He just saw that both #FinalFur match ups are split 50/50. Amazed af. 11/10 https://t.co/Kky1DPG4iq</td>\n",
       "      <td>50</td>\n",
       "    </tr>\n",
       "    <tr>\n",
       "      <th>1228</th>\n",
       "      <td>Happy Saturday here's 9 puppers on a bench. 99/90 good work everybody https://t.co/mpvaVxKmc1</td>\n",
       "      <td>90</td>\n",
       "    </tr>\n",
       "    <tr>\n",
       "      <th>1254</th>\n",
       "      <td>Here's a brigade of puppers. All look very prepared for whatever happens next. 80/80 https://t.co/0eb7R1Om12</td>\n",
       "      <td>80</td>\n",
       "    </tr>\n",
       "    <tr>\n",
       "      <th>1274</th>\n",
       "      <td>From left to right:\\nCletus, Jerome, Alejandro, Burp, &amp;amp; Titson\\nNone know where camera is. 45/50 would hug all at once https://t.co/sedre1ivTK</td>\n",
       "      <td>50</td>\n",
       "    </tr>\n",
       "    <tr>\n",
       "      <th>1351</th>\n",
       "      <td>Here is a whole flock of puppers.  60/50 I'll take the lot https://t.co/9dpcw6MdWa</td>\n",
       "      <td>50</td>\n",
       "    </tr>\n",
       "    <tr>\n",
       "      <th>1433</th>\n",
       "      <td>Happy Wednesday here's a bucket of pups. 44/40 would pet all at once https://t.co/HppvrYuamZ</td>\n",
       "      <td>40</td>\n",
       "    </tr>\n",
       "    <tr>\n",
       "      <th>1635</th>\n",
       "      <td>Someone help the girl is being mugged. Several are distracting her while two steal her shoes. Clever puppers 121/110 https://t.co/1zfnTJLt55</td>\n",
       "      <td>110</td>\n",
       "    </tr>\n",
       "    <tr>\n",
       "      <th>1662</th>\n",
       "      <td>This is Darrel. He just robbed a 7/11 and is in a high speed police chase. Was just spotted by the helicopter 10/10 https://t.co/7EsP8LmSp5</td>\n",
       "      <td>11</td>\n",
       "    </tr>\n",
       "    <tr>\n",
       "      <th>1779</th>\n",
       "      <td>IT'S PUPPERGEDDON. Total of 144/120 ...I think https://t.co/ZanVtAtvIq</td>\n",
       "      <td>120</td>\n",
       "    </tr>\n",
       "    <tr>\n",
       "      <th>1843</th>\n",
       "      <td>Here we have an entire platoon of puppers. Total score: 88/80 would pet all at once https://t.co/y93p6FLvVw</td>\n",
       "      <td>80</td>\n",
       "    </tr>\n",
       "    <tr>\n",
       "      <th>2335</th>\n",
       "      <td>This is an Albanian 3 1/2 legged  Episcopalian. Loves well-polished hardwood flooring. Penis on the collar. 9/10 https://t.co/d9NcXFKwLv</td>\n",
       "      <td>2</td>\n",
       "    </tr>\n",
       "  </tbody>\n",
       "</table>\n",
       "</div>"
      ],
      "text/plain": [
       "                                                                                                                                                                           text  \\\n",
       "433                                                                         The floofs have been released I repeat the floofs have been released. 84/70 https://t.co/NIYC820tmd   \n",
       "516   Meet Sam. She smiles 24/7 &amp; secretly aspires to be a reindeer. \\nKeep Sam smiling by clicking and sharing this link:\\nhttps://t.co/98tB8y7y7t https://t.co/LouL5vdvxx   \n",
       "902                                                                                              Why does this never happen at my front door... 165/150 https://t.co/HmwrdfEfUE   \n",
       "1068                               After so many requests, this is Bretagne. She was the last surviving 9/11 search dog, and our second ever 14/10. RIP https://t.co/XAVDNDaVgQ   \n",
       "1120                                                  Say hello to this unbelievably well behaved squad of doggos. 204/170 would try to pet all at once https://t.co/yGQI3He3xv   \n",
       "1165                                                                                                           Happy 4/20 from the squad! 13/10 for all https://t.co/eV1diwds8a   \n",
       "1202                                                      This is Bluebert. He just saw that both #FinalFur match ups are split 50/50. Amazed af. 11/10 https://t.co/Kky1DPG4iq   \n",
       "1228                                                                              Happy Saturday here's 9 puppers on a bench. 99/90 good work everybody https://t.co/mpvaVxKmc1   \n",
       "1254                                                               Here's a brigade of puppers. All look very prepared for whatever happens next. 80/80 https://t.co/0eb7R1Om12   \n",
       "1274                         From left to right:\\nCletus, Jerome, Alejandro, Burp, &amp; Titson\\nNone know where camera is. 45/50 would hug all at once https://t.co/sedre1ivTK   \n",
       "1351                                                                                         Here is a whole flock of puppers.  60/50 I'll take the lot https://t.co/9dpcw6MdWa   \n",
       "1433                                                                               Happy Wednesday here's a bucket of pups. 44/40 would pet all at once https://t.co/HppvrYuamZ   \n",
       "1635                               Someone help the girl is being mugged. Several are distracting her while two steal her shoes. Clever puppers 121/110 https://t.co/1zfnTJLt55   \n",
       "1662                                This is Darrel. He just robbed a 7/11 and is in a high speed police chase. Was just spotted by the helicopter 10/10 https://t.co/7EsP8LmSp5   \n",
       "1779                                                                                                     IT'S PUPPERGEDDON. Total of 144/120 ...I think https://t.co/ZanVtAtvIq   \n",
       "1843                                                                Here we have an entire platoon of puppers. Total score: 88/80 would pet all at once https://t.co/y93p6FLvVw   \n",
       "2335                                   This is an Albanian 3 1/2 legged  Episcopalian. Loves well-polished hardwood flooring. Penis on the collar. 9/10 https://t.co/d9NcXFKwLv   \n",
       "\n",
       "      rating_denominator  \n",
       "433                   70  \n",
       "516                    7  \n",
       "902                  150  \n",
       "1068                  11  \n",
       "1120                 170  \n",
       "1165                  20  \n",
       "1202                  50  \n",
       "1228                  90  \n",
       "1254                  80  \n",
       "1274                  50  \n",
       "1351                  50  \n",
       "1433                  40  \n",
       "1635                 110  \n",
       "1662                  11  \n",
       "1779                 120  \n",
       "1843                  80  \n",
       "2335                   2  "
      ]
     },
     "execution_count": 61,
     "metadata": {},
     "output_type": "execute_result"
    }
   ],
   "source": [
    "\"\"\"DEFINE: Fix suspicious denominators (and their respective numerators)\"\"\"\n",
    "\n",
    "# look at data\n",
    "tw_master.loc[(tw_master['rating_denominator'] != 10), ['text', 'rating_denominator']]"
   ]
  },
  {
   "cell_type": "code",
   "execution_count": 62,
   "metadata": {},
   "outputs": [],
   "source": [
    "\"\"\"DEFINE: Divide numerators and denominators for multiple dogs by number of respective dogs\"\"\"\n",
    "\n",
    "# CODE:\n",
    "tw_master['rating_numerator'] = np.where((tw_master['rating_denominator'] > 10) & (tw_master['rating_denominator'] %10 == 0), \n",
    "                                           (tw_master['rating_numerator'] / (tw_master['rating_denominator']/10)), \n",
    "                                           tw_master['rating_numerator'])\n",
    "tw_master['rating_denominator'] = np.where((tw_master['rating_denominator'] > 10) & (tw_master['rating_denominator'] %10 == 0), \n",
    "                                           tw_master['rating_denominator'] / (tw_master['rating_denominator']/10), \n",
    "                                           tw_master['rating_denominator'])"
   ]
  },
  {
   "cell_type": "code",
   "execution_count": 63,
   "metadata": {},
   "outputs": [
    {
     "data": {
      "text/plain": [
       "1068    11.0\n",
       "1662    11.0\n",
       "2355    10.0\n",
       "906     10.0\n",
       "891     10.0\n",
       "Name: rating_denominator, dtype: float64"
      ]
     },
     "metadata": {},
     "output_type": "display_data"
    },
    {
     "data": {
      "text/plain": [
       "979     1776.0\n",
       "2074     420.0\n",
       "695       75.0\n",
       "763       27.0\n",
       "1712      26.0\n",
       "Name: rating_numerator, dtype: float64"
      ]
     },
     "metadata": {},
     "output_type": "display_data"
    }
   ],
   "source": [
    "# TEST:\n",
    "display(tw_master['rating_denominator'].sort_values(ascending=False).head())\n",
    "display(tw_master['rating_numerator'].sort_values(ascending=False).head())"
   ]
  },
  {
   "cell_type": "code",
   "execution_count": 64,
   "metadata": {},
   "outputs": [
    {
     "data": {
      "text/html": [
       "<div>\n",
       "<style>\n",
       "    .dataframe thead tr:only-child th {\n",
       "        text-align: right;\n",
       "    }\n",
       "\n",
       "    .dataframe thead th {\n",
       "        text-align: left;\n",
       "    }\n",
       "\n",
       "    .dataframe tbody tr th {\n",
       "        vertical-align: top;\n",
       "    }\n",
       "</style>\n",
       "<table border=\"1\" class=\"dataframe\">\n",
       "  <thead>\n",
       "    <tr style=\"text-align: right;\">\n",
       "      <th></th>\n",
       "      <th>text</th>\n",
       "      <th>rating_denominator</th>\n",
       "    </tr>\n",
       "  </thead>\n",
       "  <tbody>\n",
       "    <tr>\n",
       "      <th>516</th>\n",
       "      <td>Meet Sam. She smiles 24/7 &amp;amp; secretly aspires to be a reindeer. \\nKeep Sam smiling by clicking and sharing this link:\\nhttps://t.co/98tB8y7y7t https://t.co/LouL5vdvxx</td>\n",
       "      <td>7.0</td>\n",
       "    </tr>\n",
       "    <tr>\n",
       "      <th>1068</th>\n",
       "      <td>After so many requests, this is Bretagne. She was the last surviving 9/11 search dog, and our second ever 14/10. RIP https://t.co/XAVDNDaVgQ</td>\n",
       "      <td>11.0</td>\n",
       "    </tr>\n",
       "    <tr>\n",
       "      <th>1662</th>\n",
       "      <td>This is Darrel. He just robbed a 7/11 and is in a high speed police chase. Was just spotted by the helicopter 10/10 https://t.co/7EsP8LmSp5</td>\n",
       "      <td>11.0</td>\n",
       "    </tr>\n",
       "    <tr>\n",
       "      <th>2335</th>\n",
       "      <td>This is an Albanian 3 1/2 legged  Episcopalian. Loves well-polished hardwood flooring. Penis on the collar. 9/10 https://t.co/d9NcXFKwLv</td>\n",
       "      <td>2.0</td>\n",
       "    </tr>\n",
       "  </tbody>\n",
       "</table>\n",
       "</div>"
      ],
      "text/plain": [
       "                                                                                                                                                                           text  \\\n",
       "516   Meet Sam. She smiles 24/7 &amp; secretly aspires to be a reindeer. \\nKeep Sam smiling by clicking and sharing this link:\\nhttps://t.co/98tB8y7y7t https://t.co/LouL5vdvxx   \n",
       "1068                               After so many requests, this is Bretagne. She was the last surviving 9/11 search dog, and our second ever 14/10. RIP https://t.co/XAVDNDaVgQ   \n",
       "1662                                This is Darrel. He just robbed a 7/11 and is in a high speed police chase. Was just spotted by the helicopter 10/10 https://t.co/7EsP8LmSp5   \n",
       "2335                                   This is an Albanian 3 1/2 legged  Episcopalian. Loves well-polished hardwood flooring. Penis on the collar. 9/10 https://t.co/d9NcXFKwLv   \n",
       "\n",
       "      rating_denominator  \n",
       "516                  7.0  \n",
       "1068                11.0  \n",
       "1662                11.0  \n",
       "2335                 2.0  "
      ]
     },
     "metadata": {},
     "output_type": "display_data"
    }
   ],
   "source": [
    "\"\"\"DEFINE: Manually clean remaining wrong denominators (and corresponding numerators)\"\"\"\n",
    "\n",
    "# look at data\n",
    "display(tw_master.loc[(tw_master['rating_denominator'] != 10), ['text', 'rating_denominator']])"
   ]
  },
  {
   "cell_type": "code",
   "execution_count": 65,
   "metadata": {},
   "outputs": [],
   "source": [
    "# CODE\n",
    "tw_master.drop(516, axis=0, inplace=True)  # this observation has no rating, so we don't want to keep it\n",
    "tw_master.loc[1068, 'rating_denominator'] = 10\n",
    "tw_master.loc[1068, 'rating_numerator'] = 14\n",
    "tw_master.loc[1662, 'rating_denominator'] = 10\n",
    "tw_master.loc[1662, 'rating_numerator'] = 10\n",
    "tw_master.loc[2335, 'rating_denominator'] = 10\n",
    "tw_master.loc[2335, 'rating_numerator'] = 9"
   ]
  },
  {
   "cell_type": "code",
   "execution_count": 66,
   "metadata": {},
   "outputs": [
    {
     "data": {
      "text/html": [
       "<div>\n",
       "<style>\n",
       "    .dataframe thead tr:only-child th {\n",
       "        text-align: right;\n",
       "    }\n",
       "\n",
       "    .dataframe thead th {\n",
       "        text-align: left;\n",
       "    }\n",
       "\n",
       "    .dataframe tbody tr th {\n",
       "        vertical-align: top;\n",
       "    }\n",
       "</style>\n",
       "<table border=\"1\" class=\"dataframe\">\n",
       "  <thead>\n",
       "    <tr style=\"text-align: right;\">\n",
       "      <th></th>\n",
       "      <th>text</th>\n",
       "      <th>rating_denominator</th>\n",
       "    </tr>\n",
       "  </thead>\n",
       "  <tbody>\n",
       "  </tbody>\n",
       "</table>\n",
       "</div>"
      ],
      "text/plain": [
       "Empty DataFrame\n",
       "Columns: [text, rating_denominator]\n",
       "Index: []"
      ]
     },
     "execution_count": 66,
     "metadata": {},
     "output_type": "execute_result"
    }
   ],
   "source": [
    "# TEST:\n",
    "tw_master.loc[(tw_master['rating_denominator'] != 10), ['text', 'rating_denominator']]"
   ]
  },
  {
   "cell_type": "code",
   "execution_count": 72,
   "metadata": {},
   "outputs": [
    {
     "name": "stderr",
     "output_type": "stream",
     "text": [
      "/opt/conda/lib/python3.6/site-packages/ipykernel_launcher.py:4: UserWarning: This pattern has match groups. To actually get the groups, use str.extract.\n",
      "  after removing the cwd from sys.path.\n"
     ]
    },
    {
     "data": {
      "text/html": [
       "<div>\n",
       "<style>\n",
       "    .dataframe thead tr:only-child th {\n",
       "        text-align: right;\n",
       "    }\n",
       "\n",
       "    .dataframe thead th {\n",
       "        text-align: left;\n",
       "    }\n",
       "\n",
       "    .dataframe tbody tr th {\n",
       "        vertical-align: top;\n",
       "    }\n",
       "</style>\n",
       "<table border=\"1\" class=\"dataframe\">\n",
       "  <thead>\n",
       "    <tr style=\"text-align: right;\">\n",
       "      <th></th>\n",
       "      <th>text</th>\n",
       "      <th>rating_numerator</th>\n",
       "    </tr>\n",
       "  </thead>\n",
       "  <tbody>\n",
       "    <tr>\n",
       "      <th>45</th>\n",
       "      <td>This is Bella. She hopes her smile made you smile. If not, she is also offering you her favorite monkey. 13.5/10 https://t.co/qjrljjt948</td>\n",
       "      <td>5.0</td>\n",
       "    </tr>\n",
       "    <tr>\n",
       "      <th>695</th>\n",
       "      <td>This is Logan, the Chow who lived. He solemnly swears he's up to lots of good. H*ckin magical af 9.75/10 https://t.co/yBO5wuqaPS</td>\n",
       "      <td>75.0</td>\n",
       "    </tr>\n",
       "    <tr>\n",
       "      <th>763</th>\n",
       "      <td>This is Sophie. She's a Jubilant Bush Pupper. Super h*ckin rare. Appears at random just to smile at the locals. 11.27/10 would smile back https://t.co/QFaUiIHxHq</td>\n",
       "      <td>27.0</td>\n",
       "    </tr>\n",
       "    <tr>\n",
       "      <th>1712</th>\n",
       "      <td>Here we have uncovered an entire battalion of holiday puppers. Average of 11.26/10 https://t.co/eNm2S6p9BD</td>\n",
       "      <td>26.0</td>\n",
       "    </tr>\n",
       "  </tbody>\n",
       "</table>\n",
       "</div>"
      ],
      "text/plain": [
       "                                                                                                                                                                   text  \\\n",
       "45                             This is Bella. She hopes her smile made you smile. If not, she is also offering you her favorite monkey. 13.5/10 https://t.co/qjrljjt948   \n",
       "695                                    This is Logan, the Chow who lived. He solemnly swears he's up to lots of good. H*ckin magical af 9.75/10 https://t.co/yBO5wuqaPS   \n",
       "763   This is Sophie. She's a Jubilant Bush Pupper. Super h*ckin rare. Appears at random just to smile at the locals. 11.27/10 would smile back https://t.co/QFaUiIHxHq   \n",
       "1712                                                         Here we have uncovered an entire battalion of holiday puppers. Average of 11.26/10 https://t.co/eNm2S6p9BD   \n",
       "\n",
       "      rating_numerator  \n",
       "45                 5.0  \n",
       "695               75.0  \n",
       "763               27.0  \n",
       "1712              26.0  "
      ]
     },
     "execution_count": 72,
     "metadata": {},
     "output_type": "execute_result"
    }
   ],
   "source": [
    "\"\"\"DEFINE: Extract decimal ratings using a regular expression and round them to integers (to have standardized data)\"\"\"\n",
    "\n",
    "# look at data\n",
    "tw_master.loc[(tw_master['text'].str.contains(r\"(\\d+\\.\\d*\\/\\d+)\")), ['text', 'rating_numerator']]"
   ]
  },
  {
   "cell_type": "code",
   "execution_count": 73,
   "metadata": {},
   "outputs": [],
   "source": [
    "# CODE:\n",
    "tw_master.loc[45, 'rating_numerator'] = 14  # rounded to next int\n",
    "tw_master.loc[695, 'rating_numerator'] = 10  # rounded to next int\n",
    "tw_master.loc[763, 'rating_numerator'] = 11 # rounded to next int\n",
    "tw_master.loc[1712, 'rating_numerator'] = 11 # rounded to next int"
   ]
  },
  {
   "cell_type": "code",
   "execution_count": 74,
   "metadata": {},
   "outputs": [
    {
     "data": {
      "text/plain": [
       "979     1776.0\n",
       "2074     420.0\n",
       "214       14.0\n",
       "347       14.0\n",
       "436       14.0\n",
       "Name: rating_numerator, dtype: float64"
      ]
     },
     "execution_count": 74,
     "metadata": {},
     "output_type": "execute_result"
    }
   ],
   "source": [
    "# TEST:\n",
    "tw_master['rating_numerator'].sort_values(ascending=False).head()"
   ]
  },
  {
   "cell_type": "code",
   "execution_count": 77,
   "metadata": {},
   "outputs": [
    {
     "data": {
      "text/html": [
       "<div>\n",
       "<style>\n",
       "    .dataframe thead tr:only-child th {\n",
       "        text-align: right;\n",
       "    }\n",
       "\n",
       "    .dataframe thead th {\n",
       "        text-align: left;\n",
       "    }\n",
       "\n",
       "    .dataframe tbody tr th {\n",
       "        vertical-align: top;\n",
       "    }\n",
       "</style>\n",
       "<table border=\"1\" class=\"dataframe\">\n",
       "  <thead>\n",
       "    <tr style=\"text-align: right;\">\n",
       "      <th></th>\n",
       "      <th>text</th>\n",
       "      <th>rating_numerator</th>\n",
       "    </tr>\n",
       "  </thead>\n",
       "  <tbody>\n",
       "    <tr>\n",
       "      <th>979</th>\n",
       "      <td>This is Atticus. He's quite simply America af. 1776/10 https://t.co/GRXwMxLBkh</td>\n",
       "      <td>1776.0</td>\n",
       "    </tr>\n",
       "    <tr>\n",
       "      <th>2074</th>\n",
       "      <td>After so many requests... here you go.\\n\\nGood dogg. 420/10 https://t.co/yfAAo1gdeY</td>\n",
       "      <td>420.0</td>\n",
       "    </tr>\n",
       "  </tbody>\n",
       "</table>\n",
       "</div>"
      ],
      "text/plain": [
       "                                                                                     text  \\\n",
       "979        This is Atticus. He's quite simply America af. 1776/10 https://t.co/GRXwMxLBkh   \n",
       "2074  After so many requests... here you go.\\n\\nGood dogg. 420/10 https://t.co/yfAAo1gdeY   \n",
       "\n",
       "      rating_numerator  \n",
       "979             1776.0  \n",
       "2074             420.0  "
      ]
     },
     "execution_count": 77,
     "metadata": {},
     "output_type": "execute_result"
    }
   ],
   "source": [
    "\"\"\"DEFINE: Manually normalize the remaining oultiers (to have standardized data for the analysis)\"\"\"\n",
    " \n",
    "# look at data\n",
    "tw_master.loc[(tw_master['rating_numerator'] > 14), ['text', 'rating_numerator']]\n"
   ]
  },
  {
   "cell_type": "code",
   "execution_count": 78,
   "metadata": {},
   "outputs": [],
   "source": [
    "# CODE: \n",
    "tw_master.loc[979, 'rating_numerator'] = 14 # outlier - set to 'normal' max value\n",
    "tw_master.loc[2074, 'rating_numerator'] = 14 # outlier - set to 'normal' max value"
   ]
  },
  {
   "cell_type": "code",
   "execution_count": 82,
   "metadata": {},
   "outputs": [
    {
     "data": {
      "text/plain": [
       "14.0"
      ]
     },
     "metadata": {},
     "output_type": "display_data"
    }
   ],
   "source": [
    "# TEST:\n",
    "display(tw_master['rating_numerator'].max())"
   ]
  },
  {
   "cell_type": "markdown",
   "metadata": {},
   "source": [
    "## Store Data"
   ]
  },
  {
   "cell_type": "code",
   "execution_count": 83,
   "metadata": {},
   "outputs": [],
   "source": [
    "tw_master.to_csv('data/twitter_archive_master.csv', index=False)\n",
    "tw_predictions.to_csv('data/twitter_predictions.csv', index=False)  # file with additional data, not needed for analysis"
   ]
  },
  {
   "cell_type": "markdown",
   "metadata": {},
   "source": [
    "# Analyze Data"
   ]
  },
  {
   "cell_type": "code",
   "execution_count": 84,
   "metadata": {},
   "outputs": [
    {
     "data": {
      "image/png": "[encoded data removed]",
      "text/plain": [
       "<matplotlib.figure.Figure at 0x7fbaf04b92e8>"
      ]
     },
     "metadata": {},
     "output_type": "display_data"
    }
   ],
   "source": [
    "\"\"\"Print histograms of numerical features\"\"\"\n",
    "\n",
    "def histDF(df, figsize=(16, 16), bins=50, color='rebeccapurple'):\n",
    "    \"\"\"Plots histograms for all numerical columns in DataFrame.\n",
    "    Params\n",
    "        ======\n",
    "            df: DataFrame\n",
    "            figsize: default is (16, 16)\n",
    "            bins: default is 50\n",
    "            color: default is 'rebeccapurple'\n",
    "    \"\"\"\n",
    "    df_num = df.select_dtypes(include = ['float64', 'int64'])\n",
    "    df_num.hist(figsize=figsize, bins=bins, xlabelsize=8, ylabelsize=8, color=color);\n",
    "    return df_num\n",
    "\n",
    "histDF(tw_master);"
   ]
  },
  {
   "cell_type": "markdown",
   "metadata": {},
   "source": [
    "Insights:\n",
    "- most favourite counts < 25'000, further cleaning of outliers would help\n",
    "- rating denominator was well cleaned and could be dropped as column\n",
    "- most dogs are rated between 10-12\n",
    "- retweet count - same issues as with favourite counts"
   ]
  },
  {
   "cell_type": "code",
   "execution_count": 85,
   "metadata": {},
   "outputs": [
    {
     "data": {
      "text/plain": [
       "golden_retriever      136\n",
       "Labrador_retriever     94\n",
       "Pembroke               88\n",
       "Chihuahua              78\n",
       "pug                    54\n",
       "chow                   41\n",
       "Samoyed                40\n",
       "Pomeranian             38\n",
       "toy_poodle             37\n",
       "malamute               29\n",
       "Name: p1, dtype: int64"
      ]
     },
     "execution_count": 85,
     "metadata": {},
     "output_type": "execute_result"
    }
   ],
   "source": [
    "top_breeds = tw_master['p1'].value_counts().head(10)\n",
    "top_breeds"
   ]
  },
  {
   "cell_type": "code",
   "execution_count": 86,
   "metadata": {},
   "outputs": [
    {
     "name": "stdout",
     "output_type": "stream",
     "text": [
      "golden_retriever, average rating score: 11.6470588235\n",
      "Labrador_retriever, average rating score: 11.1276595745\n",
      "Pembroke, average rating score: 11.4431818182\n",
      "Chihuahua, average rating score: 10.6923076923\n",
      "pug, average rating score: 10.2407407407\n",
      "chow, average rating score: 11.6097560976\n",
      "Samoyed, average rating score: 11.7\n",
      "Pomeranian, average rating score: 11.1578947368\n",
      "toy_poodle, average rating score: 11.0540540541\n",
      "malamute, average rating score: 10.8965517241\n"
     ]
    }
   ],
   "source": [
    "for breed in top_breeds.keys():\n",
    "    print(breed + \", average rating score: \" + str(tw_master.loc[tw_master['p1'] == breed]['rating_numerator'].mean()))"
   ]
  },
  {
   "cell_type": "code",
   "execution_count": null,
   "metadata": {},
   "outputs": [],
   "source": []
  }
 ],
 "metadata": {
  "kernelspec": {
   "display_name": "Python [default]",
   "language": "python",
   "name": "python3"
  },
  "language_info": {
   "codemirror_mode": {
    "name": "ipython",
    "version": 3
   },
   "file_extension": ".py",
   "mimetype": "text/x-python",
   "name": "python",
   "nbconvert_exporter": "python",
   "pygments_lexer": "ipython3",
   "version": "3.6.3"
  }
 },
 "nbformat": 4,
 "nbformat_minor": 2
}
